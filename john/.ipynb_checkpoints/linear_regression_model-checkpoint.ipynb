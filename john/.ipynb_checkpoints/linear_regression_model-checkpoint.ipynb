{
 "cells": [
  {
   "cell_type": "markdown",
   "id": "3f160693-a90f-46d3-9007-f5dd5ffcb271",
   "metadata": {},
   "source": [
    "### Read in .csv files to begin removing/adding any model-specific columns"
   ]
  },
  {
   "cell_type": "code",
   "execution_count": 1,
   "id": "00cd0949-d5a1-4c06-b840-1b084099f299",
   "metadata": {},
   "outputs": [],
   "source": [
    "import pandas as pd\n",
    "import numpy as np"
   ]
  },
  {
   "cell_type": "code",
   "execution_count": 2,
   "id": "5c56f66b-b403-45e8-9c81-5bc13e1e23c8",
   "metadata": {},
   "outputs": [
    {
     "name": "stderr",
     "output_type": "stream",
     "text": [
      "C:\\Users\\jsusn\\anaconda3\\envs\\py36\\lib\\site-packages\\IPython\\core\\interactiveshell.py:3072: DtypeWarning: Columns (26) have mixed types.Specify dtype option on import or set low_memory=False.\n",
      "  interactivity=interactivity, compiler=compiler, result=result)\n"
     ]
    }
   ],
   "source": [
    "flights = pd.read_csv('flights_.csv', index_col=0) # the latest flight data, with feature_engineered columns\n",
    "#passengers = pd.read_csv('passengers_jan-dec_18-19.csv') # the latest passenger data"
   ]
  },
  {
   "cell_type": "code",
   "execution_count": 3,
   "id": "d921dae1-3639-449a-bb34-a147dff25d66",
   "metadata": {},
   "outputs": [
    {
     "data": {
      "text/html": [
       "<div>\n",
       "<style scoped>\n",
       "    .dataframe tbody tr th:only-of-type {\n",
       "        vertical-align: middle;\n",
       "    }\n",
       "\n",
       "    .dataframe tbody tr th {\n",
       "        vertical-align: top;\n",
       "    }\n",
       "\n",
       "    .dataframe thead th {\n",
       "        text-align: right;\n",
       "    }\n",
       "</style>\n",
       "<table border=\"1\" class=\"dataframe\">\n",
       "  <thead>\n",
       "    <tr style=\"text-align: right;\">\n",
       "      <th></th>\n",
       "      <th>fl_date</th>\n",
       "      <th>mkt_unique_carrier</th>\n",
       "      <th>branded_code_share</th>\n",
       "      <th>mkt_carrier</th>\n",
       "      <th>mkt_carrier_fl_num</th>\n",
       "      <th>op_unique_carrier</th>\n",
       "      <th>tail_num</th>\n",
       "      <th>op_carrier_fl_num</th>\n",
       "      <th>origin_airport_id</th>\n",
       "      <th>origin</th>\n",
       "      <th>...</th>\n",
       "      <th>origin_wind_speed</th>\n",
       "      <th>origin_visibility</th>\n",
       "      <th>origin_conditions</th>\n",
       "      <th>dest_wind_speed</th>\n",
       "      <th>dest_visibility</th>\n",
       "      <th>dest_conditions</th>\n",
       "      <th>holiday</th>\n",
       "      <th>year</th>\n",
       "      <th>month</th>\n",
       "      <th>scheduled_flight_hour_of_day</th>\n",
       "    </tr>\n",
       "  </thead>\n",
       "  <tbody>\n",
       "    <tr>\n",
       "      <th>60659</th>\n",
       "      <td>2018-01-01</td>\n",
       "      <td>UA</td>\n",
       "      <td>UA</td>\n",
       "      <td>UA</td>\n",
       "      <td>745</td>\n",
       "      <td>UA</td>\n",
       "      <td>N848UA</td>\n",
       "      <td>745</td>\n",
       "      <td>12953</td>\n",
       "      <td>LGA</td>\n",
       "      <td>...</td>\n",
       "      <td>14.8</td>\n",
       "      <td>9.9</td>\n",
       "      <td>Clear</td>\n",
       "      <td>12.3</td>\n",
       "      <td>9.1</td>\n",
       "      <td>Partially cloudy</td>\n",
       "      <td>True</td>\n",
       "      <td>2018</td>\n",
       "      <td>1</td>\n",
       "      <td>14</td>\n",
       "    </tr>\n",
       "    <tr>\n",
       "      <th>23125</th>\n",
       "      <td>2018-01-01</td>\n",
       "      <td>UA</td>\n",
       "      <td>UA_CODESHARE</td>\n",
       "      <td>UA</td>\n",
       "      <td>3582</td>\n",
       "      <td>YX</td>\n",
       "      <td>N649RW</td>\n",
       "      <td>3582</td>\n",
       "      <td>11298</td>\n",
       "      <td>DFW</td>\n",
       "      <td>...</td>\n",
       "      <td>15.0</td>\n",
       "      <td>9.9</td>\n",
       "      <td>Partially cloudy</td>\n",
       "      <td>12.3</td>\n",
       "      <td>9.1</td>\n",
       "      <td>Partially cloudy</td>\n",
       "      <td>True</td>\n",
       "      <td>2018</td>\n",
       "      <td>1</td>\n",
       "      <td>20</td>\n",
       "    </tr>\n",
       "    <tr>\n",
       "      <th>3646</th>\n",
       "      <td>2018-01-01</td>\n",
       "      <td>UA</td>\n",
       "      <td>UA</td>\n",
       "      <td>UA</td>\n",
       "      <td>1591</td>\n",
       "      <td>UA</td>\n",
       "      <td>N87527</td>\n",
       "      <td>1591</td>\n",
       "      <td>11298</td>\n",
       "      <td>DFW</td>\n",
       "      <td>...</td>\n",
       "      <td>15.0</td>\n",
       "      <td>9.9</td>\n",
       "      <td>Partially cloudy</td>\n",
       "      <td>5.6</td>\n",
       "      <td>4.2</td>\n",
       "      <td>Clear</td>\n",
       "      <td>True</td>\n",
       "      <td>2018</td>\n",
       "      <td>1</td>\n",
       "      <td>5</td>\n",
       "    </tr>\n",
       "    <tr>\n",
       "      <th>73558</th>\n",
       "      <td>2018-01-01</td>\n",
       "      <td>WN</td>\n",
       "      <td>WN</td>\n",
       "      <td>WN</td>\n",
       "      <td>5500</td>\n",
       "      <td>WN</td>\n",
       "      <td>N8685B</td>\n",
       "      <td>5500</td>\n",
       "      <td>11292</td>\n",
       "      <td>DEN</td>\n",
       "      <td>...</td>\n",
       "      <td>12.3</td>\n",
       "      <td>9.1</td>\n",
       "      <td>Partially cloudy</td>\n",
       "      <td>14.6</td>\n",
       "      <td>9.9</td>\n",
       "      <td>Partially cloudy</td>\n",
       "      <td>True</td>\n",
       "      <td>2018</td>\n",
       "      <td>1</td>\n",
       "      <td>18</td>\n",
       "    </tr>\n",
       "    <tr>\n",
       "      <th>77601</th>\n",
       "      <td>2018-01-01</td>\n",
       "      <td>WN</td>\n",
       "      <td>WN</td>\n",
       "      <td>WN</td>\n",
       "      <td>415</td>\n",
       "      <td>WN</td>\n",
       "      <td>N8690A</td>\n",
       "      <td>415</td>\n",
       "      <td>12892</td>\n",
       "      <td>LAX</td>\n",
       "      <td>...</td>\n",
       "      <td>5.6</td>\n",
       "      <td>4.2</td>\n",
       "      <td>Clear</td>\n",
       "      <td>12.7</td>\n",
       "      <td>9.9</td>\n",
       "      <td>Clear</td>\n",
       "      <td>True</td>\n",
       "      <td>2018</td>\n",
       "      <td>1</td>\n",
       "      <td>12</td>\n",
       "    </tr>\n",
       "  </tbody>\n",
       "</table>\n",
       "<p>5 rows × 50 columns</p>\n",
       "</div>"
      ],
      "text/plain": [
       "          fl_date mkt_unique_carrier branded_code_share mkt_carrier  \\\n",
       "60659  2018-01-01                 UA                 UA          UA   \n",
       "23125  2018-01-01                 UA       UA_CODESHARE          UA   \n",
       "3646   2018-01-01                 UA                 UA          UA   \n",
       "73558  2018-01-01                 WN                 WN          WN   \n",
       "77601  2018-01-01                 WN                 WN          WN   \n",
       "\n",
       "       mkt_carrier_fl_num op_unique_carrier tail_num  op_carrier_fl_num  \\\n",
       "60659                 745                UA   N848UA                745   \n",
       "23125                3582                YX   N649RW               3582   \n",
       "3646                 1591                UA   N87527               1591   \n",
       "73558                5500                WN   N8685B               5500   \n",
       "77601                 415                WN   N8690A                415   \n",
       "\n",
       "       origin_airport_id origin  ... origin_wind_speed  origin_visibility  \\\n",
       "60659              12953    LGA  ...              14.8                9.9   \n",
       "23125              11298    DFW  ...              15.0                9.9   \n",
       "3646               11298    DFW  ...              15.0                9.9   \n",
       "73558              11292    DEN  ...              12.3                9.1   \n",
       "77601              12892    LAX  ...               5.6                4.2   \n",
       "\n",
       "      origin_conditions dest_wind_speed  dest_visibility   dest_conditions  \\\n",
       "60659             Clear            12.3              9.1  Partially cloudy   \n",
       "23125  Partially cloudy            12.3              9.1  Partially cloudy   \n",
       "3646   Partially cloudy             5.6              4.2             Clear   \n",
       "73558  Partially cloudy            14.6              9.9  Partially cloudy   \n",
       "77601             Clear            12.7              9.9             Clear   \n",
       "\n",
       "       holiday  year  month  scheduled_flight_hour_of_day  \n",
       "60659     True  2018      1                            14  \n",
       "23125     True  2018      1                            20  \n",
       "3646      True  2018      1                             5  \n",
       "73558     True  2018      1                            18  \n",
       "77601     True  2018      1                            12  \n",
       "\n",
       "[5 rows x 50 columns]"
      ]
     },
     "execution_count": 3,
     "metadata": {},
     "output_type": "execute_result"
    }
   ],
   "source": [
    "flights.head()"
   ]
  },
  {
   "cell_type": "markdown",
   "id": "03aa7633-a1ef-4491-ab25-0cd5dbd042f7",
   "metadata": {},
   "source": [
    "### One-Hot encoding for:\n",
    "- weather\n",
    "- origin_city_name and dest_city_name\n",
    "- day_of_week"
   ]
  },
  {
   "cell_type": "code",
   "execution_count": 4,
   "id": "5e4b558e-41a2-47a8-be1e-f976154c4862",
   "metadata": {},
   "outputs": [
    {
     "data": {
      "text/plain": [
       "Index(['fl_date', 'mkt_unique_carrier', 'branded_code_share', 'mkt_carrier',\n",
       "       'mkt_carrier_fl_num', 'op_unique_carrier', 'tail_num',\n",
       "       'op_carrier_fl_num', 'origin_airport_id', 'origin', 'origin_city_name',\n",
       "       'dest_airport_id', 'dest', 'dest_city_name', 'crs_dep_time', 'dep_time',\n",
       "       'dep_delay', 'taxi_out', 'wheels_off', 'wheels_on', 'taxi_in',\n",
       "       'crs_arr_time', 'arr_time', 'arr_delay', 'cancelled',\n",
       "       'cancellation_code', 'diverted', 'crs_elapsed_time',\n",
       "       'actual_elapsed_time', 'air_time', 'distance', 'carrier_delay',\n",
       "       'weather_delay', 'nas_delay', 'security_delay', 'late_aircraft_delay',\n",
       "       'first_dep_time', 'total_add_gtime', 'longest_add_gtime',\n",
       "       'day_of_the_week', 'origin_wind_speed', 'origin_visibility',\n",
       "       'origin_conditions', 'dest_wind_speed', 'dest_visibility',\n",
       "       'dest_conditions', 'holiday', 'year', 'month',\n",
       "       'scheduled_flight_hour_of_day'],\n",
       "      dtype='object')"
      ]
     },
     "execution_count": 4,
     "metadata": {},
     "output_type": "execute_result"
    }
   ],
   "source": [
    "flights.columns"
   ]
  },
  {
   "cell_type": "code",
   "execution_count": 5,
   "id": "1957378c-9f9a-42d4-a62e-a85d3e058c27",
   "metadata": {},
   "outputs": [],
   "source": [
    "dest_conditions = pd.get_dummies(flights['dest_conditions'], prefix='dest')\n",
    "origin_conditions = pd.get_dummies(flights['origin_conditions'], prefix='origin')\n",
    "\n",
    "origin_city_name = pd.get_dummies(flights['origin_city_name'], prefix='origin')\n",
    "dest_city_name = pd.get_dummies(flights['dest_city_name'], prefix='dest')\n",
    "\n",
    "day_of_week = pd.get_dummies(flights['day_of_the_week'])"
   ]
  },
  {
   "cell_type": "code",
   "execution_count": 6,
   "id": "b8a3f3ef-5629-4d97-bbcd-8a6b12e78324",
   "metadata": {},
   "outputs": [],
   "source": [
    "df_flights = pd.concat((flights['year'], flights['month'], day_of_week, origin_city_name, origin_conditions, flights['origin_visibility'], flights['origin_wind_speed'], dest_city_name, dest_conditions, flights['dest_visibility'], flights['dest_wind_speed'], flights['holiday'], flights['arr_delay']), axis=1)"
   ]
  },
  {
   "cell_type": "code",
   "execution_count": 7,
   "id": "569d1de1-b0b2-4d92-b9d1-f1aa13ad74c0",
   "metadata": {},
   "outputs": [],
   "source": [
    "df_flights = df_flights.dropna()"
   ]
  },
  {
   "cell_type": "code",
   "execution_count": null,
   "id": "23df4752-f434-45a4-9100-599108bf6314",
   "metadata": {},
   "outputs": [],
   "source": []
  },
  {
   "cell_type": "code",
   "execution_count": null,
   "id": "4f114824-1adc-4d7f-9584-14bf5d9d72c5",
   "metadata": {},
   "outputs": [],
   "source": []
  },
  {
   "cell_type": "code",
   "execution_count": null,
   "id": "339280e9-db18-42bc-a583-340004b13f43",
   "metadata": {},
   "outputs": [],
   "source": []
  },
  {
   "cell_type": "markdown",
   "id": "9b962211-e610-43e1-a0ab-737a9edcf42f",
   "metadata": {},
   "source": [
    "# Linear Regression\n",
    "### Model-Specific"
   ]
  },
  {
   "cell_type": "code",
   "execution_count": 76,
   "id": "c49fcd43-cf8e-4603-84a0-faebec48923f",
   "metadata": {},
   "outputs": [],
   "source": [
    "import pandas as pd\n",
    "import numpy as np\n",
    "import seaborn as sns\n",
    "import matplotlib.pyplot as plt\n",
    "\n",
    "from sklearn.model_selection import train_test_split\n",
    "from sklearn.model_selection import GridSearchCV\n",
    "from sklearn.model_selection import KFold\n",
    "from sklearn.model_selection import cross_val_score\n",
    "from sklearn.utils import resample,shuffle\n",
    "\n",
    "from sklearn import metrics\n",
    "from sklearn.metrics import log_loss\n",
    "from sklearn.metrics import accuracy_score\n",
    "from sklearn.metrics import precision_score\n",
    "from sklearn.metrics import recall_score\n",
    "from sklearn.metrics import r2_score\n",
    "from sklearn.metrics import roc_auc_score\n",
    "from sklearn.metrics import roc_curve\n",
    "from sklearn.metrics import confusion_matrix\n",
    "from sklearn.metrics import mean_absolute_error\n",
    "from sklearn.metrics import mean_squared_error\n",
    "from sklearn.metrics import precision_recall_curve\n",
    "from sklearn.metrics import f1_score\n",
    "\n",
    "import xgboost as xgb\n",
    "from sklearn.linear_model import LinearRegression, Ridge\n",
    "from sklearn.ensemble import RandomForestRegressor"
   ]
  },
  {
   "cell_type": "code",
   "execution_count": 9,
   "id": "92f0f182-7a6d-4737-88c9-2714d0830761",
   "metadata": {},
   "outputs": [],
   "source": [
    "X = df_flights.drop(columns=['arr_delay'])\n",
    "y = df_flights['arr_delay']"
   ]
  },
  {
   "cell_type": "code",
   "execution_count": 10,
   "id": "b2c9c961-b981-4a1d-9140-167ab67272d2",
   "metadata": {},
   "outputs": [],
   "source": [
    "X_train, X_test, y_train, y_test = train_test_split(X, y, test_size=0.25, random_state=101)"
   ]
  },
  {
   "cell_type": "markdown",
   "id": "55f5ebf9-34ad-4766-8bfa-fbaa6823491b",
   "metadata": {},
   "source": [
    "### Baseline model"
   ]
  },
  {
   "cell_type": "code",
   "execution_count": 11,
   "id": "aab340e1-6f23-46ef-bd37-ea97e4d08b0c",
   "metadata": {},
   "outputs": [
    {
     "data": {
      "text/plain": [
       "LinearRegression()"
      ]
     },
     "execution_count": 11,
     "metadata": {},
     "output_type": "execute_result"
    }
   ],
   "source": [
    "clf = LinearRegression()\n",
    "clf.fit(X_train, y_train)"
   ]
  },
  {
   "cell_type": "code",
   "execution_count": 12,
   "id": "6ae48034-9c8e-468b-8b9d-a5a8a56dab67",
   "metadata": {},
   "outputs": [],
   "source": [
    "y_preds = clf.predict(X_test)"
   ]
  },
  {
   "cell_type": "code",
   "execution_count": 13,
   "id": "b179d60f-8e7c-4cea-925b-0d9ffd70874d",
   "metadata": {},
   "outputs": [
    {
     "data": {
      "text/plain": [
       "0.03995540852806634"
      ]
     },
     "execution_count": 13,
     "metadata": {},
     "output_type": "execute_result"
    }
   ],
   "source": [
    "clf.score(X_test, y_test)"
   ]
  },
  {
   "cell_type": "code",
   "execution_count": 14,
   "id": "54008708-3321-4f3c-9889-59602cc4210e",
   "metadata": {},
   "outputs": [],
   "source": [
    "# can only go up from here"
   ]
  },
  {
   "cell_type": "code",
   "execution_count": 72,
   "id": "08b3ea81-913b-4bba-b861-ccb0776d15f0",
   "metadata": {},
   "outputs": [],
   "source": [
    "xg_reg = xgb.XGBRegressor(objective ='reg:linear')"
   ]
  },
  {
   "cell_type": "code",
   "execution_count": 73,
   "id": "948d5558-9daa-4a81-8d07-dba9f6a5a09b",
   "metadata": {},
   "outputs": [
    {
     "name": "stdout",
     "output_type": "stream",
     "text": [
      "[17:27:02] WARNING: d:\\bld\\xgboost-split_1631904903843\\work\\src\\objective\\regression_obj.cu:171: reg:linear is now deprecated in favor of reg:squarederror.\n"
     ]
    },
    {
     "data": {
      "text/plain": [
       "XGBRegressor(base_score=0.5, booster='gbtree', colsample_bylevel=1,\n",
       "             colsample_bynode=1, colsample_bytree=1, gamma=0, gpu_id=-1,\n",
       "             importance_type='gain', interaction_constraints='',\n",
       "             learning_rate=0.300000012, max_delta_step=0, max_depth=6,\n",
       "             min_child_weight=1, missing=nan, monotone_constraints='()',\n",
       "             n_estimators=100, n_jobs=16, num_parallel_tree=1,\n",
       "             objective='reg:linear', random_state=0, reg_alpha=0, reg_lambda=1,\n",
       "             scale_pos_weight=1, subsample=1, tree_method='exact',\n",
       "             validate_parameters=1, verbosity=None)"
      ]
     },
     "execution_count": 73,
     "metadata": {},
     "output_type": "execute_result"
    }
   ],
   "source": [
    "xg_reg.fit(X_train, y_train)"
   ]
  },
  {
   "cell_type": "code",
   "execution_count": 74,
   "id": "2c3aa75e-4ef2-4996-97b3-311745b8b1c6",
   "metadata": {},
   "outputs": [],
   "source": [
    "y_preds = xg_reg.predict(X_test)"
   ]
  },
  {
   "cell_type": "code",
   "execution_count": 75,
   "id": "16f44298-9033-460f-8c40-82e0b7829d4b",
   "metadata": {},
   "outputs": [
    {
     "data": {
      "text/plain": [
       "0.13055764093736877"
      ]
     },
     "execution_count": 75,
     "metadata": {},
     "output_type": "execute_result"
    }
   ],
   "source": [
    "xg_reg.score(X_test, y_test)"
   ]
  },
  {
   "cell_type": "code",
   "execution_count": 19,
   "id": "04146279-8942-49fd-b484-9b85a282a18a",
   "metadata": {},
   "outputs": [
    {
     "name": "stdout",
     "output_type": "stream",
     "text": [
      "RMSE: 48.098899\n"
     ]
    }
   ],
   "source": [
    "rmse = np.sqrt(mean_squared_error(y_test, y_preds))\n",
    "print(\"RMSE: %f\" % (rmse))"
   ]
  },
  {
   "cell_type": "markdown",
   "id": "b241488c-5e1e-4a71-8e5f-a7c0c9b52776",
   "metadata": {},
   "source": [
    "### Some tweaking"
   ]
  },
  {
   "cell_type": "code",
   "execution_count": null,
   "id": "f5488dc0-971b-4cdc-9d99-22fe0c7b9aba",
   "metadata": {},
   "outputs": [],
   "source": []
  },
  {
   "cell_type": "code",
   "execution_count": 103,
   "id": "1637317c-2fce-46ac-a6ac-cd55d30434d2",
   "metadata": {},
   "outputs": [],
   "source": [
    "xg_reg = xgb.XGBRegressor(objective ='reg:linear', learning_rate = 0.2, max_depth = 7, alpha = 0.1, n_estimators = 100)"
   ]
  },
  {
   "cell_type": "code",
   "execution_count": 104,
   "id": "8ea2972d-05e2-4894-8ea2-8999a1918124",
   "metadata": {},
   "outputs": [
    {
     "name": "stdout",
     "output_type": "stream",
     "text": [
      "[17:31:10] WARNING: d:\\bld\\xgboost-split_1631904903843\\work\\src\\objective\\regression_obj.cu:171: reg:linear is now deprecated in favor of reg:squarederror.\n"
     ]
    },
    {
     "data": {
      "text/plain": [
       "XGBRegressor(alpha=0.1, base_score=0.5, booster='gbtree', colsample_bylevel=1,\n",
       "             colsample_bynode=1, colsample_bytree=1, gamma=0, gpu_id=-1,\n",
       "             importance_type='gain', interaction_constraints='',\n",
       "             learning_rate=0.2, max_delta_step=0, max_depth=6,\n",
       "             min_child_weight=1, missing=nan, monotone_constraints='()',\n",
       "             n_estimators=100, n_jobs=16, num_parallel_tree=1,\n",
       "             objective='reg:linear', random_state=0, reg_alpha=0.100000001,\n",
       "             reg_lambda=1, scale_pos_weight=1, subsample=1, tree_method='exact',\n",
       "             validate_parameters=1, verbosity=None)"
      ]
     },
     "execution_count": 104,
     "metadata": {},
     "output_type": "execute_result"
    }
   ],
   "source": [
    "xg_reg.fit(X_train, y_train)"
   ]
  },
  {
   "cell_type": "code",
   "execution_count": 105,
   "id": "451a44a3-0eab-43f4-82fd-57735bd53077",
   "metadata": {},
   "outputs": [],
   "source": [
    "y_preds = xg_reg.predict(X_test)"
   ]
  },
  {
   "cell_type": "code",
   "execution_count": 106,
   "id": "884ba774-a96b-476e-8e7f-aaf1076c4aea",
   "metadata": {},
   "outputs": [
    {
     "data": {
      "text/plain": [
       "0.13267078544586453"
      ]
     },
     "execution_count": 106,
     "metadata": {},
     "output_type": "execute_result"
    }
   ],
   "source": [
    "xg_reg.score(X_test, y_test)"
   ]
  },
  {
   "cell_type": "code",
   "execution_count": 102,
   "id": "55eb61a1-2795-4d93-804a-9736cf6818ad",
   "metadata": {},
   "outputs": [
    {
     "name": "stdout",
     "output_type": "stream",
     "text": [
      "RMSE: 45.558996\n"
     ]
    }
   ],
   "source": [
    "rmse = np.sqrt(mean_squared_error(y_test, y_preds))\n",
    "print(\"RMSE: %f\" % (rmse))"
   ]
  },
  {
   "cell_type": "markdown",
   "id": "2d2acff8-ee03-4150-8bf7-46de826699b8",
   "metadata": {},
   "source": [
    "### More tweaking..."
   ]
  },
  {
   "cell_type": "code",
   "execution_count": null,
   "id": "10890a83-8d37-4be5-bba5-b531379ba232",
   "metadata": {},
   "outputs": [],
   "source": [
    "params = {\n",
    "        'min_child_weight': [1, 5, 10],\n",
    "        'gamma': [0.5, 1, 1.5, 2, 5],\n",
    "        'subsample': [0.6, 0.8, 1.0],\n",
    "        'colsample_bytree': [0.6, 0.8, 1.0],\n",
    "        'max_depth': [3, 4, 5]\n",
    "        }"
   ]
  },
  {
   "cell_type": "code",
   "execution_count": 107,
   "id": "83118f37-06a5-43e5-95aa-ff12db16d1b2",
   "metadata": {},
   "outputs": [],
   "source": [
    "# https://towardsdatascience.com/doing-xgboost-hyper-parameter-tuning-the-smart-way-part-1-of-2-f6d255a45dde\n",
    "# https://www.analyticsvidhya.com/blog/2016/03/complete-guide-parameter-tuning-xgboost-with-codes-python/"
   ]
  },
  {
   "cell_type": "code",
   "execution_count": null,
   "id": "1ef47bdd-ab2b-4459-8bed-29d13967b654",
   "metadata": {},
   "outputs": [],
   "source": [
    "# grid = GridSearchCV(estimator=xgb, param_grid=params, scoring='score', n_jobs=1, cv=skf.split(X,Y), verbose=3 )\n",
    "# grid.fit(X, Y)\n",
    "# print('\\n All results:')\n",
    "# print(grid.cv_results_)\n",
    "# print('\\n Best estimator:')\n",
    "# print(grid.best_estimator_)\n",
    "# print('\\n Best score:')\n",
    "# print(grid.best_score_ * 2 - 1)\n",
    "# print('\\n Best parameters:')\n",
    "# print(grid.best_params_)\n",
    "# results = pd.DataFrame(grid.cv_results_)\n",
    "# results.to_csv('xgb-grid-search-results-01.csv', index=False)\n",
    "\n",
    "# y_test = grid.best_estimator_.predict_proba(test)\n",
    "# results_df = pd.DataFrame(data={'id':test_df['id'], 'target':y_test[:,1]})\n",
    "# results_df.to_csv('submission-grid-search-xgb-porto-01.csv', index=False)"
   ]
  },
  {
   "cell_type": "code",
   "execution_count": null,
   "id": "27df2c0a-b49a-4313-afe3-f050c7432468",
   "metadata": {},
   "outputs": [],
   "source": []
  },
  {
   "cell_type": "code",
   "execution_count": 25,
   "id": "3d7271d0-2c59-4f82-9cf1-0a4d01d15eeb",
   "metadata": {},
   "outputs": [],
   "source": [
    "#xg_reg = xgb.XGBRegressor(objective ='reg:squarederror', colsample_bytree = 0.3, learning_rate = 0.01, max_depth = 5, alpha = 1, n_estimators = 10000)"
   ]
  },
  {
   "cell_type": "code",
   "execution_count": 26,
   "id": "65706dc2-a610-43cf-9893-ae4a2db49d71",
   "metadata": {},
   "outputs": [
    {
     "data": {
      "text/plain": [
       "XGBRegressor(alpha=1, base_score=0.5, booster='gbtree', colsample_bylevel=1,\n",
       "             colsample_bynode=1, colsample_bytree=0.3, gamma=0, gpu_id=-1,\n",
       "             importance_type='gain', interaction_constraints='',\n",
       "             learning_rate=0.01, max_delta_step=0, max_depth=5,\n",
       "             min_child_weight=1, missing=nan, monotone_constraints='()',\n",
       "             n_estimators=10000, n_jobs=16, num_parallel_tree=1, random_state=0,\n",
       "             reg_alpha=1, reg_lambda=1, scale_pos_weight=1, subsample=1,\n",
       "             tree_method='exact', validate_parameters=1, verbosity=None)"
      ]
     },
     "execution_count": 26,
     "metadata": {},
     "output_type": "execute_result"
    }
   ],
   "source": [
    "xg_reg.fit(X_train, y_train)"
   ]
  },
  {
   "cell_type": "code",
   "execution_count": 27,
   "id": "eddfcf12-5b1c-44d8-a126-5dadab8780fc",
   "metadata": {},
   "outputs": [],
   "source": [
    "y_preds = xg_reg.predict(X_test)"
   ]
  },
  {
   "cell_type": "code",
   "execution_count": 28,
   "id": "04bad1b7-1d53-4c13-a2ba-962e765c3bec",
   "metadata": {},
   "outputs": [
    {
     "data": {
      "text/plain": [
       "0.13612371900916242"
      ]
     },
     "execution_count": 28,
     "metadata": {},
     "output_type": "execute_result"
    }
   ],
   "source": [
    "xg_reg.score(X_test, y_test)"
   ]
  },
  {
   "cell_type": "code",
   "execution_count": 29,
   "id": "991d67f7-4ebb-4a59-9a43-4188ecd8f243",
   "metadata": {},
   "outputs": [
    {
     "name": "stdout",
     "output_type": "stream",
     "text": [
      "RMSE: 45.444143\n"
     ]
    }
   ],
   "source": [
    "rmse = np.sqrt(mean_squared_error(y_test, y_preds))\n",
    "print(\"RMSE: %f\" % (rmse))"
   ]
  },
  {
   "cell_type": "code",
   "execution_count": null,
   "id": "7694aeed-7d27-4378-bc03-2f89b1ead103",
   "metadata": {},
   "outputs": [],
   "source": []
  },
  {
   "cell_type": "code",
   "execution_count": null,
   "id": "2f1b610f-b215-4529-a933-6221d8c0f49c",
   "metadata": {},
   "outputs": [],
   "source": []
  },
  {
   "cell_type": "code",
   "execution_count": null,
   "id": "fa674fe5-be9c-43c9-a2af-9c14dfe3a3de",
   "metadata": {},
   "outputs": [],
   "source": []
  }
 ],
 "metadata": {
  "kernelspec": {
   "display_name": "Python [conda env:py36]",
   "language": "python",
   "name": "conda-env-py36-py"
  },
  "language_info": {
   "codemirror_mode": {
    "name": "ipython",
    "version": 3
   },
   "file_extension": ".py",
   "mimetype": "text/x-python",
   "name": "python",
   "nbconvert_exporter": "python",
   "pygments_lexer": "ipython3",
   "version": "3.6.10"
  }
 },
 "nbformat": 4,
 "nbformat_minor": 5
}
