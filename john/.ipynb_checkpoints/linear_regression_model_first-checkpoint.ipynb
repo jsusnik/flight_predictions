{
 "cells": [
  {
   "cell_type": "markdown",
   "id": "3f160693-a90f-46d3-9007-f5dd5ffcb271",
   "metadata": {},
   "source": [
    "### Read in .csv files to begin removing/adding any model-specific columns"
   ]
  },
  {
   "cell_type": "code",
   "execution_count": 1,
   "id": "00cd0949-d5a1-4c06-b840-1b084099f299",
   "metadata": {},
   "outputs": [],
   "source": [
    "import pandas as pd\n",
    "import numpy as np\n",
    "import statsmodels.api as sm\n",
    "pd.options.display.max_rows = 100\n",
    "pd.options.display.max_columns = 100"
   ]
  },
  {
   "cell_type": "code",
   "execution_count": 2,
   "id": "825ec35f-232a-4bea-ac1a-c029c6ea6684",
   "metadata": {},
   "outputs": [],
   "source": [
    "# Function to calculate VIF\n",
    "def calculate_vif(data):\n",
    "    import statsmodels.api as sm\n",
    "    vif_df = pd.DataFrame(columns = ['Var', 'Vif'])\n",
    "    x_var_names = data.columns\n",
    "    for i in range(0, x_var_names.shape[0]):\n",
    "        y = data[x_var_names[i]]\n",
    "        x = data[x_var_names.drop([x_var_names[i]])]\n",
    "        r_squared = sm.OLS(y,x).fit().rsquared\n",
    "        vif = round(1/(1-r_squared),2)\n",
    "        vif_df.loc[i] = [x_var_names[i], vif]\n",
    "    return vif_df.sort_values(by = 'Vif', axis = 0, ascending=False, inplace=False)"
   ]
  },
  {
   "cell_type": "code",
   "execution_count": 3,
   "id": "5c56f66b-b403-45e8-9c81-5bc13e1e23c8",
   "metadata": {},
   "outputs": [
    {
     "name": "stderr",
     "output_type": "stream",
     "text": [
      "C:\\Users\\jsusn\\anaconda3\\envs\\py36\\lib\\site-packages\\IPython\\core\\interactiveshell.py:3072: DtypeWarning: Columns (26) have mixed types.Specify dtype option on import or set low_memory=False.\n",
      "  interactivity=interactivity, compiler=compiler, result=result)\n"
     ]
    }
   ],
   "source": [
    "flights = pd.read_csv('flights_.csv', index_col=0) # the latest flight data, with feature_engineered columns\n",
    "flights_test = pd.read_csv('test_flights_.csv', index_col=0) # the first 7 days of january 2020, with feature_engineered columns - more feature engineering will take place in this notebook\n",
    "#passengers = pd.read_csv('passengers_jan-dec_18-19.csv') # the latest passenger data"
   ]
  },
  {
   "cell_type": "code",
   "execution_count": 4,
   "id": "d921dae1-3639-449a-bb34-a147dff25d66",
   "metadata": {},
   "outputs": [
    {
     "data": {
      "text/html": [
       "<div>\n",
       "<style scoped>\n",
       "    .dataframe tbody tr th:only-of-type {\n",
       "        vertical-align: middle;\n",
       "    }\n",
       "\n",
       "    .dataframe tbody tr th {\n",
       "        vertical-align: top;\n",
       "    }\n",
       "\n",
       "    .dataframe thead th {\n",
       "        text-align: right;\n",
       "    }\n",
       "</style>\n",
       "<table border=\"1\" class=\"dataframe\">\n",
       "  <thead>\n",
       "    <tr style=\"text-align: right;\">\n",
       "      <th></th>\n",
       "      <th>fl_date</th>\n",
       "      <th>mkt_unique_carrier</th>\n",
       "      <th>branded_code_share</th>\n",
       "      <th>mkt_carrier</th>\n",
       "      <th>mkt_carrier_fl_num</th>\n",
       "      <th>op_unique_carrier</th>\n",
       "      <th>tail_num</th>\n",
       "      <th>op_carrier_fl_num</th>\n",
       "      <th>origin_airport_id</th>\n",
       "      <th>origin</th>\n",
       "      <th>origin_city_name</th>\n",
       "      <th>dest_airport_id</th>\n",
       "      <th>dest</th>\n",
       "      <th>dest_city_name</th>\n",
       "      <th>crs_dep_time</th>\n",
       "      <th>dep_time</th>\n",
       "      <th>dep_delay</th>\n",
       "      <th>taxi_out</th>\n",
       "      <th>wheels_off</th>\n",
       "      <th>wheels_on</th>\n",
       "      <th>taxi_in</th>\n",
       "      <th>crs_arr_time</th>\n",
       "      <th>arr_time</th>\n",
       "      <th>arr_delay</th>\n",
       "      <th>cancelled</th>\n",
       "      <th>cancellation_code</th>\n",
       "      <th>diverted</th>\n",
       "      <th>crs_elapsed_time</th>\n",
       "      <th>actual_elapsed_time</th>\n",
       "      <th>air_time</th>\n",
       "      <th>distance</th>\n",
       "      <th>carrier_delay</th>\n",
       "      <th>weather_delay</th>\n",
       "      <th>nas_delay</th>\n",
       "      <th>security_delay</th>\n",
       "      <th>late_aircraft_delay</th>\n",
       "      <th>first_dep_time</th>\n",
       "      <th>total_add_gtime</th>\n",
       "      <th>longest_add_gtime</th>\n",
       "      <th>day_of_the_week</th>\n",
       "      <th>origin_wind_speed</th>\n",
       "      <th>origin_visibility</th>\n",
       "      <th>origin_conditions</th>\n",
       "      <th>dest_wind_speed</th>\n",
       "      <th>dest_visibility</th>\n",
       "      <th>dest_conditions</th>\n",
       "      <th>holiday</th>\n",
       "      <th>year</th>\n",
       "      <th>month</th>\n",
       "      <th>scheduled_flight_hour_of_day</th>\n",
       "    </tr>\n",
       "  </thead>\n",
       "  <tbody>\n",
       "    <tr>\n",
       "      <th>60659</th>\n",
       "      <td>2018-01-01</td>\n",
       "      <td>UA</td>\n",
       "      <td>UA</td>\n",
       "      <td>UA</td>\n",
       "      <td>745</td>\n",
       "      <td>UA</td>\n",
       "      <td>N848UA</td>\n",
       "      <td>745</td>\n",
       "      <td>12953</td>\n",
       "      <td>LGA</td>\n",
       "      <td>new york</td>\n",
       "      <td>11292</td>\n",
       "      <td>DEN</td>\n",
       "      <td>denver</td>\n",
       "      <td>1453</td>\n",
       "      <td>1440.0</td>\n",
       "      <td>-13.0</td>\n",
       "      <td>15.0</td>\n",
       "      <td>1455.0</td>\n",
       "      <td>1643.0</td>\n",
       "      <td>7.0</td>\n",
       "      <td>1726</td>\n",
       "      <td>1650.0</td>\n",
       "      <td>-36.0</td>\n",
       "      <td>0.0</td>\n",
       "      <td>NaN</td>\n",
       "      <td>0.0</td>\n",
       "      <td>273.0</td>\n",
       "      <td>250.0</td>\n",
       "      <td>228.0</td>\n",
       "      <td>1620.0</td>\n",
       "      <td>NaN</td>\n",
       "      <td>NaN</td>\n",
       "      <td>NaN</td>\n",
       "      <td>NaN</td>\n",
       "      <td>NaN</td>\n",
       "      <td>NaN</td>\n",
       "      <td>NaN</td>\n",
       "      <td>NaN</td>\n",
       "      <td>Monday</td>\n",
       "      <td>14.8</td>\n",
       "      <td>9.9</td>\n",
       "      <td>Clear</td>\n",
       "      <td>12.3</td>\n",
       "      <td>9.1</td>\n",
       "      <td>Partially cloudy</td>\n",
       "      <td>True</td>\n",
       "      <td>2018</td>\n",
       "      <td>1</td>\n",
       "      <td>14</td>\n",
       "    </tr>\n",
       "    <tr>\n",
       "      <th>23125</th>\n",
       "      <td>2018-01-01</td>\n",
       "      <td>UA</td>\n",
       "      <td>UA_CODESHARE</td>\n",
       "      <td>UA</td>\n",
       "      <td>3582</td>\n",
       "      <td>YX</td>\n",
       "      <td>N649RW</td>\n",
       "      <td>3582</td>\n",
       "      <td>11298</td>\n",
       "      <td>DFW</td>\n",
       "      <td>dallas/fort worth</td>\n",
       "      <td>11292</td>\n",
       "      <td>DEN</td>\n",
       "      <td>denver</td>\n",
       "      <td>2016</td>\n",
       "      <td>2005.0</td>\n",
       "      <td>-11.0</td>\n",
       "      <td>13.0</td>\n",
       "      <td>2018.0</td>\n",
       "      <td>2102.0</td>\n",
       "      <td>7.0</td>\n",
       "      <td>2130</td>\n",
       "      <td>2109.0</td>\n",
       "      <td>-21.0</td>\n",
       "      <td>0.0</td>\n",
       "      <td>NaN</td>\n",
       "      <td>0.0</td>\n",
       "      <td>134.0</td>\n",
       "      <td>124.0</td>\n",
       "      <td>104.0</td>\n",
       "      <td>641.0</td>\n",
       "      <td>NaN</td>\n",
       "      <td>NaN</td>\n",
       "      <td>NaN</td>\n",
       "      <td>NaN</td>\n",
       "      <td>NaN</td>\n",
       "      <td>NaN</td>\n",
       "      <td>NaN</td>\n",
       "      <td>NaN</td>\n",
       "      <td>Monday</td>\n",
       "      <td>15.0</td>\n",
       "      <td>9.9</td>\n",
       "      <td>Partially cloudy</td>\n",
       "      <td>12.3</td>\n",
       "      <td>9.1</td>\n",
       "      <td>Partially cloudy</td>\n",
       "      <td>True</td>\n",
       "      <td>2018</td>\n",
       "      <td>1</td>\n",
       "      <td>20</td>\n",
       "    </tr>\n",
       "    <tr>\n",
       "      <th>3646</th>\n",
       "      <td>2018-01-01</td>\n",
       "      <td>UA</td>\n",
       "      <td>UA</td>\n",
       "      <td>UA</td>\n",
       "      <td>1591</td>\n",
       "      <td>UA</td>\n",
       "      <td>N87527</td>\n",
       "      <td>1591</td>\n",
       "      <td>11298</td>\n",
       "      <td>DFW</td>\n",
       "      <td>dallas/fort worth</td>\n",
       "      <td>12892</td>\n",
       "      <td>LAX</td>\n",
       "      <td>los angeles</td>\n",
       "      <td>545</td>\n",
       "      <td>539.0</td>\n",
       "      <td>-6.0</td>\n",
       "      <td>17.0</td>\n",
       "      <td>556.0</td>\n",
       "      <td>656.0</td>\n",
       "      <td>24.0</td>\n",
       "      <td>734</td>\n",
       "      <td>720.0</td>\n",
       "      <td>-14.0</td>\n",
       "      <td>0.0</td>\n",
       "      <td>NaN</td>\n",
       "      <td>0.0</td>\n",
       "      <td>229.0</td>\n",
       "      <td>221.0</td>\n",
       "      <td>180.0</td>\n",
       "      <td>1235.0</td>\n",
       "      <td>NaN</td>\n",
       "      <td>NaN</td>\n",
       "      <td>NaN</td>\n",
       "      <td>NaN</td>\n",
       "      <td>NaN</td>\n",
       "      <td>NaN</td>\n",
       "      <td>NaN</td>\n",
       "      <td>NaN</td>\n",
       "      <td>Monday</td>\n",
       "      <td>15.0</td>\n",
       "      <td>9.9</td>\n",
       "      <td>Partially cloudy</td>\n",
       "      <td>5.6</td>\n",
       "      <td>4.2</td>\n",
       "      <td>Clear</td>\n",
       "      <td>True</td>\n",
       "      <td>2018</td>\n",
       "      <td>1</td>\n",
       "      <td>5</td>\n",
       "    </tr>\n",
       "    <tr>\n",
       "      <th>73558</th>\n",
       "      <td>2018-01-01</td>\n",
       "      <td>WN</td>\n",
       "      <td>WN</td>\n",
       "      <td>WN</td>\n",
       "      <td>5500</td>\n",
       "      <td>WN</td>\n",
       "      <td>N8685B</td>\n",
       "      <td>5500</td>\n",
       "      <td>11292</td>\n",
       "      <td>DEN</td>\n",
       "      <td>denver</td>\n",
       "      <td>10397</td>\n",
       "      <td>ATL</td>\n",
       "      <td>atlanta</td>\n",
       "      <td>1820</td>\n",
       "      <td>1818.0</td>\n",
       "      <td>-2.0</td>\n",
       "      <td>9.0</td>\n",
       "      <td>1827.0</td>\n",
       "      <td>2239.0</td>\n",
       "      <td>8.0</td>\n",
       "      <td>2310</td>\n",
       "      <td>2247.0</td>\n",
       "      <td>-23.0</td>\n",
       "      <td>0.0</td>\n",
       "      <td>NaN</td>\n",
       "      <td>0.0</td>\n",
       "      <td>170.0</td>\n",
       "      <td>149.0</td>\n",
       "      <td>132.0</td>\n",
       "      <td>1199.0</td>\n",
       "      <td>NaN</td>\n",
       "      <td>NaN</td>\n",
       "      <td>NaN</td>\n",
       "      <td>NaN</td>\n",
       "      <td>NaN</td>\n",
       "      <td>NaN</td>\n",
       "      <td>NaN</td>\n",
       "      <td>NaN</td>\n",
       "      <td>Monday</td>\n",
       "      <td>12.3</td>\n",
       "      <td>9.1</td>\n",
       "      <td>Partially cloudy</td>\n",
       "      <td>14.6</td>\n",
       "      <td>9.9</td>\n",
       "      <td>Partially cloudy</td>\n",
       "      <td>True</td>\n",
       "      <td>2018</td>\n",
       "      <td>1</td>\n",
       "      <td>18</td>\n",
       "    </tr>\n",
       "    <tr>\n",
       "      <th>77601</th>\n",
       "      <td>2018-01-01</td>\n",
       "      <td>WN</td>\n",
       "      <td>WN</td>\n",
       "      <td>WN</td>\n",
       "      <td>415</td>\n",
       "      <td>WN</td>\n",
       "      <td>N8690A</td>\n",
       "      <td>415</td>\n",
       "      <td>12892</td>\n",
       "      <td>LAX</td>\n",
       "      <td>los angeles</td>\n",
       "      <td>13232</td>\n",
       "      <td>MDW</td>\n",
       "      <td>chicago</td>\n",
       "      <td>1225</td>\n",
       "      <td>1226.0</td>\n",
       "      <td>1.0</td>\n",
       "      <td>7.0</td>\n",
       "      <td>1233.0</td>\n",
       "      <td>1758.0</td>\n",
       "      <td>4.0</td>\n",
       "      <td>1820</td>\n",
       "      <td>1802.0</td>\n",
       "      <td>-18.0</td>\n",
       "      <td>0.0</td>\n",
       "      <td>NaN</td>\n",
       "      <td>0.0</td>\n",
       "      <td>235.0</td>\n",
       "      <td>216.0</td>\n",
       "      <td>205.0</td>\n",
       "      <td>1750.0</td>\n",
       "      <td>NaN</td>\n",
       "      <td>NaN</td>\n",
       "      <td>NaN</td>\n",
       "      <td>NaN</td>\n",
       "      <td>NaN</td>\n",
       "      <td>NaN</td>\n",
       "      <td>NaN</td>\n",
       "      <td>NaN</td>\n",
       "      <td>Monday</td>\n",
       "      <td>5.6</td>\n",
       "      <td>4.2</td>\n",
       "      <td>Clear</td>\n",
       "      <td>12.7</td>\n",
       "      <td>9.9</td>\n",
       "      <td>Clear</td>\n",
       "      <td>True</td>\n",
       "      <td>2018</td>\n",
       "      <td>1</td>\n",
       "      <td>12</td>\n",
       "    </tr>\n",
       "  </tbody>\n",
       "</table>\n",
       "</div>"
      ],
      "text/plain": [
       "          fl_date mkt_unique_carrier branded_code_share mkt_carrier  \\\n",
       "60659  2018-01-01                 UA                 UA          UA   \n",
       "23125  2018-01-01                 UA       UA_CODESHARE          UA   \n",
       "3646   2018-01-01                 UA                 UA          UA   \n",
       "73558  2018-01-01                 WN                 WN          WN   \n",
       "77601  2018-01-01                 WN                 WN          WN   \n",
       "\n",
       "       mkt_carrier_fl_num op_unique_carrier tail_num  op_carrier_fl_num  \\\n",
       "60659                 745                UA   N848UA                745   \n",
       "23125                3582                YX   N649RW               3582   \n",
       "3646                 1591                UA   N87527               1591   \n",
       "73558                5500                WN   N8685B               5500   \n",
       "77601                 415                WN   N8690A                415   \n",
       "\n",
       "       origin_airport_id origin   origin_city_name  dest_airport_id dest  \\\n",
       "60659              12953    LGA           new york            11292  DEN   \n",
       "23125              11298    DFW  dallas/fort worth            11292  DEN   \n",
       "3646               11298    DFW  dallas/fort worth            12892  LAX   \n",
       "73558              11292    DEN             denver            10397  ATL   \n",
       "77601              12892    LAX        los angeles            13232  MDW   \n",
       "\n",
       "      dest_city_name  crs_dep_time  dep_time  dep_delay  taxi_out  wheels_off  \\\n",
       "60659         denver          1453    1440.0      -13.0      15.0      1455.0   \n",
       "23125         denver          2016    2005.0      -11.0      13.0      2018.0   \n",
       "3646     los angeles           545     539.0       -6.0      17.0       556.0   \n",
       "73558        atlanta          1820    1818.0       -2.0       9.0      1827.0   \n",
       "77601        chicago          1225    1226.0        1.0       7.0      1233.0   \n",
       "\n",
       "       wheels_on  taxi_in  crs_arr_time  arr_time  arr_delay  cancelled  \\\n",
       "60659     1643.0      7.0          1726    1650.0      -36.0        0.0   \n",
       "23125     2102.0      7.0          2130    2109.0      -21.0        0.0   \n",
       "3646       656.0     24.0           734     720.0      -14.0        0.0   \n",
       "73558     2239.0      8.0          2310    2247.0      -23.0        0.0   \n",
       "77601     1758.0      4.0          1820    1802.0      -18.0        0.0   \n",
       "\n",
       "      cancellation_code  diverted  crs_elapsed_time  actual_elapsed_time  \\\n",
       "60659               NaN       0.0             273.0                250.0   \n",
       "23125               NaN       0.0             134.0                124.0   \n",
       "3646                NaN       0.0             229.0                221.0   \n",
       "73558               NaN       0.0             170.0                149.0   \n",
       "77601               NaN       0.0             235.0                216.0   \n",
       "\n",
       "       air_time  distance  carrier_delay  weather_delay  nas_delay  \\\n",
       "60659     228.0    1620.0            NaN            NaN        NaN   \n",
       "23125     104.0     641.0            NaN            NaN        NaN   \n",
       "3646      180.0    1235.0            NaN            NaN        NaN   \n",
       "73558     132.0    1199.0            NaN            NaN        NaN   \n",
       "77601     205.0    1750.0            NaN            NaN        NaN   \n",
       "\n",
       "       security_delay  late_aircraft_delay  first_dep_time  total_add_gtime  \\\n",
       "60659             NaN                  NaN             NaN              NaN   \n",
       "23125             NaN                  NaN             NaN              NaN   \n",
       "3646              NaN                  NaN             NaN              NaN   \n",
       "73558             NaN                  NaN             NaN              NaN   \n",
       "77601             NaN                  NaN             NaN              NaN   \n",
       "\n",
       "       longest_add_gtime day_of_the_week  origin_wind_speed  \\\n",
       "60659                NaN          Monday               14.8   \n",
       "23125                NaN          Monday               15.0   \n",
       "3646                 NaN          Monday               15.0   \n",
       "73558                NaN          Monday               12.3   \n",
       "77601                NaN          Monday                5.6   \n",
       "\n",
       "       origin_visibility origin_conditions  dest_wind_speed  dest_visibility  \\\n",
       "60659                9.9             Clear             12.3              9.1   \n",
       "23125                9.9  Partially cloudy             12.3              9.1   \n",
       "3646                 9.9  Partially cloudy              5.6              4.2   \n",
       "73558                9.1  Partially cloudy             14.6              9.9   \n",
       "77601                4.2             Clear             12.7              9.9   \n",
       "\n",
       "        dest_conditions  holiday  year  month  scheduled_flight_hour_of_day  \n",
       "60659  Partially cloudy     True  2018      1                            14  \n",
       "23125  Partially cloudy     True  2018      1                            20  \n",
       "3646              Clear     True  2018      1                             5  \n",
       "73558  Partially cloudy     True  2018      1                            18  \n",
       "77601             Clear     True  2018      1                            12  "
      ]
     },
     "execution_count": 4,
     "metadata": {},
     "output_type": "execute_result"
    }
   ],
   "source": [
    "flights.head()"
   ]
  },
  {
   "cell_type": "markdown",
   "id": "03aa7633-a1ef-4491-ab25-0cd5dbd042f7",
   "metadata": {},
   "source": [
    "### One-Hot encoding for:\n",
    "- weather\n",
    "- origin_city_name and dest_city_name\n",
    "- day_of_week"
   ]
  },
  {
   "cell_type": "code",
   "execution_count": 5,
   "id": "5e4b558e-41a2-47a8-be1e-f976154c4862",
   "metadata": {},
   "outputs": [
    {
     "data": {
      "text/plain": [
       "Index(['fl_date', 'mkt_unique_carrier', 'branded_code_share', 'mkt_carrier',\n",
       "       'mkt_carrier_fl_num', 'op_unique_carrier', 'tail_num',\n",
       "       'op_carrier_fl_num', 'origin_airport_id', 'origin', 'origin_city_name',\n",
       "       'dest_airport_id', 'dest', 'dest_city_name', 'crs_dep_time', 'dep_time',\n",
       "       'dep_delay', 'taxi_out', 'wheels_off', 'wheels_on', 'taxi_in',\n",
       "       'crs_arr_time', 'arr_time', 'arr_delay', 'cancelled',\n",
       "       'cancellation_code', 'diverted', 'crs_elapsed_time',\n",
       "       'actual_elapsed_time', 'air_time', 'distance', 'carrier_delay',\n",
       "       'weather_delay', 'nas_delay', 'security_delay', 'late_aircraft_delay',\n",
       "       'first_dep_time', 'total_add_gtime', 'longest_add_gtime',\n",
       "       'day_of_the_week', 'origin_wind_speed', 'origin_visibility',\n",
       "       'origin_conditions', 'dest_wind_speed', 'dest_visibility',\n",
       "       'dest_conditions', 'holiday', 'year', 'month',\n",
       "       'scheduled_flight_hour_of_day'],\n",
       "      dtype='object')"
      ]
     },
     "execution_count": 5,
     "metadata": {},
     "output_type": "execute_result"
    }
   ],
   "source": [
    "flights.columns"
   ]
  },
  {
   "cell_type": "markdown",
   "id": "071ed7ee-bb57-4be9-a7ea-22f493a187f3",
   "metadata": {},
   "source": [
    "### Key model columns"
   ]
  },
  {
   "cell_type": "code",
   "execution_count": 6,
   "id": "1957378c-9f9a-42d4-a62e-a85d3e058c27",
   "metadata": {},
   "outputs": [],
   "source": [
    "flights['holiday'] = flights['holiday'].astype(int)\n",
    "    \n",
    "dest_conditions = pd.get_dummies(flights['dest_conditions'], prefix='dest')\n",
    "origin_conditions = pd.get_dummies(flights['origin_conditions'], prefix='origin')\n",
    "   \n",
    "origin_airport_id = pd.get_dummies(flights['origin_airport_id'], prefix='origin')\n",
    "dest_airport_id = pd.get_dummies(flights['dest_airport_id'], prefix='dest')\n",
    "    \n",
    "day_of_week = pd.get_dummies(flights['day_of_the_week'])\n",
    "df_flights = pd.concat((\n",
    "    day_of_week, \n",
    "    origin_airport_id, \n",
    "    origin_conditions, \n",
    "    flights['origin_visibility'], flights['origin_wind_speed'], \n",
    "    dest_airport_id, \n",
    "    dest_conditions, \n",
    "    flights['dest_visibility'], flights['dest_wind_speed'], \n",
    "    flights['holiday'], \n",
    "    flights['scheduled_flight_hour_of_day'], \n",
    "    flights['distance'],\n",
    "    flights['arr_delay'] # target variable        \n",
    "), axis=1)\n",
    "\n",
    "df_flights = df_flights.dropna()"
   ]
  },
  {
   "cell_type": "code",
   "execution_count": 7,
   "id": "99db84b4-4bd6-4a95-a085-1699d2d51161",
   "metadata": {},
   "outputs": [
    {
     "data": {
      "text/plain": [
       "(204676, 61)"
      ]
     },
     "execution_count": 7,
     "metadata": {},
     "output_type": "execute_result"
    }
   ],
   "source": [
    "df_flights.shape"
   ]
  },
  {
   "cell_type": "code",
   "execution_count": 8,
   "id": "b8a3f3ef-5629-4d97-bbcd-8a6b12e78324",
   "metadata": {},
   "outputs": [],
   "source": [
    "# flights['holiday'] = flights['holiday'].astype(int)\n",
    "\n",
    "# dest_conditions = pd.get_dummies(flights['dest_conditions'], prefix='dest')\n",
    "# origin_conditions = pd.get_dummies(flights['origin_conditions'], prefix='origin')\n",
    "\n",
    "# origin_airport_id = pd.get_dummies(flights['origin_airport_id'], prefix='origin')\n",
    "# dest_airport_id = pd.get_dummies(flights['dest_airport_id'], prefix='dest')\n",
    "\n",
    "# day_of_week = pd.get_dummies(flights['day_of_the_week'])\n",
    "\n",
    "# df_flights = pd.concat((\n",
    "#     day_of_week, \n",
    "#     origin_airport_id, \n",
    "#     origin_conditions, \n",
    "#     flights['origin_visibility'], flights['origin_wind_speed'], \n",
    "#     dest_airport_id, \n",
    "#     dest_conditions, \n",
    "#     flights['dest_visibility'], flights['dest_wind_speed'], \n",
    "#     flights['holiday'], \n",
    "#     flights['scheduled_flight_hour_of_day'], \n",
    "#     flights['distance'],\n",
    "#     flights['arr_delay'] # target variable\n",
    "# ), axis=1)\n",
    "\n",
    "# df_flights = df_flights.dropna()"
   ]
  },
  {
   "cell_type": "code",
   "execution_count": 9,
   "id": "23df4752-f434-45a4-9100-599108bf6314",
   "metadata": {},
   "outputs": [],
   "source": [
    "# normalize arr_delay, \n",
    "# remove some weather columns, \n",
    "# change origin_city_name to airport_id, \n",
    "# add in hour of day, \n",
    "# remove year \n",
    "# remove month\n",
    "# add distance\n",
    "#\n",
    "#"
   ]
  },
  {
   "cell_type": "code",
   "execution_count": 10,
   "id": "339280e9-db18-42bc-a583-340004b13f43",
   "metadata": {},
   "outputs": [],
   "source": [
    "# the top 100 values in calue_counts sums up to roughly 97% of all data, which is 3 standard deviations worth\n",
    "# drop anything else\n",
    "\n",
    "# this change did NOT help the model, it made it significantly worse\n",
    "#flights = flights.drop(flights[flights.arr_delay < 82].index)"
   ]
  },
  {
   "cell_type": "markdown",
   "id": "9b962211-e610-43e1-a0ab-737a9edcf42f",
   "metadata": {},
   "source": [
    "# Linear Regression\n",
    "### Model-Specific"
   ]
  },
  {
   "cell_type": "code",
   "execution_count": 11,
   "id": "c49fcd43-cf8e-4603-84a0-faebec48923f",
   "metadata": {},
   "outputs": [],
   "source": [
    "import pandas as pd\n",
    "import numpy as np\n",
    "import seaborn as sns\n",
    "import matplotlib.pyplot as plt\n",
    "\n",
    "from sklearn.model_selection import train_test_split\n",
    "from sklearn.model_selection import GridSearchCV\n",
    "from sklearn.model_selection import KFold\n",
    "from sklearn.model_selection import cross_val_score\n",
    "from sklearn.utils import resample,shuffle\n",
    "from sklearn import preprocessing\n",
    "\n",
    "from sklearn import metrics\n",
    "from sklearn.metrics import log_loss\n",
    "from sklearn.metrics import accuracy_score\n",
    "from sklearn.metrics import precision_score\n",
    "from sklearn.metrics import recall_score\n",
    "from sklearn.metrics import r2_score\n",
    "from sklearn.metrics import roc_auc_score\n",
    "from sklearn.metrics import roc_curve\n",
    "from sklearn.metrics import confusion_matrix\n",
    "from sklearn.metrics import mean_absolute_error\n",
    "from sklearn.metrics import mean_squared_error\n",
    "from sklearn.metrics import precision_recall_curve\n",
    "from sklearn.metrics import f1_score\n",
    "\n",
    "import xgboost as xgb\n",
    "from sklearn.linear_model import LinearRegression, Ridge\n",
    "from sklearn.ensemble import RandomForestRegressor"
   ]
  },
  {
   "cell_type": "code",
   "execution_count": 12,
   "id": "f36d9a0c-066c-4c0a-b78f-653123a2abcd",
   "metadata": {},
   "outputs": [],
   "source": [
    "X = df_flights.drop(columns=['arr_delay'])\n",
    "y = df_flights['arr_delay']\n",
    "X_train, X_test, y_train, y_test = train_test_split(X, y, test_size=0.25, random_state=101)"
   ]
  },
  {
   "cell_type": "markdown",
   "id": "55f5ebf9-34ad-4766-8bfa-fbaa6823491b",
   "metadata": {},
   "source": [
    "### Baseline model"
   ]
  },
  {
   "cell_type": "code",
   "execution_count": 13,
   "id": "aab340e1-6f23-46ef-bd37-ea97e4d08b0c",
   "metadata": {},
   "outputs": [
    {
     "data": {
      "text/plain": [
       "LinearRegression()"
      ]
     },
     "execution_count": 13,
     "metadata": {},
     "output_type": "execute_result"
    }
   ],
   "source": [
    "clf = LinearRegression()\n",
    "clf.fit(X_train, y_train)"
   ]
  },
  {
   "cell_type": "code",
   "execution_count": 14,
   "id": "6ae48034-9c8e-468b-8b9d-a5a8a56dab67",
   "metadata": {},
   "outputs": [],
   "source": [
    "y_preds = clf.predict(X_test)"
   ]
  },
  {
   "cell_type": "code",
   "execution_count": 15,
   "id": "b179d60f-8e7c-4cea-925b-0d9ffd70874d",
   "metadata": {},
   "outputs": [
    {
     "data": {
      "text/plain": [
       "0.04587233022949233"
      ]
     },
     "execution_count": 15,
     "metadata": {},
     "output_type": "execute_result"
    }
   ],
   "source": [
    "clf.score(X_test, y_test)"
   ]
  },
  {
   "cell_type": "code",
   "execution_count": 16,
   "id": "54008708-3321-4f3c-9889-59602cc4210e",
   "metadata": {},
   "outputs": [],
   "source": [
    "# can only go up from here"
   ]
  },
  {
   "cell_type": "code",
   "execution_count": 17,
   "id": "08b3ea81-913b-4bba-b861-ccb0776d15f0",
   "metadata": {},
   "outputs": [],
   "source": [
    "xg_reg = xgb.XGBRegressor(objective ='reg:linear',  random_state = 101)"
   ]
  },
  {
   "cell_type": "code",
   "execution_count": 18,
   "id": "948d5558-9daa-4a81-8d07-dba9f6a5a09b",
   "metadata": {},
   "outputs": [
    {
     "name": "stdout",
     "output_type": "stream",
     "text": [
      "[20:15:31] WARNING: d:\\bld\\xgboost-split_1631904903843\\work\\src\\objective\\regression_obj.cu:171: reg:linear is now deprecated in favor of reg:squarederror.\n"
     ]
    },
    {
     "data": {
      "text/plain": [
       "XGBRegressor(base_score=0.5, booster='gbtree', colsample_bylevel=1,\n",
       "             colsample_bynode=1, colsample_bytree=1, gamma=0, gpu_id=-1,\n",
       "             importance_type='gain', interaction_constraints='',\n",
       "             learning_rate=0.300000012, max_delta_step=0, max_depth=6,\n",
       "             min_child_weight=1, missing=nan, monotone_constraints='()',\n",
       "             n_estimators=100, n_jobs=16, num_parallel_tree=1,\n",
       "             objective='reg:linear', random_state=101, reg_alpha=0,\n",
       "             reg_lambda=1, scale_pos_weight=1, subsample=1, tree_method='exact',\n",
       "             validate_parameters=1, verbosity=None)"
      ]
     },
     "execution_count": 18,
     "metadata": {},
     "output_type": "execute_result"
    }
   ],
   "source": [
    "xg_reg.fit(X_train, y_train)"
   ]
  },
  {
   "cell_type": "code",
   "execution_count": 19,
   "id": "2c3aa75e-4ef2-4996-97b3-311745b8b1c6",
   "metadata": {},
   "outputs": [],
   "source": [
    "y_preds = xg_reg.predict(X_test)"
   ]
  },
  {
   "cell_type": "code",
   "execution_count": 20,
   "id": "16f44298-9033-460f-8c40-82e0b7829d4b",
   "metadata": {},
   "outputs": [
    {
     "data": {
      "text/plain": [
       "0.16338748480016008"
      ]
     },
     "execution_count": 20,
     "metadata": {},
     "output_type": "execute_result"
    }
   ],
   "source": [
    "xg_reg.score(X_test, y_test)"
   ]
  },
  {
   "cell_type": "code",
   "execution_count": 21,
   "id": "04146279-8942-49fd-b484-9b85a282a18a",
   "metadata": {},
   "outputs": [
    {
     "name": "stdout",
     "output_type": "stream",
     "text": [
      "RMSE: 44.721290\n"
     ]
    }
   ],
   "source": [
    "rmse = np.sqrt(mean_squared_error(y_test, y_preds))\n",
    "print(\"RMSE: %f\" % (rmse))"
   ]
  },
  {
   "cell_type": "markdown",
   "id": "b241488c-5e1e-4a71-8e5f-a7c0c9b52776",
   "metadata": {},
   "source": [
    "### Some tweaking"
   ]
  },
  {
   "cell_type": "code",
   "execution_count": 22,
   "id": "5500fd08-4a72-40f6-9c01-4800dae0f3e3",
   "metadata": {},
   "outputs": [
    {
     "name": "stdout",
     "output_type": "stream",
     "text": [
      "R^2: 0.18396905433901267\n",
      "RMSE: 44.167768\n"
     ]
    }
   ],
   "source": [
    "def run_xg_reg():\n",
    "    '''\n",
    "    This function calls the (currently) best XGB model to generate results.\n",
    "    This function helps speed up the tuning process.\n",
    "    '''\n",
    "    \n",
    "    xg_reg = xgb.XGBRegressor(objective ='reg:squarederror', learning_rate = 0.3, max_depth = 6, reg_alpha = 0.0001, n_estimators = 100, reg_lambda = 5, random_state = 101)\n",
    "    xg_reg.fit(X_train, y_train)\n",
    "    y_preds = xg_reg.predict(X_test)\n",
    "    print(f'R^2: {xg_reg.score(X_test, y_test)}')\n",
    "    rmse = np.sqrt(mean_squared_error(y_test, y_preds))\n",
    "    print(\"RMSE: %f\" % (rmse))\n",
    "    return y_preds\n",
    "y_preds = run_xg_reg()"
   ]
  },
  {
   "cell_type": "code",
   "execution_count": null,
   "id": "8b71dd5f-e2df-40b4-92ef-d2fb45bed8d5",
   "metadata": {},
   "outputs": [],
   "source": []
  },
  {
   "cell_type": "code",
   "execution_count": 23,
   "id": "4c5acf4a-842d-4486-afd0-ba91b7a48988",
   "metadata": {},
   "outputs": [],
   "source": [
    "#calculate_vif(df_flights)"
   ]
  },
  {
   "cell_type": "markdown",
   "id": "f23b2c55-e4fa-4af2-a7b5-5ca0ad4a9c31",
   "metadata": {},
   "source": [
    "### Dealing with multicollinearity:\n",
    "https://www.analyticsvidhya.com/blog/2020/03/one-hot-encoding-vs-label-encoding-using-scikit-learn/\n",
    "\n",
    "- Dropping one of the one-hot labels to try and avoid \"inf.\" for variance inflation "
   ]
  },
  {
   "cell_type": "code",
   "execution_count": 24,
   "id": "66d9d939-ba6f-4621-8bf6-d9c9689667d7",
   "metadata": {},
   "outputs": [],
   "source": [
    "columns_to_drop = [\n",
    "    'Sunday', \n",
    "    'origin_10397', \n",
    "    'dest_10397', \n",
    "    'dest_Clear', \n",
    "    'origin_Clear' \n",
    "]"
   ]
  },
  {
   "cell_type": "code",
   "execution_count": 25,
   "id": "c6807ec4-f6b4-4263-b748-ac1b92f903b8",
   "metadata": {},
   "outputs": [],
   "source": [
    "df_flights = df_flights.drop(columns=columns_to_drop)"
   ]
  },
  {
   "cell_type": "code",
   "execution_count": 26,
   "id": "e2b5d931-bc50-4863-a7c5-7ab1fe35736c",
   "metadata": {},
   "outputs": [],
   "source": [
    "#calculate_vif(df_flights)"
   ]
  },
  {
   "cell_type": "code",
   "execution_count": 27,
   "id": "0f8fdbf4-f20e-4d25-bb05-2fcceb0cff6a",
   "metadata": {},
   "outputs": [],
   "source": [
    "X = df_flights.drop(columns=['arr_delay'])\n",
    "y = df_flights['arr_delay']\n",
    "X_train, X_test, y_train, y_test = train_test_split(X, y, test_size=0.25, random_state=101)"
   ]
  },
  {
   "cell_type": "code",
   "execution_count": 28,
   "id": "aa86c347-2a52-44d2-ba6d-2eb61da67968",
   "metadata": {},
   "outputs": [],
   "source": [
    "xg_reg = xgb.XGBRegressor(objective ='reg:squarederror', learning_rate = 0.3, max_depth = 6, reg_alpha = 0.0001, n_estimators = 100, reg_lambda = 5, random_state = 101)"
   ]
  },
  {
   "cell_type": "code",
   "execution_count": 29,
   "id": "2737b45f-41aa-4142-8af7-c88147b85e8c",
   "metadata": {},
   "outputs": [
    {
     "data": {
      "text/plain": [
       "XGBRegressor(base_score=0.5, booster='gbtree', colsample_bylevel=1,\n",
       "             colsample_bynode=1, colsample_bytree=1, gamma=0, gpu_id=-1,\n",
       "             importance_type='gain', interaction_constraints='',\n",
       "             learning_rate=0.3, max_delta_step=0, max_depth=6,\n",
       "             min_child_weight=1, missing=nan, monotone_constraints='()',\n",
       "             n_estimators=100, n_jobs=16, num_parallel_tree=1, random_state=101,\n",
       "             reg_alpha=0.0001, reg_lambda=5, scale_pos_weight=1, subsample=1,\n",
       "             tree_method='exact', validate_parameters=1, verbosity=None)"
      ]
     },
     "execution_count": 29,
     "metadata": {},
     "output_type": "execute_result"
    }
   ],
   "source": [
    "xg_reg.fit(X_train, y_train)"
   ]
  },
  {
   "cell_type": "code",
   "execution_count": 30,
   "id": "42ada841-8bdf-4284-af8e-9cbbe05cb13d",
   "metadata": {},
   "outputs": [],
   "source": [
    "y_preds = xg_reg.predict(X_test)"
   ]
  },
  {
   "cell_type": "code",
   "execution_count": 31,
   "id": "7d1af3e2-3a12-489a-b957-ed8d080b8d0c",
   "metadata": {},
   "outputs": [
    {
     "name": "stdout",
     "output_type": "stream",
     "text": [
      "R^2: 0.17516517635140028\n"
     ]
    }
   ],
   "source": [
    "print(f'R^2: {xg_reg.score(X_test, y_test)}')"
   ]
  },
  {
   "cell_type": "code",
   "execution_count": 32,
   "id": "7f5469ef-c86c-43ec-b284-bcc9a291d1a9",
   "metadata": {},
   "outputs": [
    {
     "name": "stdout",
     "output_type": "stream",
     "text": [
      "RMSE: 44.405385\n"
     ]
    }
   ],
   "source": [
    "rmse = np.sqrt(mean_squared_error(y_test, y_preds))\n",
    "print(\"RMSE: %f\" % (rmse))"
   ]
  },
  {
   "cell_type": "markdown",
   "id": "41573b9e-7677-4603-8791-4e6e761fe4ca",
   "metadata": {},
   "source": [
    "### Let's try dropping some other columns instead..."
   ]
  },
  {
   "cell_type": "code",
   "execution_count": 33,
   "id": "a8aaec71-3a15-4bcf-9d48-548f35e150e9",
   "metadata": {},
   "outputs": [],
   "source": [
    "df_flights = pd.concat((\n",
    "    day_of_week, \n",
    "    origin_airport_id, \n",
    "    origin_conditions, \n",
    "    flights['origin_visibility'], flights['origin_wind_speed'], \n",
    "    dest_airport_id, \n",
    "    dest_conditions, \n",
    "    flights['dest_visibility'], flights['dest_wind_speed'], \n",
    "    flights['holiday'], \n",
    "    flights['scheduled_flight_hour_of_day'], \n",
    "    flights['distance'],\n",
    "    flights['arr_delay'] # target variable\n",
    "), axis=1)\n",
    "\n",
    "df_flights = df_flights.dropna()"
   ]
  },
  {
   "cell_type": "code",
   "execution_count": 34,
   "id": "0a6d5ca2-7429-4eed-9db2-904d3e0c888d",
   "metadata": {},
   "outputs": [],
   "source": [
    "columns_to_drop = [\n",
    "    'Tuesday', \n",
    "    'origin_11057', \n",
    "    'dest_11057', \n",
    "    'origin_Partially cloudy', \n",
    "    'dest_Partially cloudy' \n",
    "]"
   ]
  },
  {
   "cell_type": "code",
   "execution_count": 35,
   "id": "7cc8addd-420b-4458-9e93-f0202c3e4432",
   "metadata": {},
   "outputs": [],
   "source": [
    "df_flights = df_flights.drop(columns=columns_to_drop)"
   ]
  },
  {
   "cell_type": "code",
   "execution_count": 36,
   "id": "f15c6a61-aa43-4596-9683-f9fe9bbd82d2",
   "metadata": {},
   "outputs": [
    {
     "data": {
      "text/plain": [
       "(204676, 56)"
      ]
     },
     "execution_count": 36,
     "metadata": {},
     "output_type": "execute_result"
    }
   ],
   "source": [
    "df_flights.shape"
   ]
  },
  {
   "cell_type": "code",
   "execution_count": 37,
   "id": "d32c4290-8c50-4fc6-ab7f-79500488b988",
   "metadata": {},
   "outputs": [],
   "source": [
    "#calculate_vif(df_flights)"
   ]
  },
  {
   "cell_type": "code",
   "execution_count": 38,
   "id": "ccb08ab5-08ca-4e47-94da-ff386dd7e307",
   "metadata": {},
   "outputs": [],
   "source": [
    "X = df_flights.drop(columns=['arr_delay'])\n",
    "y = df_flights['arr_delay']\n",
    "X_train, X_test, y_train, y_test = train_test_split(X, y, test_size=0.25, random_state=101)"
   ]
  },
  {
   "cell_type": "code",
   "execution_count": 39,
   "id": "f2c7ca01-ce96-49f0-bf24-fabe13ac964f",
   "metadata": {},
   "outputs": [
    {
     "name": "stdout",
     "output_type": "stream",
     "text": [
      "R^2: 0.18411488307938428\n",
      "RMSE: 44.163822\n"
     ]
    }
   ],
   "source": [
    "xg_reg = xgb.XGBRegressor(objective ='reg:squarederror', learning_rate = 0.3, max_depth = 6, reg_alpha = 0.0001, n_estimators = 100, reg_lambda = 5, random_state = 101)\n",
    "xg_reg.fit(X_train, y_train)\n",
    "y_preds = xg_reg.predict(X_test)\n",
    "print(f'R^2: {xg_reg.score(X_test, y_test)}')\n",
    "rmse = np.sqrt(mean_squared_error(y_test, y_preds))\n",
    "print(\"RMSE: %f\" % (rmse))"
   ]
  },
  {
   "cell_type": "markdown",
   "id": "d8a8ac95-752c-49b0-a0d2-88151207e56e",
   "metadata": {},
   "source": [
    "# Predict the test set"
   ]
  },
  {
   "cell_type": "code",
   "execution_count": 40,
   "id": "25354557-268a-4bfc-96d5-5cba94bca27a",
   "metadata": {},
   "outputs": [
    {
     "data": {
      "text/html": [
       "<div>\n",
       "<style scoped>\n",
       "    .dataframe tbody tr th:only-of-type {\n",
       "        vertical-align: middle;\n",
       "    }\n",
       "\n",
       "    .dataframe tbody tr th {\n",
       "        vertical-align: top;\n",
       "    }\n",
       "\n",
       "    .dataframe thead th {\n",
       "        text-align: right;\n",
       "    }\n",
       "</style>\n",
       "<table border=\"1\" class=\"dataframe\">\n",
       "  <thead>\n",
       "    <tr style=\"text-align: right;\">\n",
       "      <th></th>\n",
       "      <th>fl_date</th>\n",
       "      <th>mkt_unique_carrier</th>\n",
       "      <th>branded_code_share</th>\n",
       "      <th>mkt_carrier</th>\n",
       "      <th>mkt_carrier_fl_num</th>\n",
       "      <th>op_unique_carrier</th>\n",
       "      <th>tail_num</th>\n",
       "      <th>op_carrier_fl_num</th>\n",
       "      <th>origin_airport_id</th>\n",
       "      <th>origin</th>\n",
       "      <th>origin_city_name</th>\n",
       "      <th>dest_airport_id</th>\n",
       "      <th>dest</th>\n",
       "      <th>dest_city_name</th>\n",
       "      <th>crs_dep_time</th>\n",
       "      <th>crs_arr_time</th>\n",
       "      <th>dup</th>\n",
       "      <th>crs_elapsed_time</th>\n",
       "      <th>flights</th>\n",
       "      <th>distance</th>\n",
       "      <th>origin_wind_speed</th>\n",
       "      <th>origin_visibility</th>\n",
       "      <th>origin_conditions</th>\n",
       "      <th>dest_wind_speed</th>\n",
       "      <th>dest_visibility</th>\n",
       "      <th>dest_conditions</th>\n",
       "      <th>holiday</th>\n",
       "      <th>day_of_the_week</th>\n",
       "      <th>year</th>\n",
       "      <th>month</th>\n",
       "      <th>scheduled_flight_hour_of_day</th>\n",
       "    </tr>\n",
       "  </thead>\n",
       "  <tbody>\n",
       "    <tr>\n",
       "      <th>0</th>\n",
       "      <td>2020-01-01</td>\n",
       "      <td>WN</td>\n",
       "      <td>WN</td>\n",
       "      <td>WN</td>\n",
       "      <td>3947</td>\n",
       "      <td>WN</td>\n",
       "      <td>N8580Z</td>\n",
       "      <td>3947</td>\n",
       "      <td>14107</td>\n",
       "      <td>PHX</td>\n",
       "      <td>phoenix</td>\n",
       "      <td>10397</td>\n",
       "      <td>ATL</td>\n",
       "      <td>atlanta</td>\n",
       "      <td>815</td>\n",
       "      <td>1350</td>\n",
       "      <td>N</td>\n",
       "      <td>215</td>\n",
       "      <td>1</td>\n",
       "      <td>1587</td>\n",
       "      <td>8.2</td>\n",
       "      <td>9.9</td>\n",
       "      <td>Partially cloudy</td>\n",
       "      <td>12.0</td>\n",
       "      <td>9.9</td>\n",
       "      <td>Clear</td>\n",
       "      <td>True</td>\n",
       "      <td>Wednesday</td>\n",
       "      <td>2020</td>\n",
       "      <td>1</td>\n",
       "      <td>8</td>\n",
       "    </tr>\n",
       "    <tr>\n",
       "      <th>1037</th>\n",
       "      <td>2020-01-01</td>\n",
       "      <td>AA</td>\n",
       "      <td>AA</td>\n",
       "      <td>AA</td>\n",
       "      <td>1678</td>\n",
       "      <td>AA</td>\n",
       "      <td>N274AY</td>\n",
       "      <td>1678</td>\n",
       "      <td>11057</td>\n",
       "      <td>CLT</td>\n",
       "      <td>charlotte</td>\n",
       "      <td>14107</td>\n",
       "      <td>PHX</td>\n",
       "      <td>phoenix</td>\n",
       "      <td>733</td>\n",
       "      <td>1024</td>\n",
       "      <td>N</td>\n",
       "      <td>291</td>\n",
       "      <td>1</td>\n",
       "      <td>1773</td>\n",
       "      <td>8.6</td>\n",
       "      <td>9.9</td>\n",
       "      <td>Partially cloudy</td>\n",
       "      <td>8.2</td>\n",
       "      <td>9.9</td>\n",
       "      <td>Partially cloudy</td>\n",
       "      <td>True</td>\n",
       "      <td>Wednesday</td>\n",
       "      <td>2020</td>\n",
       "      <td>1</td>\n",
       "      <td>7</td>\n",
       "    </tr>\n",
       "    <tr>\n",
       "      <th>1036</th>\n",
       "      <td>2020-01-01</td>\n",
       "      <td>AA</td>\n",
       "      <td>AA</td>\n",
       "      <td>AA</td>\n",
       "      <td>1676</td>\n",
       "      <td>AA</td>\n",
       "      <td>N991AN</td>\n",
       "      <td>1676</td>\n",
       "      <td>13930</td>\n",
       "      <td>ORD</td>\n",
       "      <td>chicago</td>\n",
       "      <td>11057</td>\n",
       "      <td>CLT</td>\n",
       "      <td>charlotte</td>\n",
       "      <td>1158</td>\n",
       "      <td>1455</td>\n",
       "      <td>N</td>\n",
       "      <td>117</td>\n",
       "      <td>1</td>\n",
       "      <td>599</td>\n",
       "      <td>19.6</td>\n",
       "      <td>9.9</td>\n",
       "      <td>Snow, Partially cloudy</td>\n",
       "      <td>8.6</td>\n",
       "      <td>9.9</td>\n",
       "      <td>Partially cloudy</td>\n",
       "      <td>True</td>\n",
       "      <td>Wednesday</td>\n",
       "      <td>2020</td>\n",
       "      <td>1</td>\n",
       "      <td>11</td>\n",
       "    </tr>\n",
       "    <tr>\n",
       "      <th>1035</th>\n",
       "      <td>2020-01-01</td>\n",
       "      <td>AA</td>\n",
       "      <td>AA</td>\n",
       "      <td>AA</td>\n",
       "      <td>1674</td>\n",
       "      <td>AA</td>\n",
       "      <td>N982VJ</td>\n",
       "      <td>1674</td>\n",
       "      <td>11057</td>\n",
       "      <td>CLT</td>\n",
       "      <td>charlotte</td>\n",
       "      <td>12892</td>\n",
       "      <td>LAX</td>\n",
       "      <td>los angeles</td>\n",
       "      <td>801</td>\n",
       "      <td>1040</td>\n",
       "      <td>N</td>\n",
       "      <td>339</td>\n",
       "      <td>1</td>\n",
       "      <td>2125</td>\n",
       "      <td>8.6</td>\n",
       "      <td>9.9</td>\n",
       "      <td>Partially cloudy</td>\n",
       "      <td>7.5</td>\n",
       "      <td>9.5</td>\n",
       "      <td>Clear</td>\n",
       "      <td>True</td>\n",
       "      <td>Wednesday</td>\n",
       "      <td>2020</td>\n",
       "      <td>1</td>\n",
       "      <td>8</td>\n",
       "    </tr>\n",
       "    <tr>\n",
       "      <th>1034</th>\n",
       "      <td>2020-01-01</td>\n",
       "      <td>AA</td>\n",
       "      <td>AA</td>\n",
       "      <td>AA</td>\n",
       "      <td>1668</td>\n",
       "      <td>AA</td>\n",
       "      <td>N901NN</td>\n",
       "      <td>1668</td>\n",
       "      <td>11057</td>\n",
       "      <td>CLT</td>\n",
       "      <td>charlotte</td>\n",
       "      <td>13930</td>\n",
       "      <td>ORD</td>\n",
       "      <td>chicago</td>\n",
       "      <td>724</td>\n",
       "      <td>842</td>\n",
       "      <td>N</td>\n",
       "      <td>138</td>\n",
       "      <td>1</td>\n",
       "      <td>599</td>\n",
       "      <td>8.6</td>\n",
       "      <td>9.9</td>\n",
       "      <td>Partially cloudy</td>\n",
       "      <td>19.6</td>\n",
       "      <td>9.9</td>\n",
       "      <td>Snow, Partially cloudy</td>\n",
       "      <td>True</td>\n",
       "      <td>Wednesday</td>\n",
       "      <td>2020</td>\n",
       "      <td>1</td>\n",
       "      <td>7</td>\n",
       "    </tr>\n",
       "  </tbody>\n",
       "</table>\n",
       "</div>"
      ],
      "text/plain": [
       "         fl_date mkt_unique_carrier branded_code_share mkt_carrier  \\\n",
       "0     2020-01-01                 WN                 WN          WN   \n",
       "1037  2020-01-01                 AA                 AA          AA   \n",
       "1036  2020-01-01                 AA                 AA          AA   \n",
       "1035  2020-01-01                 AA                 AA          AA   \n",
       "1034  2020-01-01                 AA                 AA          AA   \n",
       "\n",
       "      mkt_carrier_fl_num op_unique_carrier tail_num  op_carrier_fl_num  \\\n",
       "0                   3947                WN   N8580Z               3947   \n",
       "1037                1678                AA   N274AY               1678   \n",
       "1036                1676                AA   N991AN               1676   \n",
       "1035                1674                AA   N982VJ               1674   \n",
       "1034                1668                AA   N901NN               1668   \n",
       "\n",
       "      origin_airport_id origin origin_city_name  dest_airport_id dest  \\\n",
       "0                 14107    PHX          phoenix            10397  ATL   \n",
       "1037              11057    CLT        charlotte            14107  PHX   \n",
       "1036              13930    ORD          chicago            11057  CLT   \n",
       "1035              11057    CLT        charlotte            12892  LAX   \n",
       "1034              11057    CLT        charlotte            13930  ORD   \n",
       "\n",
       "     dest_city_name  crs_dep_time  crs_arr_time dup  crs_elapsed_time  \\\n",
       "0           atlanta           815          1350   N               215   \n",
       "1037        phoenix           733          1024   N               291   \n",
       "1036      charlotte          1158          1455   N               117   \n",
       "1035    los angeles           801          1040   N               339   \n",
       "1034        chicago           724           842   N               138   \n",
       "\n",
       "      flights  distance  origin_wind_speed  origin_visibility  \\\n",
       "0           1      1587                8.2                9.9   \n",
       "1037        1      1773                8.6                9.9   \n",
       "1036        1       599               19.6                9.9   \n",
       "1035        1      2125                8.6                9.9   \n",
       "1034        1       599                8.6                9.9   \n",
       "\n",
       "           origin_conditions  dest_wind_speed  dest_visibility  \\\n",
       "0           Partially cloudy             12.0              9.9   \n",
       "1037        Partially cloudy              8.2              9.9   \n",
       "1036  Snow, Partially cloudy              8.6              9.9   \n",
       "1035        Partially cloudy              7.5              9.5   \n",
       "1034        Partially cloudy             19.6              9.9   \n",
       "\n",
       "             dest_conditions  holiday day_of_the_week  year  month  \\\n",
       "0                      Clear     True       Wednesday  2020      1   \n",
       "1037        Partially cloudy     True       Wednesday  2020      1   \n",
       "1036        Partially cloudy     True       Wednesday  2020      1   \n",
       "1035                   Clear     True       Wednesday  2020      1   \n",
       "1034  Snow, Partially cloudy     True       Wednesday  2020      1   \n",
       "\n",
       "      scheduled_flight_hour_of_day  \n",
       "0                                8  \n",
       "1037                             7  \n",
       "1036                            11  \n",
       "1035                             8  \n",
       "1034                             7  "
      ]
     },
     "execution_count": 40,
     "metadata": {},
     "output_type": "execute_result"
    }
   ],
   "source": [
    "flights_test.head()"
   ]
  },
  {
   "cell_type": "code",
   "execution_count": 41,
   "id": "7c5cfaed-591e-48a1-8482-b07e8dd58615",
   "metadata": {},
   "outputs": [],
   "source": [
    "flights_test['holiday'] = flights_test['holiday'].astype(int)\n",
    "    \n",
    "dest_conditions = pd.get_dummies(flights_test['dest_conditions'], prefix='dest')\n",
    "origin_conditions = pd.get_dummies(flights_test['origin_conditions'], prefix='origin')\n",
    "   \n",
    "origin_airport_id = pd.get_dummies(flights_test['origin_airport_id'], prefix='origin')\n",
    "dest_airport_id = pd.get_dummies(flights_test['dest_airport_id'], prefix='dest')\n",
    "    \n",
    "day_of_week = pd.get_dummies(flights_test['day_of_the_week'])\n",
    "df_flights_test = pd.concat((\n",
    "    day_of_week, \n",
    "    origin_airport_id, \n",
    "    origin_conditions, \n",
    "    flights_test['origin_visibility'], flights_test['origin_wind_speed'], \n",
    "    dest_airport_id, \n",
    "    dest_conditions, \n",
    "    flights_test['dest_visibility'], flights_test['dest_wind_speed'], \n",
    "    flights_test['holiday'], \n",
    "    flights_test['scheduled_flight_hour_of_day'], \n",
    "    flights_test['distance'],\n",
    "    #flights_test['arr_delay'] # target variable - NOT IN TEST SET       \n",
    "), axis=1)\n",
    "\n",
    "df_flights_test = df_flights_test.dropna()"
   ]
  },
  {
   "cell_type": "code",
   "execution_count": 42,
   "id": "ae4d82b2-b52c-4e5b-88ee-3b94ec30eb4b",
   "metadata": {},
   "outputs": [],
   "source": [
    "columns_to_drop = [\n",
    "    'Tuesday', \n",
    "    'origin_11057', \n",
    "    'dest_11057', \n",
    "    'origin_Partially cloudy', \n",
    "    'dest_Partially cloudy' \n",
    "]"
   ]
  },
  {
   "cell_type": "code",
   "execution_count": 43,
   "id": "7f243817-e630-4940-987d-ea15fe232493",
   "metadata": {},
   "outputs": [],
   "source": [
    "df_flights_test = df_flights_test.drop(columns=columns_to_drop)"
   ]
  },
  {
   "cell_type": "code",
   "execution_count": 44,
   "id": "2f1b610f-b215-4529-a933-6221d8c0f49c",
   "metadata": {},
   "outputs": [],
   "source": [
    "# NOTE************************\n",
    "# I comment this out because this step takes a while, \n",
    "# I believe there's a better way to implement this but for now this works\n",
    "#\n",
    "\n",
    "route_info = []\n",
    "sep = '_'\n",
    "\n",
    "# iterate over the entire dataframe, constructing the route_info\n",
    "for i in range(len(flights_test[['origin_airport_id', 'dest_airport_id']])):\n",
    "    route_info.append(str(flights_test.iloc[i].origin_airport_id) + sep + str(flights_test.iloc[i].dest_airport_id))\n",
    "\n",
    "flights_test['route_info'] = pd.DataFrame(route_info)"
   ]
  },
  {
   "cell_type": "code",
   "execution_count": 45,
   "id": "fa674fe5-be9c-43c9-a2af-9c14dfe3a3de",
   "metadata": {},
   "outputs": [
    {
     "name": "stdout",
     "output_type": "stream",
     "text": [
      "There are 156 routes total.\n"
     ]
    }
   ],
   "source": [
    "# CREATE LIST OF ALL ROUTES (IN OUR DATASET)\n",
    "route_info_list = []\n",
    "\n",
    "for i in flights_test['route_info'].unique():\n",
    "    route_info_list.append(i)\n",
    "\n",
    "#print(route_info_list)\n",
    "print(f'There are {len(route_info_list)} routes total.')"
   ]
  },
  {
   "cell_type": "markdown",
   "id": "9ebda8ed-b685-44d2-a44a-3302a56176b5",
   "metadata": {},
   "source": [
    "### Need to fix flights_test data to have consistent airports as original training set."
   ]
  },
  {
   "cell_type": "code",
   "execution_count": 46,
   "id": "4e4ab030-4b61-4126-a0c7-75bdeba753ff",
   "metadata": {},
   "outputs": [
    {
     "data": {
      "text/plain": [
       "chicago              1579\n",
       "new york             1462\n",
       "atlanta              1339\n",
       "los angeles          1277\n",
       "houston              1135\n",
       "washington           1125\n",
       "denver               1101\n",
       "dallas/fort worth    1050\n",
       "phoenix               876\n",
       "charlotte             795\n",
       "Name: origin_city_name, dtype: int64"
      ]
     },
     "execution_count": 46,
     "metadata": {},
     "output_type": "execute_result"
    }
   ],
   "source": [
    "flights_test.origin_city_name.value_counts()"
   ]
  },
  {
   "cell_type": "code",
   "execution_count": 47,
   "id": "0b2853fb-891c-4447-b69e-78657accce73",
   "metadata": {},
   "outputs": [
    {
     "data": {
      "text/plain": [
       "chicago              28872\n",
       "new york             28729\n",
       "atlanta              23996\n",
       "los angeles          23132\n",
       "washington           21214\n",
       "houston              18727\n",
       "dallas/fort worth    18451\n",
       "denver               17935\n",
       "charlotte            14050\n",
       "seattle              12166\n",
       "Name: origin_city_name, dtype: int64"
      ]
     },
     "execution_count": 47,
     "metadata": {},
     "output_type": "execute_result"
    }
   ],
   "source": [
    "flights.origin_city_name.value_counts()"
   ]
  },
  {
   "cell_type": "code",
   "execution_count": null,
   "id": "17f1cc26-346a-4e8f-8995-708f6b423f8c",
   "metadata": {},
   "outputs": [],
   "source": []
  }
 ],
 "metadata": {
  "kernelspec": {
   "display_name": "Python [conda env:py36]",
   "language": "python",
   "name": "conda-env-py36-py"
  },
  "language_info": {
   "codemirror_mode": {
    "name": "ipython",
    "version": 3
   },
   "file_extension": ".py",
   "mimetype": "text/x-python",
   "name": "python",
   "nbconvert_exporter": "python",
   "pygments_lexer": "ipython3",
   "version": "3.6.10"
  }
 },
 "nbformat": 4,
 "nbformat_minor": 5
}
