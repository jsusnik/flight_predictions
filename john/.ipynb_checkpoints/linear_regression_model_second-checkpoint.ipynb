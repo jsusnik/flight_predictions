{
 "cells": [
  {
   "cell_type": "markdown",
   "id": "3f160693-a90f-46d3-9007-f5dd5ffcb271",
   "metadata": {},
   "source": [
    "### Read in .csv files to begin removing/adding any model-specific columns"
   ]
  },
  {
   "cell_type": "code",
   "execution_count": 1,
   "id": "00cd0949-d5a1-4c06-b840-1b084099f299",
   "metadata": {},
   "outputs": [],
   "source": [
    "import pandas as pd\n",
    "import numpy as np\n",
    "import statsmodels.api as sm\n",
    "pd.options.display.max_rows = 100"
   ]
  },
  {
   "cell_type": "code",
   "execution_count": 2,
   "id": "5c56f66b-b403-45e8-9c81-5bc13e1e23c8",
   "metadata": {},
   "outputs": [
    {
     "name": "stderr",
     "output_type": "stream",
     "text": [
      "C:\\Users\\jsusn\\anaconda3\\envs\\py36\\lib\\site-packages\\IPython\\core\\interactiveshell.py:3072: DtypeWarning: Columns (26) have mixed types.Specify dtype option on import or set low_memory=False.\n",
      "  interactivity=interactivity, compiler=compiler, result=result)\n"
     ]
    }
   ],
   "source": [
    "flights = pd.read_csv('flights_.csv', index_col=0) # the latest flight data, with feature_engineered columns\n",
    "#passengers = pd.read_csv('passengers_jan-dec_18-19.csv') # the latest passenger data"
   ]
  },
  {
   "cell_type": "code",
   "execution_count": 3,
   "id": "d921dae1-3639-449a-bb34-a147dff25d66",
   "metadata": {},
   "outputs": [
    {
     "data": {
      "text/html": [
       "<div>\n",
       "<style scoped>\n",
       "    .dataframe tbody tr th:only-of-type {\n",
       "        vertical-align: middle;\n",
       "    }\n",
       "\n",
       "    .dataframe tbody tr th {\n",
       "        vertical-align: top;\n",
       "    }\n",
       "\n",
       "    .dataframe thead th {\n",
       "        text-align: right;\n",
       "    }\n",
       "</style>\n",
       "<table border=\"1\" class=\"dataframe\">\n",
       "  <thead>\n",
       "    <tr style=\"text-align: right;\">\n",
       "      <th></th>\n",
       "      <th>fl_date</th>\n",
       "      <th>mkt_unique_carrier</th>\n",
       "      <th>branded_code_share</th>\n",
       "      <th>mkt_carrier</th>\n",
       "      <th>mkt_carrier_fl_num</th>\n",
       "      <th>op_unique_carrier</th>\n",
       "      <th>tail_num</th>\n",
       "      <th>op_carrier_fl_num</th>\n",
       "      <th>origin_airport_id</th>\n",
       "      <th>origin</th>\n",
       "      <th>...</th>\n",
       "      <th>origin_wind_speed</th>\n",
       "      <th>origin_visibility</th>\n",
       "      <th>origin_conditions</th>\n",
       "      <th>dest_wind_speed</th>\n",
       "      <th>dest_visibility</th>\n",
       "      <th>dest_conditions</th>\n",
       "      <th>holiday</th>\n",
       "      <th>year</th>\n",
       "      <th>month</th>\n",
       "      <th>scheduled_flight_hour_of_day</th>\n",
       "    </tr>\n",
       "  </thead>\n",
       "  <tbody>\n",
       "    <tr>\n",
       "      <th>60659</th>\n",
       "      <td>2018-01-01</td>\n",
       "      <td>UA</td>\n",
       "      <td>UA</td>\n",
       "      <td>UA</td>\n",
       "      <td>745</td>\n",
       "      <td>UA</td>\n",
       "      <td>N848UA</td>\n",
       "      <td>745</td>\n",
       "      <td>12953</td>\n",
       "      <td>LGA</td>\n",
       "      <td>...</td>\n",
       "      <td>14.8</td>\n",
       "      <td>9.9</td>\n",
       "      <td>Clear</td>\n",
       "      <td>12.3</td>\n",
       "      <td>9.1</td>\n",
       "      <td>Partially cloudy</td>\n",
       "      <td>True</td>\n",
       "      <td>2018</td>\n",
       "      <td>1</td>\n",
       "      <td>14</td>\n",
       "    </tr>\n",
       "    <tr>\n",
       "      <th>23125</th>\n",
       "      <td>2018-01-01</td>\n",
       "      <td>UA</td>\n",
       "      <td>UA_CODESHARE</td>\n",
       "      <td>UA</td>\n",
       "      <td>3582</td>\n",
       "      <td>YX</td>\n",
       "      <td>N649RW</td>\n",
       "      <td>3582</td>\n",
       "      <td>11298</td>\n",
       "      <td>DFW</td>\n",
       "      <td>...</td>\n",
       "      <td>15.0</td>\n",
       "      <td>9.9</td>\n",
       "      <td>Partially cloudy</td>\n",
       "      <td>12.3</td>\n",
       "      <td>9.1</td>\n",
       "      <td>Partially cloudy</td>\n",
       "      <td>True</td>\n",
       "      <td>2018</td>\n",
       "      <td>1</td>\n",
       "      <td>20</td>\n",
       "    </tr>\n",
       "    <tr>\n",
       "      <th>3646</th>\n",
       "      <td>2018-01-01</td>\n",
       "      <td>UA</td>\n",
       "      <td>UA</td>\n",
       "      <td>UA</td>\n",
       "      <td>1591</td>\n",
       "      <td>UA</td>\n",
       "      <td>N87527</td>\n",
       "      <td>1591</td>\n",
       "      <td>11298</td>\n",
       "      <td>DFW</td>\n",
       "      <td>...</td>\n",
       "      <td>15.0</td>\n",
       "      <td>9.9</td>\n",
       "      <td>Partially cloudy</td>\n",
       "      <td>5.6</td>\n",
       "      <td>4.2</td>\n",
       "      <td>Clear</td>\n",
       "      <td>True</td>\n",
       "      <td>2018</td>\n",
       "      <td>1</td>\n",
       "      <td>5</td>\n",
       "    </tr>\n",
       "    <tr>\n",
       "      <th>73558</th>\n",
       "      <td>2018-01-01</td>\n",
       "      <td>WN</td>\n",
       "      <td>WN</td>\n",
       "      <td>WN</td>\n",
       "      <td>5500</td>\n",
       "      <td>WN</td>\n",
       "      <td>N8685B</td>\n",
       "      <td>5500</td>\n",
       "      <td>11292</td>\n",
       "      <td>DEN</td>\n",
       "      <td>...</td>\n",
       "      <td>12.3</td>\n",
       "      <td>9.1</td>\n",
       "      <td>Partially cloudy</td>\n",
       "      <td>14.6</td>\n",
       "      <td>9.9</td>\n",
       "      <td>Partially cloudy</td>\n",
       "      <td>True</td>\n",
       "      <td>2018</td>\n",
       "      <td>1</td>\n",
       "      <td>18</td>\n",
       "    </tr>\n",
       "    <tr>\n",
       "      <th>77601</th>\n",
       "      <td>2018-01-01</td>\n",
       "      <td>WN</td>\n",
       "      <td>WN</td>\n",
       "      <td>WN</td>\n",
       "      <td>415</td>\n",
       "      <td>WN</td>\n",
       "      <td>N8690A</td>\n",
       "      <td>415</td>\n",
       "      <td>12892</td>\n",
       "      <td>LAX</td>\n",
       "      <td>...</td>\n",
       "      <td>5.6</td>\n",
       "      <td>4.2</td>\n",
       "      <td>Clear</td>\n",
       "      <td>12.7</td>\n",
       "      <td>9.9</td>\n",
       "      <td>Clear</td>\n",
       "      <td>True</td>\n",
       "      <td>2018</td>\n",
       "      <td>1</td>\n",
       "      <td>12</td>\n",
       "    </tr>\n",
       "  </tbody>\n",
       "</table>\n",
       "<p>5 rows × 50 columns</p>\n",
       "</div>"
      ],
      "text/plain": [
       "          fl_date mkt_unique_carrier branded_code_share mkt_carrier  \\\n",
       "60659  2018-01-01                 UA                 UA          UA   \n",
       "23125  2018-01-01                 UA       UA_CODESHARE          UA   \n",
       "3646   2018-01-01                 UA                 UA          UA   \n",
       "73558  2018-01-01                 WN                 WN          WN   \n",
       "77601  2018-01-01                 WN                 WN          WN   \n",
       "\n",
       "       mkt_carrier_fl_num op_unique_carrier tail_num  op_carrier_fl_num  \\\n",
       "60659                 745                UA   N848UA                745   \n",
       "23125                3582                YX   N649RW               3582   \n",
       "3646                 1591                UA   N87527               1591   \n",
       "73558                5500                WN   N8685B               5500   \n",
       "77601                 415                WN   N8690A                415   \n",
       "\n",
       "       origin_airport_id origin  ... origin_wind_speed  origin_visibility  \\\n",
       "60659              12953    LGA  ...              14.8                9.9   \n",
       "23125              11298    DFW  ...              15.0                9.9   \n",
       "3646               11298    DFW  ...              15.0                9.9   \n",
       "73558              11292    DEN  ...              12.3                9.1   \n",
       "77601              12892    LAX  ...               5.6                4.2   \n",
       "\n",
       "      origin_conditions dest_wind_speed  dest_visibility   dest_conditions  \\\n",
       "60659             Clear            12.3              9.1  Partially cloudy   \n",
       "23125  Partially cloudy            12.3              9.1  Partially cloudy   \n",
       "3646   Partially cloudy             5.6              4.2             Clear   \n",
       "73558  Partially cloudy            14.6              9.9  Partially cloudy   \n",
       "77601             Clear            12.7              9.9             Clear   \n",
       "\n",
       "       holiday  year  month  scheduled_flight_hour_of_day  \n",
       "60659     True  2018      1                            14  \n",
       "23125     True  2018      1                            20  \n",
       "3646      True  2018      1                             5  \n",
       "73558     True  2018      1                            18  \n",
       "77601     True  2018      1                            12  \n",
       "\n",
       "[5 rows x 50 columns]"
      ]
     },
     "execution_count": 3,
     "metadata": {},
     "output_type": "execute_result"
    }
   ],
   "source": [
    "flights.head()"
   ]
  },
  {
   "cell_type": "markdown",
   "id": "03aa7633-a1ef-4491-ab25-0cd5dbd042f7",
   "metadata": {},
   "source": [
    "### One-Hot encoding for:\n",
    "- weather\n",
    "- origin_city_name and dest_city_name\n",
    "- day_of_week"
   ]
  },
  {
   "cell_type": "code",
   "execution_count": 4,
   "id": "5e4b558e-41a2-47a8-be1e-f976154c4862",
   "metadata": {},
   "outputs": [
    {
     "data": {
      "text/plain": [
       "Index(['fl_date', 'mkt_unique_carrier', 'branded_code_share', 'mkt_carrier',\n",
       "       'mkt_carrier_fl_num', 'op_unique_carrier', 'tail_num',\n",
       "       'op_carrier_fl_num', 'origin_airport_id', 'origin', 'origin_city_name',\n",
       "       'dest_airport_id', 'dest', 'dest_city_name', 'crs_dep_time', 'dep_time',\n",
       "       'dep_delay', 'taxi_out', 'wheels_off', 'wheels_on', 'taxi_in',\n",
       "       'crs_arr_time', 'arr_time', 'arr_delay', 'cancelled',\n",
       "       'cancellation_code', 'diverted', 'crs_elapsed_time',\n",
       "       'actual_elapsed_time', 'air_time', 'distance', 'carrier_delay',\n",
       "       'weather_delay', 'nas_delay', 'security_delay', 'late_aircraft_delay',\n",
       "       'first_dep_time', 'total_add_gtime', 'longest_add_gtime',\n",
       "       'day_of_the_week', 'origin_wind_speed', 'origin_visibility',\n",
       "       'origin_conditions', 'dest_wind_speed', 'dest_visibility',\n",
       "       'dest_conditions', 'holiday', 'year', 'month',\n",
       "       'scheduled_flight_hour_of_day'],\n",
       "      dtype='object')"
      ]
     },
     "execution_count": 4,
     "metadata": {},
     "output_type": "execute_result"
    }
   ],
   "source": [
    "flights.columns"
   ]
  },
  {
   "cell_type": "code",
   "execution_count": 5,
   "id": "a0dd970f-eeb2-41a9-90c6-fc81d2d85219",
   "metadata": {},
   "outputs": [],
   "source": [
    "flights['holiday'] = flights['holiday'].astype(int)"
   ]
  },
  {
   "cell_type": "markdown",
   "id": "6b177bc9-36b7-49d5-a95f-b948bbf39e8b",
   "metadata": {},
   "source": [
    "### Let's change weather to just 3 columns: Cloudy, Rain, Snow, with a 1 in each column to indicate its presence"
   ]
  },
  {
   "cell_type": "code",
   "execution_count": 6,
   "id": "dcc6d3f9-e096-4783-9597-ea70c976a4c2",
   "metadata": {},
   "outputs": [
    {
     "data": {
      "text/plain": [
       "Partially cloudy          59331\n",
       "Clear                     49185\n",
       "Rain, Overcast            32634\n",
       "Rain, Partially cloudy    25616\n",
       "Overcast                  18239\n",
       "Snow, Partially cloudy     7111\n",
       "Rain                       5316\n",
       "Snow, Overcast             5088\n",
       "Snow                       4752\n",
       "Name: origin_conditions, dtype: int64"
      ]
     },
     "execution_count": 6,
     "metadata": {},
     "output_type": "execute_result"
    }
   ],
   "source": [
    "flights['origin_conditions'].value_counts()"
   ]
  },
  {
   "cell_type": "code",
   "execution_count": 7,
   "id": "fb06f36d-bee7-4a78-bac8-7bc5a64ea93d",
   "metadata": {},
   "outputs": [],
   "source": []
  },
  {
   "cell_type": "code",
   "execution_count": 8,
   "id": "4b4f229d-a7cc-4fda-b49c-2b4c9c0c1a0c",
   "metadata": {},
   "outputs": [],
   "source": []
  },
  {
   "cell_type": "code",
   "execution_count": 9,
   "id": "871e1f5d-519a-464e-b998-4acde2fc724e",
   "metadata": {},
   "outputs": [],
   "source": [
    "# We want to change \"Rain, Overcast\" to Rain = 1, Cloudy = 1\n",
    "flights['origin_rain'] = 0\n",
    "flights['origin_cloudy'] = 0\n",
    "flights['origin_snow'] = 0\n",
    "flights['dest_rain'] = 0\n",
    "flights['dest_cloudy'] = 0\n",
    "flights['dest_snow'] = 0\n",
    "\n",
    "# go through each condition, setting all 3 relevant columns\n",
    "# there is probably a better way but i know this will work for now...\n",
    "\n",
    "flights.loc[flights['origin_conditions'] == 'Partially cloudy', 'origin_rain'] = 0\n",
    "flights.loc[flights['origin_conditions'] == 'Partially cloudy', 'origin_cloudy'] = 0.5\n",
    "flights.loc[flights['origin_conditions'] == 'Partially cloudy', 'origin_snow'] = 0\n",
    "flights.loc[flights['dest_conditions'] == 'Partially cloudy', 'dest_rain'] = 0\n",
    "flights.loc[flights['dest_conditions'] == 'Partially cloudy', 'dest_cloudy'] = 0.5\n",
    "flights.loc[flights['dest_conditions'] == 'Partially cloudy', 'dest_snow'] = 0\n",
    "\n",
    "flights.loc[flights['origin_conditions'] == 'Clear', 'origin_rain'] = 0\n",
    "flights.loc[flights['origin_conditions'] == 'Clear', 'origin_cloudy'] = 0\n",
    "flights.loc[flights['origin_conditions'] == 'Clear', 'origin_snow'] = 0\n",
    "flights.loc[flights['dest_conditions'] == 'Clear', 'dest_rain'] = 0\n",
    "flights.loc[flights['dest_conditions'] == 'Clear', 'dest_cloudy'] = 0\n",
    "flights.loc[flights['dest_conditions'] == 'Clear', 'dest_snow'] = 0\n",
    "\n",
    "flights.loc[flights['origin_conditions'] == 'Rain, Overcast', 'origin_rain'] = 1\n",
    "flights.loc[flights['origin_conditions'] == 'Rain, Overcast', 'origin_cloudy'] = 1\n",
    "flights.loc[flights['origin_conditions'] == 'Rain, Overcast', 'origin_snow'] = 0\n",
    "flights.loc[flights['dest_conditions'] == 'Rain, Overcast', 'dest_rain'] = 1\n",
    "flights.loc[flights['dest_conditions'] == 'Rain, Overcast', 'dest_cloudy'] = 1\n",
    "flights.loc[flights['dest_conditions'] == 'Rain, Overcast', 'dest_snow'] = 0\n",
    "\n",
    "flights.loc[flights['origin_conditions'] == 'Rain, Partially cloudy', 'origin_rain'] = 1\n",
    "flights.loc[flights['origin_conditions'] == 'Rain, Partially cloudy', 'origin_cloudy'] = 0.5\n",
    "flights.loc[flights['origin_conditions'] == 'Rain, Partially cloudy', 'origin_snow'] = 0\n",
    "flights.loc[flights['dest_conditions'] == 'Rain, Partially cloudy', 'dest_rain'] = 1\n",
    "flights.loc[flights['dest_conditions'] == 'Rain, Partially cloudy', 'dest_cloudy'] = 0.5\n",
    "flights.loc[flights['dest_conditions'] == 'Rain, Partially cloudy', 'dest_snow'] = 0\n",
    "\n",
    "flights.loc[flights['origin_conditions'] == 'Overcast', 'origin_rain'] = 0\n",
    "flights.loc[flights['origin_conditions'] == 'Overcast', 'origin_cloudy'] = 1\n",
    "flights.loc[flights['origin_conditions'] == 'Overcast', 'origin_snow'] = 0\n",
    "flights.loc[flights['dest_conditions'] == 'Overcast', 'dest_rain'] = 0\n",
    "flights.loc[flights['dest_conditions'] == 'Overcast', 'dest_cloudy'] = 1\n",
    "flights.loc[flights['dest_conditions'] == 'Overcast', 'dest_snow'] = 0\n",
    "\n",
    "flights.loc[flights['origin_conditions'] == 'Snow, Partially cloudy', 'origin_rain'] = 0\n",
    "flights.loc[flights['origin_conditions'] == 'Snow, Partially cloudy', 'origin_cloudy'] = 0.5\n",
    "flights.loc[flights['origin_conditions'] == 'Snow, Partially cloudy', 'origin_snow'] = 1\n",
    "flights.loc[flights['dest_conditions'] == 'Snow, Partially cloudy', 'dest_rain'] = 0\n",
    "flights.loc[flights['dest_conditions'] == 'Snow, Partially cloudy', 'dest_cloudy'] = 0.5\n",
    "flights.loc[flights['dest_conditions'] == 'Snow, Partially cloudy', 'dest_snow'] = 1\n",
    "\n",
    "flights.loc[flights['origin_conditions'] == 'Rain', 'origin_rain'] = 1\n",
    "flights.loc[flights['origin_conditions'] == 'Rain', 'origin_cloudy'] = 0\n",
    "flights.loc[flights['origin_conditions'] == 'Rain', 'origin_snow'] = 0\n",
    "flights.loc[flights['dest_conditions'] == 'Rain', 'dest_rain'] = 1\n",
    "flights.loc[flights['dest_conditions'] == 'Rain', 'dest_cloudy'] = 0\n",
    "flights.loc[flights['dest_conditions'] == 'Rain', 'dest_snow'] = 0\n",
    "\n",
    "flights.loc[flights['origin_conditions'] == 'Snow, Overcast', 'origin_rain'] = 0\n",
    "flights.loc[flights['origin_conditions'] == 'Snow, Overcast', 'origin_cloudy'] = 1\n",
    "flights.loc[flights['origin_conditions'] == 'Snow, Overcast', 'origin_snow'] = 1\n",
    "flights.loc[flights['dest_conditions'] == 'Snow, Overcast', 'dest_rain'] = 0\n",
    "flights.loc[flights['dest_conditions'] == 'Snow, Overcast', 'dest_cloudy'] = 1\n",
    "flights.loc[flights['dest_conditions'] == 'Snow, Overcast', 'dest_snow'] = 1\n",
    "\n",
    "flights.loc[flights['origin_conditions'] == 'Snow', 'origin_rain'] = 0\n",
    "flights.loc[flights['origin_conditions'] == 'Snow', 'origin_cloudy'] = 0\n",
    "flights.loc[flights['origin_conditions'] == 'Snow', 'origin_snow'] = 1\n",
    "flights.loc[flights['dest_conditions'] == 'Snow', 'dest_rain'] = 0\n",
    "flights.loc[flights['dest_conditions'] == 'Snow', 'dest_cloudy'] = 0\n",
    "flights.loc[flights['dest_conditions'] == 'Snow', 'dest_snow'] = 1\n",
    "\n",
    "flights = flights.drop(columns=['origin_conditions', 'dest_conditions'])"
   ]
  },
  {
   "cell_type": "code",
   "execution_count": 11,
   "id": "1957378c-9f9a-42d4-a62e-a85d3e058c27",
   "metadata": {},
   "outputs": [],
   "source": [
    "#dest_conditions = pd.get_dummies(flights['dest_conditions'], prefix='dest')\n",
    "#origin_conditions = pd.get_dummies(flights['origin_conditions'], prefix='origin')\n",
    "\n",
    "origin_airport_id = pd.get_dummies(flights['origin_airport_id'], prefix='origin')\n",
    "dest_airport_id = pd.get_dummies(flights['dest_airport_id'], prefix='dest')\n",
    "\n",
    "day_of_week = pd.get_dummies(flights['day_of_the_week'])"
   ]
  },
  {
   "cell_type": "code",
   "execution_count": 42,
   "id": "d9ebd3a7-702f-4eae-af64-bfd5e3bd6841",
   "metadata": {},
   "outputs": [],
   "source": [
    "# include NEW weather columns\n",
    "df_flights = pd.concat((\n",
    "    day_of_week, \n",
    "    origin_airport_id, \n",
    "    #origin_conditions, \n",
    "    flights['origin_rain'], flights['origin_cloudy'], flights['origin_snow'], \n",
    "    flights['origin_visibility'], flights['origin_wind_speed'], \n",
    "    dest_airport_id, \n",
    "    #dest_conditions, \n",
    "    flights['dest_rain'], flights['dest_cloudy'], flights['dest_snow'], \n",
    "    flights['dest_visibility'], flights['dest_wind_speed'], \n",
    "    flights['holiday'], \n",
    "    flights['scheduled_flight_hour_of_day'], \n",
    "    flights['distance'],\n",
    "    flights['arr_delay'] # target variable\n",
    "), axis=1)\n",
    "\n",
    "df_flights = df_flights.dropna()"
   ]
  },
  {
   "cell_type": "code",
   "execution_count": 43,
   "id": "569d1de1-b0b2-4d92-b9d1-f1aa13ad74c0",
   "metadata": {},
   "outputs": [
    {
     "data": {
      "text/plain": [
       "Index(['Friday', 'Monday', 'Saturday', 'Sunday', 'Thursday', 'Tuesday',\n",
       "       'Wednesday', 'origin_rain', 'origin_cloudy', 'origin_snow',\n",
       "       'origin_visibility', 'origin_wind_speed', 'dest_rain', 'dest_cloudy',\n",
       "       'dest_snow', 'dest_visibility', 'dest_wind_speed', 'holiday',\n",
       "       'scheduled_flight_hour_of_day', 'distance', 'arr_delay'],\n",
       "      dtype='object')"
      ]
     },
     "execution_count": 43,
     "metadata": {},
     "output_type": "execute_result"
    }
   ],
   "source": [
    "df_flights.columns"
   ]
  },
  {
   "cell_type": "code",
   "execution_count": 44,
   "id": "23df4752-f434-45a4-9100-599108bf6314",
   "metadata": {},
   "outputs": [],
   "source": [
    "# normalize arr_delay, \n",
    "# remove some weather columns, \n",
    "# change origin_city_name to airport_id, \n",
    "# add in hour of day, \n",
    "# remove year \n",
    "# remove month\n",
    "# add distance\n",
    "#\n",
    "#"
   ]
  },
  {
   "cell_type": "code",
   "execution_count": 45,
   "id": "4f114824-1adc-4d7f-9584-14bf5d9d72c5",
   "metadata": {},
   "outputs": [
    {
     "data": {
      "text/plain": [
       "-14.0     5292\n",
       "-11.0     5266\n",
       "-10.0     5263\n",
       "-12.0     5254\n",
       "-13.0     5213\n",
       "          ... \n",
       " 99.0       89\n",
       " 97.0       86\n",
       " 108.0      86\n",
       " 104.0      83\n",
       " 100.0      82\n",
       "Name: arr_delay, Length: 154, dtype: int64"
      ]
     },
     "execution_count": 45,
     "metadata": {},
     "output_type": "execute_result"
    }
   ],
   "source": [
    "flights['arr_delay'].value_counts()[:100]"
   ]
  },
  {
   "cell_type": "code",
   "execution_count": 46,
   "id": "339280e9-db18-42bc-a583-340004b13f43",
   "metadata": {},
   "outputs": [],
   "source": [
    "# the top 100 values in calue_counts sums up to roughly 97% of all data, which is 3 standard deviations worth\n",
    "# drop anything else\n",
    "\n",
    "# this change did NOT help the model, it made it significantly worse\n",
    "#flights = flights.drop(flights[flights.arr_delay < 82].index)"
   ]
  },
  {
   "cell_type": "markdown",
   "id": "9b962211-e610-43e1-a0ab-737a9edcf42f",
   "metadata": {},
   "source": [
    "# Linear Regression\n",
    "### Model-Specific"
   ]
  },
  {
   "cell_type": "code",
   "execution_count": 47,
   "id": "c49fcd43-cf8e-4603-84a0-faebec48923f",
   "metadata": {},
   "outputs": [],
   "source": [
    "import pandas as pd\n",
    "import numpy as np\n",
    "import seaborn as sns\n",
    "import matplotlib.pyplot as plt\n",
    "\n",
    "from sklearn.model_selection import train_test_split\n",
    "from sklearn.model_selection import GridSearchCV\n",
    "from sklearn.model_selection import KFold\n",
    "from sklearn.model_selection import cross_val_score\n",
    "from sklearn.utils import resample,shuffle\n",
    "from sklearn import preprocessing\n",
    "\n",
    "from sklearn import metrics\n",
    "from sklearn.metrics import log_loss\n",
    "from sklearn.metrics import accuracy_score\n",
    "from sklearn.metrics import precision_score\n",
    "from sklearn.metrics import recall_score\n",
    "from sklearn.metrics import r2_score\n",
    "from sklearn.metrics import roc_auc_score\n",
    "from sklearn.metrics import roc_curve\n",
    "from sklearn.metrics import confusion_matrix\n",
    "from sklearn.metrics import mean_absolute_error\n",
    "from sklearn.metrics import mean_squared_error\n",
    "from sklearn.metrics import precision_recall_curve\n",
    "from sklearn.metrics import f1_score\n",
    "\n",
    "import xgboost as xgb\n",
    "from sklearn.linear_model import LinearRegression, Ridge\n",
    "from sklearn.ensemble import RandomForestRegressor"
   ]
  },
  {
   "cell_type": "code",
   "execution_count": 48,
   "id": "f36d9a0c-066c-4c0a-b78f-653123a2abcd",
   "metadata": {},
   "outputs": [],
   "source": [
    "X = df_flights.drop(columns=['arr_delay'])\n",
    "y = df_flights['arr_delay']\n",
    "X_train, X_test, y_train, y_test = train_test_split(X, y, test_size=0.25, random_state=101)"
   ]
  },
  {
   "cell_type": "markdown",
   "id": "55f5ebf9-34ad-4766-8bfa-fbaa6823491b",
   "metadata": {},
   "source": [
    "### Baseline model"
   ]
  },
  {
   "cell_type": "code",
   "execution_count": 49,
   "id": "aab340e1-6f23-46ef-bd37-ea97e4d08b0c",
   "metadata": {},
   "outputs": [
    {
     "data": {
      "text/plain": [
       "LinearRegression()"
      ]
     },
     "execution_count": 49,
     "metadata": {},
     "output_type": "execute_result"
    }
   ],
   "source": [
    "clf = LinearRegression()\n",
    "clf.fit(X_train, y_train)"
   ]
  },
  {
   "cell_type": "code",
   "execution_count": 50,
   "id": "6ae48034-9c8e-468b-8b9d-a5a8a56dab67",
   "metadata": {},
   "outputs": [],
   "source": [
    "y_preds = clf.predict(X_test)"
   ]
  },
  {
   "cell_type": "code",
   "execution_count": 51,
   "id": "b179d60f-8e7c-4cea-925b-0d9ffd70874d",
   "metadata": {},
   "outputs": [
    {
     "data": {
      "text/plain": [
       "0.04086844569971726"
      ]
     },
     "execution_count": 51,
     "metadata": {},
     "output_type": "execute_result"
    }
   ],
   "source": [
    "clf.score(X_test, y_test)"
   ]
  },
  {
   "cell_type": "code",
   "execution_count": 52,
   "id": "54008708-3321-4f3c-9889-59602cc4210e",
   "metadata": {},
   "outputs": [],
   "source": [
    "# can only go up from here"
   ]
  },
  {
   "cell_type": "code",
   "execution_count": 53,
   "id": "08b3ea81-913b-4bba-b861-ccb0776d15f0",
   "metadata": {},
   "outputs": [],
   "source": [
    "xg_reg = xgb.XGBRegressor(objective ='reg:linear',  random_state = 101)"
   ]
  },
  {
   "cell_type": "code",
   "execution_count": 54,
   "id": "948d5558-9daa-4a81-8d07-dba9f6a5a09b",
   "metadata": {},
   "outputs": [
    {
     "name": "stdout",
     "output_type": "stream",
     "text": [
      "[12:44:36] WARNING: d:\\bld\\xgboost-split_1631904903843\\work\\src\\objective\\regression_obj.cu:171: reg:linear is now deprecated in favor of reg:squarederror.\n"
     ]
    },
    {
     "data": {
      "text/plain": [
       "XGBRegressor(base_score=0.5, booster='gbtree', colsample_bylevel=1,\n",
       "             colsample_bynode=1, colsample_bytree=1, gamma=0, gpu_id=-1,\n",
       "             importance_type='gain', interaction_constraints='',\n",
       "             learning_rate=0.300000012, max_delta_step=0, max_depth=6,\n",
       "             min_child_weight=1, missing=nan, monotone_constraints='()',\n",
       "             n_estimators=100, n_jobs=16, num_parallel_tree=1,\n",
       "             objective='reg:linear', random_state=101, reg_alpha=0,\n",
       "             reg_lambda=1, scale_pos_weight=1, subsample=1, tree_method='exact',\n",
       "             validate_parameters=1, verbosity=None)"
      ]
     },
     "execution_count": 54,
     "metadata": {},
     "output_type": "execute_result"
    }
   ],
   "source": [
    "xg_reg.fit(X_train, y_train)"
   ]
  },
  {
   "cell_type": "code",
   "execution_count": 55,
   "id": "2c3aa75e-4ef2-4996-97b3-311745b8b1c6",
   "metadata": {},
   "outputs": [],
   "source": [
    "y_preds = xg_reg.predict(X_test)"
   ]
  },
  {
   "cell_type": "code",
   "execution_count": 56,
   "id": "16f44298-9033-460f-8c40-82e0b7829d4b",
   "metadata": {},
   "outputs": [
    {
     "data": {
      "text/plain": [
       "0.15064560631711799"
      ]
     },
     "execution_count": 56,
     "metadata": {},
     "output_type": "execute_result"
    }
   ],
   "source": [
    "xg_reg.score(X_test, y_test)"
   ]
  },
  {
   "cell_type": "code",
   "execution_count": 57,
   "id": "04146279-8942-49fd-b484-9b85a282a18a",
   "metadata": {},
   "outputs": [
    {
     "name": "stdout",
     "output_type": "stream",
     "text": [
      "RMSE: 45.060563\n"
     ]
    }
   ],
   "source": [
    "rmse = np.sqrt(mean_squared_error(y_test, y_preds))\n",
    "print(\"RMSE: %f\" % (rmse))"
   ]
  },
  {
   "cell_type": "markdown",
   "id": "b241488c-5e1e-4a71-8e5f-a7c0c9b52776",
   "metadata": {},
   "source": [
    "### Some tweaking"
   ]
  },
  {
   "cell_type": "code",
   "execution_count": 58,
   "id": "5500fd08-4a72-40f6-9c01-4800dae0f3e3",
   "metadata": {},
   "outputs": [
    {
     "name": "stdout",
     "output_type": "stream",
     "text": [
      "R^2: 0.16164629470546943\n",
      "RMSE: 44.767804\n"
     ]
    }
   ],
   "source": [
    "def run_xg_reg():\n",
    "    '''\n",
    "    This function calls the (currently) best XGB model to generate results.\n",
    "    This function helps speed up the tuning process.\n",
    "    '''\n",
    "    \n",
    "    xg_reg = xgb.XGBRegressor(objective ='reg:squarederror', learning_rate = 0.3, max_depth = 6, reg_alpha = 0.0001, n_estimators = 100, reg_lambda = 5, random_state = 101)\n",
    "    xg_reg.fit(X_train, y_train)\n",
    "    y_preds = xg_reg.predict(X_test)\n",
    "    print(f'R^2: {xg_reg.score(X_test, y_test)}')\n",
    "    rmse = np.sqrt(mean_squared_error(y_test, y_preds))\n",
    "    print(\"RMSE: %f\" % (rmse))\n",
    "    return y_preds\n",
    "y_preds = run_xg_reg()"
   ]
  },
  {
   "cell_type": "code",
   "execution_count": 59,
   "id": "8b71dd5f-e2df-40b4-92ef-d2fb45bed8d5",
   "metadata": {},
   "outputs": [],
   "source": [
    "# Function to calculate VIF\n",
    "def calculate_vif(data):\n",
    "    vif_df = pd.DataFrame(columns = ['Var', 'Vif'])\n",
    "    x_var_names = data.columns\n",
    "    for i in range(0, x_var_names.shape[0]):\n",
    "        y = data[x_var_names[i]]\n",
    "        x = data[x_var_names.drop([x_var_names[i]])]\n",
    "        r_squared = sm.OLS(y,x).fit().rsquared\n",
    "        vif = round(1/(1-r_squared),2)\n",
    "        vif_df.loc[i] = [x_var_names[i], vif]\n",
    "    return vif_df.sort_values(by = 'Vif', axis = 0, ascending=False, inplace=False)"
   ]
  },
  {
   "cell_type": "code",
   "execution_count": 64,
   "id": "4c5acf4a-842d-4486-afd0-ba91b7a48988",
   "metadata": {},
   "outputs": [
    {
     "data": {
      "text/html": [
       "<div>\n",
       "<style scoped>\n",
       "    .dataframe tbody tr th:only-of-type {\n",
       "        vertical-align: middle;\n",
       "    }\n",
       "\n",
       "    .dataframe tbody tr th {\n",
       "        vertical-align: top;\n",
       "    }\n",
       "\n",
       "    .dataframe thead th {\n",
       "        text-align: right;\n",
       "    }\n",
       "</style>\n",
       "<table border=\"1\" class=\"dataframe\">\n",
       "  <thead>\n",
       "    <tr style=\"text-align: right;\">\n",
       "      <th></th>\n",
       "      <th>Var</th>\n",
       "      <th>Vif</th>\n",
       "    </tr>\n",
       "  </thead>\n",
       "  <tbody>\n",
       "    <tr>\n",
       "      <th>14</th>\n",
       "      <td>dest_visibility</td>\n",
       "      <td>30.46</td>\n",
       "    </tr>\n",
       "    <tr>\n",
       "      <th>9</th>\n",
       "      <td>origin_visibility</td>\n",
       "      <td>30.39</td>\n",
       "    </tr>\n",
       "    <tr>\n",
       "      <th>10</th>\n",
       "      <td>origin_wind_speed</td>\n",
       "      <td>8.06</td>\n",
       "    </tr>\n",
       "    <tr>\n",
       "      <th>15</th>\n",
       "      <td>dest_wind_speed</td>\n",
       "      <td>8.04</td>\n",
       "    </tr>\n",
       "    <tr>\n",
       "      <th>17</th>\n",
       "      <td>scheduled_flight_hour_of_day</td>\n",
       "      <td>7.85</td>\n",
       "    </tr>\n",
       "    <tr>\n",
       "      <th>18</th>\n",
       "      <td>distance</td>\n",
       "      <td>4.12</td>\n",
       "    </tr>\n",
       "    <tr>\n",
       "      <th>7</th>\n",
       "      <td>origin_cloudy</td>\n",
       "      <td>3.54</td>\n",
       "    </tr>\n",
       "    <tr>\n",
       "      <th>12</th>\n",
       "      <td>dest_cloudy</td>\n",
       "      <td>3.53</td>\n",
       "    </tr>\n",
       "    <tr>\n",
       "      <th>6</th>\n",
       "      <td>origin_rain</td>\n",
       "      <td>1.97</td>\n",
       "    </tr>\n",
       "    <tr>\n",
       "      <th>11</th>\n",
       "      <td>dest_rain</td>\n",
       "      <td>1.97</td>\n",
       "    </tr>\n",
       "    <tr>\n",
       "      <th>13</th>\n",
       "      <td>dest_snow</td>\n",
       "      <td>1.20</td>\n",
       "    </tr>\n",
       "    <tr>\n",
       "      <th>8</th>\n",
       "      <td>origin_snow</td>\n",
       "      <td>1.20</td>\n",
       "    </tr>\n",
       "    <tr>\n",
       "      <th>16</th>\n",
       "      <td>holiday</td>\n",
       "      <td>1.14</td>\n",
       "    </tr>\n",
       "    <tr>\n",
       "      <th>19</th>\n",
       "      <td>arr_delay</td>\n",
       "      <td>1.05</td>\n",
       "    </tr>\n",
       "    <tr>\n",
       "      <th>1</th>\n",
       "      <td>Monday</td>\n",
       "      <td>0.02</td>\n",
       "    </tr>\n",
       "    <tr>\n",
       "      <th>5</th>\n",
       "      <td>Wednesday</td>\n",
       "      <td>0.01</td>\n",
       "    </tr>\n",
       "    <tr>\n",
       "      <th>3</th>\n",
       "      <td>Sunday</td>\n",
       "      <td>0.01</td>\n",
       "    </tr>\n",
       "    <tr>\n",
       "      <th>2</th>\n",
       "      <td>Saturday</td>\n",
       "      <td>0.01</td>\n",
       "    </tr>\n",
       "    <tr>\n",
       "      <th>0</th>\n",
       "      <td>Friday</td>\n",
       "      <td>0.01</td>\n",
       "    </tr>\n",
       "    <tr>\n",
       "      <th>4</th>\n",
       "      <td>Thursday</td>\n",
       "      <td>0.00</td>\n",
       "    </tr>\n",
       "  </tbody>\n",
       "</table>\n",
       "</div>"
      ],
      "text/plain": [
       "                             Var    Vif\n",
       "14               dest_visibility  30.46\n",
       "9              origin_visibility  30.39\n",
       "10             origin_wind_speed   8.06\n",
       "15               dest_wind_speed   8.04\n",
       "17  scheduled_flight_hour_of_day   7.85\n",
       "18                      distance   4.12\n",
       "7                  origin_cloudy   3.54\n",
       "12                   dest_cloudy   3.53\n",
       "6                    origin_rain   1.97\n",
       "11                     dest_rain   1.97\n",
       "13                     dest_snow   1.20\n",
       "8                    origin_snow   1.20\n",
       "16                       holiday   1.14\n",
       "19                     arr_delay   1.05\n",
       "1                         Monday   0.02\n",
       "5                      Wednesday   0.01\n",
       "3                         Sunday   0.01\n",
       "2                       Saturday   0.01\n",
       "0                         Friday   0.01\n",
       "4                       Thursday   0.00"
      ]
     },
     "execution_count": 64,
     "metadata": {},
     "output_type": "execute_result"
    }
   ],
   "source": [
    "calculate_vif(df_flights)"
   ]
  },
  {
   "cell_type": "markdown",
   "id": "f23b2c55-e4fa-4af2-a7b5-5ca0ad4a9c31",
   "metadata": {},
   "source": [
    "### Dealing with multicollinearity:\n",
    "https://www.analyticsvidhya.com/blog/2020/03/one-hot-encoding-vs-label-encoding-using-scikit-learn/\n",
    "\n",
    "- Dropping one of the one-hot labels to try and avoid \"inf.\" for variance inflation "
   ]
  },
  {
   "cell_type": "code",
   "execution_count": 61,
   "id": "66d9d939-ba6f-4621-8bf6-d9c9689667d7",
   "metadata": {},
   "outputs": [],
   "source": [
    "columns_to_drop = [\n",
    "    'Tuesday', \n",
    "    #'origin_10397', \n",
    "    #'dest_10397' \n",
    "]"
   ]
  },
  {
   "cell_type": "code",
   "execution_count": 62,
   "id": "c6807ec4-f6b4-4263-b748-ac1b92f903b8",
   "metadata": {},
   "outputs": [],
   "source": [
    "df_flights = df_flights.drop(columns=columns_to_drop)"
   ]
  },
  {
   "cell_type": "code",
   "execution_count": 63,
   "id": "e2b5d931-bc50-4863-a7c5-7ab1fe35736c",
   "metadata": {},
   "outputs": [
    {
     "data": {
      "text/html": [
       "<div>\n",
       "<style scoped>\n",
       "    .dataframe tbody tr th:only-of-type {\n",
       "        vertical-align: middle;\n",
       "    }\n",
       "\n",
       "    .dataframe tbody tr th {\n",
       "        vertical-align: top;\n",
       "    }\n",
       "\n",
       "    .dataframe thead th {\n",
       "        text-align: right;\n",
       "    }\n",
       "</style>\n",
       "<table border=\"1\" class=\"dataframe\">\n",
       "  <thead>\n",
       "    <tr style=\"text-align: right;\">\n",
       "      <th></th>\n",
       "      <th>Var</th>\n",
       "      <th>Vif</th>\n",
       "    </tr>\n",
       "  </thead>\n",
       "  <tbody>\n",
       "    <tr>\n",
       "      <th>14</th>\n",
       "      <td>dest_visibility</td>\n",
       "      <td>30.46</td>\n",
       "    </tr>\n",
       "    <tr>\n",
       "      <th>9</th>\n",
       "      <td>origin_visibility</td>\n",
       "      <td>30.39</td>\n",
       "    </tr>\n",
       "    <tr>\n",
       "      <th>10</th>\n",
       "      <td>origin_wind_speed</td>\n",
       "      <td>8.06</td>\n",
       "    </tr>\n",
       "    <tr>\n",
       "      <th>15</th>\n",
       "      <td>dest_wind_speed</td>\n",
       "      <td>8.04</td>\n",
       "    </tr>\n",
       "    <tr>\n",
       "      <th>17</th>\n",
       "      <td>scheduled_flight_hour_of_day</td>\n",
       "      <td>7.85</td>\n",
       "    </tr>\n",
       "    <tr>\n",
       "      <th>18</th>\n",
       "      <td>distance</td>\n",
       "      <td>4.12</td>\n",
       "    </tr>\n",
       "    <tr>\n",
       "      <th>7</th>\n",
       "      <td>origin_cloudy</td>\n",
       "      <td>3.54</td>\n",
       "    </tr>\n",
       "    <tr>\n",
       "      <th>12</th>\n",
       "      <td>dest_cloudy</td>\n",
       "      <td>3.53</td>\n",
       "    </tr>\n",
       "    <tr>\n",
       "      <th>6</th>\n",
       "      <td>origin_rain</td>\n",
       "      <td>1.97</td>\n",
       "    </tr>\n",
       "    <tr>\n",
       "      <th>11</th>\n",
       "      <td>dest_rain</td>\n",
       "      <td>1.97</td>\n",
       "    </tr>\n",
       "    <tr>\n",
       "      <th>13</th>\n",
       "      <td>dest_snow</td>\n",
       "      <td>1.20</td>\n",
       "    </tr>\n",
       "    <tr>\n",
       "      <th>8</th>\n",
       "      <td>origin_snow</td>\n",
       "      <td>1.20</td>\n",
       "    </tr>\n",
       "    <tr>\n",
       "      <th>16</th>\n",
       "      <td>holiday</td>\n",
       "      <td>1.14</td>\n",
       "    </tr>\n",
       "    <tr>\n",
       "      <th>19</th>\n",
       "      <td>arr_delay</td>\n",
       "      <td>1.05</td>\n",
       "    </tr>\n",
       "    <tr>\n",
       "      <th>1</th>\n",
       "      <td>Monday</td>\n",
       "      <td>0.02</td>\n",
       "    </tr>\n",
       "    <tr>\n",
       "      <th>5</th>\n",
       "      <td>Wednesday</td>\n",
       "      <td>0.01</td>\n",
       "    </tr>\n",
       "    <tr>\n",
       "      <th>3</th>\n",
       "      <td>Sunday</td>\n",
       "      <td>0.01</td>\n",
       "    </tr>\n",
       "    <tr>\n",
       "      <th>2</th>\n",
       "      <td>Saturday</td>\n",
       "      <td>0.01</td>\n",
       "    </tr>\n",
       "    <tr>\n",
       "      <th>0</th>\n",
       "      <td>Friday</td>\n",
       "      <td>0.01</td>\n",
       "    </tr>\n",
       "    <tr>\n",
       "      <th>4</th>\n",
       "      <td>Thursday</td>\n",
       "      <td>0.00</td>\n",
       "    </tr>\n",
       "  </tbody>\n",
       "</table>\n",
       "</div>"
      ],
      "text/plain": [
       "                             Var    Vif\n",
       "14               dest_visibility  30.46\n",
       "9              origin_visibility  30.39\n",
       "10             origin_wind_speed   8.06\n",
       "15               dest_wind_speed   8.04\n",
       "17  scheduled_flight_hour_of_day   7.85\n",
       "18                      distance   4.12\n",
       "7                  origin_cloudy   3.54\n",
       "12                   dest_cloudy   3.53\n",
       "6                    origin_rain   1.97\n",
       "11                     dest_rain   1.97\n",
       "13                     dest_snow   1.20\n",
       "8                    origin_snow   1.20\n",
       "16                       holiday   1.14\n",
       "19                     arr_delay   1.05\n",
       "1                         Monday   0.02\n",
       "5                      Wednesday   0.01\n",
       "3                         Sunday   0.01\n",
       "2                       Saturday   0.01\n",
       "0                         Friday   0.01\n",
       "4                       Thursday   0.00"
      ]
     },
     "execution_count": 63,
     "metadata": {},
     "output_type": "execute_result"
    }
   ],
   "source": [
    "calculate_vif(df_flights)"
   ]
  },
  {
   "cell_type": "code",
   "execution_count": 65,
   "id": "0f8fdbf4-f20e-4d25-bb05-2fcceb0cff6a",
   "metadata": {},
   "outputs": [],
   "source": [
    "X = df_flights.drop(columns=['arr_delay'])\n",
    "y = df_flights['arr_delay']\n",
    "X_train, X_test, y_train, y_test = train_test_split(X, y, test_size=0.25, random_state=101)"
   ]
  },
  {
   "cell_type": "code",
   "execution_count": 66,
   "id": "aa86c347-2a52-44d2-ba6d-2eb61da67968",
   "metadata": {},
   "outputs": [],
   "source": [
    "xg_reg = xgb.XGBRegressor(objective ='reg:squarederror', learning_rate = 0.3, max_depth = 6, reg_alpha = 0.0001, n_estimators = 100, reg_lambda = 5, random_state = 101)"
   ]
  },
  {
   "cell_type": "code",
   "execution_count": 67,
   "id": "2737b45f-41aa-4142-8af7-c88147b85e8c",
   "metadata": {},
   "outputs": [
    {
     "data": {
      "text/plain": [
       "XGBRegressor(base_score=0.5, booster='gbtree', colsample_bylevel=1,\n",
       "             colsample_bynode=1, colsample_bytree=1, gamma=0, gpu_id=-1,\n",
       "             importance_type='gain', interaction_constraints='',\n",
       "             learning_rate=0.3, max_delta_step=0, max_depth=6,\n",
       "             min_child_weight=1, missing=nan, monotone_constraints='()',\n",
       "             n_estimators=100, n_jobs=16, num_parallel_tree=1, random_state=101,\n",
       "             reg_alpha=0.0001, reg_lambda=5, scale_pos_weight=1, subsample=1,\n",
       "             tree_method='exact', validate_parameters=1, verbosity=None)"
      ]
     },
     "execution_count": 67,
     "metadata": {},
     "output_type": "execute_result"
    }
   ],
   "source": [
    "xg_reg.fit(X_train, y_train)"
   ]
  },
  {
   "cell_type": "code",
   "execution_count": 68,
   "id": "42ada841-8bdf-4284-af8e-9cbbe05cb13d",
   "metadata": {},
   "outputs": [],
   "source": [
    "y_preds = xg_reg.predict(X_test)"
   ]
  },
  {
   "cell_type": "code",
   "execution_count": 69,
   "id": "7d1af3e2-3a12-489a-b957-ed8d080b8d0c",
   "metadata": {},
   "outputs": [
    {
     "name": "stdout",
     "output_type": "stream",
     "text": [
      "R^2: 0.1568013029278864\n"
     ]
    }
   ],
   "source": [
    "print(f'R^2: {xg_reg.score(X_test, y_test)}')"
   ]
  },
  {
   "cell_type": "code",
   "execution_count": 70,
   "id": "7f5469ef-c86c-43ec-b284-bcc9a291d1a9",
   "metadata": {},
   "outputs": [
    {
     "name": "stdout",
     "output_type": "stream",
     "text": [
      "RMSE: 44.896978\n"
     ]
    }
   ],
   "source": [
    "rmse = np.sqrt(mean_squared_error(y_test, y_preds))\n",
    "print(\"RMSE: %f\" % (rmse))"
   ]
  },
  {
   "cell_type": "markdown",
   "id": "41573b9e-7677-4603-8791-4e6e761fe4ca",
   "metadata": {},
   "source": [
    "### Let's try dropping some other columns instead..."
   ]
  },
  {
   "cell_type": "code",
   "execution_count": 76,
   "id": "a8aaec71-3a15-4bcf-9d48-548f35e150e9",
   "metadata": {},
   "outputs": [],
   "source": [
    "# include NEW weather columns\n",
    "df_flights = pd.concat((\n",
    "    day_of_week, \n",
    "    origin_airport_id, \n",
    "    #origin_conditions, \n",
    "    flights['origin_rain'], flights['origin_cloudy'], flights['origin_snow'], \n",
    "    flights['origin_visibility'], flights['origin_wind_speed'], \n",
    "    dest_airport_id, \n",
    "    #dest_conditions, \n",
    "    flights['dest_rain'], flights['dest_cloudy'], flights['dest_snow'], \n",
    "    flights['dest_visibility'], flights['dest_wind_speed'], \n",
    "    flights['holiday'], \n",
    "    flights['scheduled_flight_hour_of_day'], \n",
    "    flights['distance'],\n",
    "    flights['arr_delay'] # target variable\n",
    "), axis=1)\n",
    "\n",
    "df_flights = df_flights.dropna()"
   ]
  },
  {
   "cell_type": "code",
   "execution_count": 77,
   "id": "0a6d5ca2-7429-4eed-9db2-904d3e0c888d",
   "metadata": {},
   "outputs": [],
   "source": [
    "columns_to_drop = [\n",
    "    'Saturday', 'origin_11057', 'dest_11057' \n",
    "]"
   ]
  },
  {
   "cell_type": "code",
   "execution_count": 78,
   "id": "7cc8addd-420b-4458-9e93-f0202c3e4432",
   "metadata": {},
   "outputs": [
    {
     "data": {
      "text/html": [
       "<div>\n",
       "<style scoped>\n",
       "    .dataframe tbody tr th:only-of-type {\n",
       "        vertical-align: middle;\n",
       "    }\n",
       "\n",
       "    .dataframe tbody tr th {\n",
       "        vertical-align: top;\n",
       "    }\n",
       "\n",
       "    .dataframe thead th {\n",
       "        text-align: right;\n",
       "    }\n",
       "</style>\n",
       "<table border=\"1\" class=\"dataframe\">\n",
       "  <thead>\n",
       "    <tr style=\"text-align: right;\">\n",
       "      <th></th>\n",
       "      <th>Var</th>\n",
       "      <th>Vif</th>\n",
       "    </tr>\n",
       "  </thead>\n",
       "  <tbody>\n",
       "    <tr>\n",
       "      <th>22</th>\n",
       "      <td>origin_visibility</td>\n",
       "      <td>35.92</td>\n",
       "    </tr>\n",
       "    <tr>\n",
       "      <th>40</th>\n",
       "      <td>dest_visibility</td>\n",
       "      <td>35.88</td>\n",
       "    </tr>\n",
       "    <tr>\n",
       "      <th>23</th>\n",
       "      <td>origin_wind_speed</td>\n",
       "      <td>10.25</td>\n",
       "    </tr>\n",
       "    <tr>\n",
       "      <th>41</th>\n",
       "      <td>dest_wind_speed</td>\n",
       "      <td>10.23</td>\n",
       "    </tr>\n",
       "    <tr>\n",
       "      <th>43</th>\n",
       "      <td>scheduled_flight_hour_of_day</td>\n",
       "      <td>8.03</td>\n",
       "    </tr>\n",
       "    <tr>\n",
       "      <th>44</th>\n",
       "      <td>distance</td>\n",
       "      <td>7.18</td>\n",
       "    </tr>\n",
       "    <tr>\n",
       "      <th>20</th>\n",
       "      <td>origin_cloudy</td>\n",
       "      <td>4.83</td>\n",
       "    </tr>\n",
       "    <tr>\n",
       "      <th>38</th>\n",
       "      <td>dest_cloudy</td>\n",
       "      <td>4.82</td>\n",
       "    </tr>\n",
       "    <tr>\n",
       "      <th>19</th>\n",
       "      <td>origin_rain</td>\n",
       "      <td>2.55</td>\n",
       "    </tr>\n",
       "    <tr>\n",
       "      <th>37</th>\n",
       "      <td>dest_rain</td>\n",
       "      <td>2.55</td>\n",
       "    </tr>\n",
       "    <tr>\n",
       "      <th>39</th>\n",
       "      <td>dest_snow</td>\n",
       "      <td>1.35</td>\n",
       "    </tr>\n",
       "    <tr>\n",
       "      <th>21</th>\n",
       "      <td>origin_snow</td>\n",
       "      <td>1.35</td>\n",
       "    </tr>\n",
       "    <tr>\n",
       "      <th>42</th>\n",
       "      <td>holiday</td>\n",
       "      <td>1.14</td>\n",
       "    </tr>\n",
       "    <tr>\n",
       "      <th>45</th>\n",
       "      <td>arr_delay</td>\n",
       "      <td>1.05</td>\n",
       "    </tr>\n",
       "    <tr>\n",
       "      <th>28</th>\n",
       "      <td>dest_12191</td>\n",
       "      <td>0.05</td>\n",
       "    </tr>\n",
       "    <tr>\n",
       "      <th>10</th>\n",
       "      <td>origin_12191</td>\n",
       "      <td>0.05</td>\n",
       "    </tr>\n",
       "    <tr>\n",
       "      <th>14</th>\n",
       "      <td>origin_12892</td>\n",
       "      <td>0.03</td>\n",
       "    </tr>\n",
       "    <tr>\n",
       "      <th>12</th>\n",
       "      <td>origin_12266</td>\n",
       "      <td>0.03</td>\n",
       "    </tr>\n",
       "    <tr>\n",
       "      <th>6</th>\n",
       "      <td>origin_10397</td>\n",
       "      <td>0.03</td>\n",
       "    </tr>\n",
       "    <tr>\n",
       "      <th>32</th>\n",
       "      <td>dest_12892</td>\n",
       "      <td>0.03</td>\n",
       "    </tr>\n",
       "    <tr>\n",
       "      <th>30</th>\n",
       "      <td>dest_12266</td>\n",
       "      <td>0.03</td>\n",
       "    </tr>\n",
       "    <tr>\n",
       "      <th>17</th>\n",
       "      <td>origin_13930</td>\n",
       "      <td>0.03</td>\n",
       "    </tr>\n",
       "    <tr>\n",
       "      <th>11</th>\n",
       "      <td>origin_12264</td>\n",
       "      <td>0.02</td>\n",
       "    </tr>\n",
       "    <tr>\n",
       "      <th>29</th>\n",
       "      <td>dest_12264</td>\n",
       "      <td>0.02</td>\n",
       "    </tr>\n",
       "    <tr>\n",
       "      <th>8</th>\n",
       "      <td>origin_11292</td>\n",
       "      <td>0.02</td>\n",
       "    </tr>\n",
       "    <tr>\n",
       "      <th>35</th>\n",
       "      <td>dest_13930</td>\n",
       "      <td>0.02</td>\n",
       "    </tr>\n",
       "    <tr>\n",
       "      <th>33</th>\n",
       "      <td>dest_12953</td>\n",
       "      <td>0.02</td>\n",
       "    </tr>\n",
       "    <tr>\n",
       "      <th>1</th>\n",
       "      <td>Monday</td>\n",
       "      <td>0.02</td>\n",
       "    </tr>\n",
       "    <tr>\n",
       "      <th>27</th>\n",
       "      <td>dest_11298</td>\n",
       "      <td>0.01</td>\n",
       "    </tr>\n",
       "    <tr>\n",
       "      <th>18</th>\n",
       "      <td>origin_14747</td>\n",
       "      <td>0.01</td>\n",
       "    </tr>\n",
       "    <tr>\n",
       "      <th>2</th>\n",
       "      <td>Sunday</td>\n",
       "      <td>0.01</td>\n",
       "    </tr>\n",
       "    <tr>\n",
       "      <th>3</th>\n",
       "      <td>Thursday</td>\n",
       "      <td>0.01</td>\n",
       "    </tr>\n",
       "    <tr>\n",
       "      <th>5</th>\n",
       "      <td>Wednesday</td>\n",
       "      <td>0.01</td>\n",
       "    </tr>\n",
       "    <tr>\n",
       "      <th>16</th>\n",
       "      <td>origin_13232</td>\n",
       "      <td>0.01</td>\n",
       "    </tr>\n",
       "    <tr>\n",
       "      <th>7</th>\n",
       "      <td>origin_11278</td>\n",
       "      <td>0.01</td>\n",
       "    </tr>\n",
       "    <tr>\n",
       "      <th>9</th>\n",
       "      <td>origin_11298</td>\n",
       "      <td>0.01</td>\n",
       "    </tr>\n",
       "    <tr>\n",
       "      <th>36</th>\n",
       "      <td>dest_14747</td>\n",
       "      <td>0.01</td>\n",
       "    </tr>\n",
       "    <tr>\n",
       "      <th>34</th>\n",
       "      <td>dest_13232</td>\n",
       "      <td>0.01</td>\n",
       "    </tr>\n",
       "    <tr>\n",
       "      <th>13</th>\n",
       "      <td>origin_12478</td>\n",
       "      <td>0.01</td>\n",
       "    </tr>\n",
       "    <tr>\n",
       "      <th>31</th>\n",
       "      <td>dest_12478</td>\n",
       "      <td>0.01</td>\n",
       "    </tr>\n",
       "    <tr>\n",
       "      <th>15</th>\n",
       "      <td>origin_12953</td>\n",
       "      <td>0.01</td>\n",
       "    </tr>\n",
       "    <tr>\n",
       "      <th>26</th>\n",
       "      <td>dest_11292</td>\n",
       "      <td>0.01</td>\n",
       "    </tr>\n",
       "    <tr>\n",
       "      <th>0</th>\n",
       "      <td>Friday</td>\n",
       "      <td>0.01</td>\n",
       "    </tr>\n",
       "    <tr>\n",
       "      <th>24</th>\n",
       "      <td>dest_10397</td>\n",
       "      <td>0.00</td>\n",
       "    </tr>\n",
       "    <tr>\n",
       "      <th>25</th>\n",
       "      <td>dest_11278</td>\n",
       "      <td>0.00</td>\n",
       "    </tr>\n",
       "    <tr>\n",
       "      <th>4</th>\n",
       "      <td>Tuesday</td>\n",
       "      <td>0.00</td>\n",
       "    </tr>\n",
       "  </tbody>\n",
       "</table>\n",
       "</div>"
      ],
      "text/plain": [
       "                             Var    Vif\n",
       "22             origin_visibility  35.92\n",
       "40               dest_visibility  35.88\n",
       "23             origin_wind_speed  10.25\n",
       "41               dest_wind_speed  10.23\n",
       "43  scheduled_flight_hour_of_day   8.03\n",
       "44                      distance   7.18\n",
       "20                 origin_cloudy   4.83\n",
       "38                   dest_cloudy   4.82\n",
       "19                   origin_rain   2.55\n",
       "37                     dest_rain   2.55\n",
       "39                     dest_snow   1.35\n",
       "21                   origin_snow   1.35\n",
       "42                       holiday   1.14\n",
       "45                     arr_delay   1.05\n",
       "28                    dest_12191   0.05\n",
       "10                  origin_12191   0.05\n",
       "14                  origin_12892   0.03\n",
       "12                  origin_12266   0.03\n",
       "6                   origin_10397   0.03\n",
       "32                    dest_12892   0.03\n",
       "30                    dest_12266   0.03\n",
       "17                  origin_13930   0.03\n",
       "11                  origin_12264   0.02\n",
       "29                    dest_12264   0.02\n",
       "8                   origin_11292   0.02\n",
       "35                    dest_13930   0.02\n",
       "33                    dest_12953   0.02\n",
       "1                         Monday   0.02\n",
       "27                    dest_11298   0.01\n",
       "18                  origin_14747   0.01\n",
       "2                         Sunday   0.01\n",
       "3                       Thursday   0.01\n",
       "5                      Wednesday   0.01\n",
       "16                  origin_13232   0.01\n",
       "7                   origin_11278   0.01\n",
       "9                   origin_11298   0.01\n",
       "36                    dest_14747   0.01\n",
       "34                    dest_13232   0.01\n",
       "13                  origin_12478   0.01\n",
       "31                    dest_12478   0.01\n",
       "15                  origin_12953   0.01\n",
       "26                    dest_11292   0.01\n",
       "0                         Friday   0.01\n",
       "24                    dest_10397   0.00\n",
       "25                    dest_11278   0.00\n",
       "4                        Tuesday   0.00"
      ]
     },
     "execution_count": 78,
     "metadata": {},
     "output_type": "execute_result"
    }
   ],
   "source": [
    "df_flights = df_flights.drop(columns=columns_to_drop)\n",
    "calculate_vif(df_flights)"
   ]
  },
  {
   "cell_type": "code",
   "execution_count": 79,
   "id": "ccb08ab5-08ca-4e47-94da-ff386dd7e307",
   "metadata": {},
   "outputs": [],
   "source": [
    "X = df_flights.drop(columns=['arr_delay'])\n",
    "y = df_flights['arr_delay']\n",
    "X_train, X_test, y_train, y_test = train_test_split(X, y, test_size=0.25, random_state=101)"
   ]
  },
  {
   "cell_type": "code",
   "execution_count": 80,
   "id": "f2c7ca01-ce96-49f0-bf24-fabe13ac964f",
   "metadata": {},
   "outputs": [
    {
     "name": "stdout",
     "output_type": "stream",
     "text": [
      "R^2: 0.18258512620329548\n",
      "RMSE: 44.205205\n"
     ]
    }
   ],
   "source": [
    "xg_reg = xgb.XGBRegressor(objective ='reg:squarederror', learning_rate = 0.3, max_depth = 6, reg_alpha = 0.0001, n_estimators = 100, reg_lambda = 5, random_state = 101)\n",
    "xg_reg.fit(X_train, y_train)\n",
    "y_preds = xg_reg.predict(X_test)\n",
    "print(f'R^2: {xg_reg.score(X_test, y_test)}')\n",
    "rmse = np.sqrt(mean_squared_error(y_test, y_preds))\n",
    "print(\"RMSE: %f\" % (rmse))"
   ]
  },
  {
   "cell_type": "code",
   "execution_count": null,
   "id": "8c06f122-96d1-4c41-94b8-893c46ed00b4",
   "metadata": {},
   "outputs": [],
   "source": []
  },
  {
   "cell_type": "code",
   "execution_count": null,
   "id": "7c5cfaed-591e-48a1-8482-b07e8dd58615",
   "metadata": {},
   "outputs": [],
   "source": []
  },
  {
   "cell_type": "markdown",
   "id": "2d2acff8-ee03-4150-8bf7-46de826699b8",
   "metadata": {},
   "source": [
    "### More tweaking..."
   ]
  },
  {
   "cell_type": "code",
   "execution_count": 81,
   "id": "83118f37-06a5-43e5-95aa-ff12db16d1b2",
   "metadata": {},
   "outputs": [],
   "source": [
    "# https://towardsdatascience.com/doing-xgboost-hyper-parameter-tuning-the-smart-way-part-1-of-2-f6d255a45dde\n",
    "# https://www.analyticsvidhya.com/blog/2016/03/complete-guide-parameter-tuning-xgboost-with-codes-python/\n",
    "\n"
   ]
  },
  {
   "cell_type": "code",
   "execution_count": null,
   "id": "27df2c0a-b49a-4313-afe3-f050c7432468",
   "metadata": {},
   "outputs": [],
   "source": []
  },
  {
   "cell_type": "code",
   "execution_count": null,
   "id": "7694aeed-7d27-4378-bc03-2f89b1ead103",
   "metadata": {},
   "outputs": [],
   "source": []
  },
  {
   "cell_type": "code",
   "execution_count": null,
   "id": "2f1b610f-b215-4529-a933-6221d8c0f49c",
   "metadata": {},
   "outputs": [],
   "source": []
  },
  {
   "cell_type": "code",
   "execution_count": null,
   "id": "fa674fe5-be9c-43c9-a2af-9c14dfe3a3de",
   "metadata": {},
   "outputs": [],
   "source": []
  }
 ],
 "metadata": {
  "kernelspec": {
   "display_name": "Python [conda env:py36]",
   "language": "python",
   "name": "conda-env-py36-py"
  },
  "language_info": {
   "codemirror_mode": {
    "name": "ipython",
    "version": 3
   },
   "file_extension": ".py",
   "mimetype": "text/x-python",
   "name": "python",
   "nbconvert_exporter": "python",
   "pygments_lexer": "ipython3",
   "version": "3.6.10"
  }
 },
 "nbformat": 4,
 "nbformat_minor": 5
}
