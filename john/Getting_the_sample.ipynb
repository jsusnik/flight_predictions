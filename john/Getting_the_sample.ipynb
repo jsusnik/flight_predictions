{
 "cells": [
  {
   "cell_type": "code",
   "execution_count": 1,
   "id": "7ca875de-ecef-4e9b-97b8-53d614a56da9",
   "metadata": {},
   "outputs": [],
   "source": [
    "import os\n",
    "import psycopg2\n",
    "import pandas as pd\n",
    "import json"
   ]
  },
  {
   "cell_type": "markdown",
   "id": "2b5a79d9-cb50-4a41-aa76-db0573833e6a",
   "metadata": {},
   "source": [
    "## Note:\n",
    "\n",
    "1. The **URL** to the google drive containing the **dec-jan_flights.csv** file: https://drive.google.com/drive/folders/1m61S5WMcSpdXV6pq3k7srXOQIr0fnlOv?usp=sharing\n",
    "    - The code to create this file is below.\n"
   ]
  },
  {
   "cell_type": "code",
   "execution_count": 2,
   "id": "13e42414-cb2d-4c26-913c-a091e6836369",
   "metadata": {},
   "outputs": [],
   "source": [
    "def connect_db():\n",
    "    '''\n",
    "    Creating connection to DB\n",
    "    '''\n",
    "    try:\n",
    "        conn = psycopg2.connect(\n",
    "                host=os.environ['MID_PROJ_DB_HOST'],\n",
    "                database=os.environ['MID_PROJ_DB'],\n",
    "                user=os.environ['MID_PROJ_DB_USERNAME'],\n",
    "                password=os.environ['MID_PROJ_DB_PASSWORD'],\n",
    "                port='5432')\n",
    "        print('Db Connected succsefuly')\n",
    "        return conn\n",
    "    except (Exception, Error) as error:\n",
    "        print(\"Error while connecting\")"
   ]
  },
  {
   "cell_type": "code",
   "execution_count": 3,
   "id": "f5729564-e09e-41dc-b5e1-39c12faea025",
   "metadata": {},
   "outputs": [],
   "source": [
    "def query_db(query,conn):\n",
    "    cursor = conn.cursor()\n",
    "    cursor.execute(query)\n",
    "    return {'data': cursor.fetchall(), 'columns': [desc[0].strip() for desc in cursor.description]} "
   ]
  },
  {
   "cell_type": "code",
   "execution_count": 4,
   "id": "4f23c5fa-35ba-48f8-b83f-2f97174c1094",
   "metadata": {},
   "outputs": [],
   "source": [
    "def write_to_file(csv_name,query_output):\n",
    "    df = pd.DataFrame(query_output['data'])\n",
    "    df.columns = query_output['columns']\n",
    "    df.to_csv(csv_name + '.csv', sep=\",\", index = False)"
   ]
  },
  {
   "cell_type": "code",
   "execution_count": 5,
   "id": "98856140-84a9-4b5a-86cb-337466cd1fbe",
   "metadata": {},
   "outputs": [
    {
     "name": "stdout",
     "output_type": "stream",
     "text": [
      "Db Connected succsefuly\n"
     ]
    }
   ],
   "source": [
    "conn = connect_db()"
   ]
  },
  {
   "cell_type": "code",
   "execution_count": 6,
   "id": "7ede50e4-4711-429d-9a06-ee6a7361308b",
   "metadata": {},
   "outputs": [],
   "source": [
    "# Note: this is one method of data sampling, we may want to explore others\n",
    "# This method primarily focuses on looking at the 2 week time period just before when we want to predict, over a yearly basis\n",
    "\n",
    "flights_jan_18_query=\"select * from flights where fl_date > '2017-12-31' and fl_date < '2018-01-08' LIMIT 250000;\"\n",
    "flights_dec_18_query=\"select * from flights where fl_date > '2018-12-26' and fl_date < '2019-01-01' LIMIT 250000;\"\n",
    "flights_jan_19_query=\"select * from flights where fl_date > '2018-12-31' and fl_date < '2019-01-08' LIMIT 250000;\"\n",
    "flights_dec_19_query=\"select * from flights where fl_date > '2019-12-24' and fl_date < '2020-01-01' LIMIT 250000;\""
   ]
  },
  {
   "cell_type": "markdown",
   "id": "3486edd7-2248-4d8b-9921-6e5d94ce2ed8",
   "metadata": {},
   "source": [
    "### Looking specifically at the TWO weeks before the predicted time period, over the previous two years"
   ]
  },
  {
   "cell_type": "code",
   "execution_count": null,
   "id": "38cc97aa-045c-4bc9-a213-ad506a56ae45",
   "metadata": {},
   "outputs": [],
   "source": [
    "# FOUR different files\n",
    "\n",
    "flights_jan_18 = query_db(flights_jan_18_query, conn)\n",
    "write_to_file('flights_jan_18',flights_jan_18)\n",
    "\n",
    "flights_dec_18 = query_db(flights_dec_18_query, conn)\n",
    "write_to_file('flights_dec_18',flights_dec_18)\n",
    "\n",
    "flights_jan_19 = query_db(flights_jan_19_query, conn)\n",
    "write_to_file('flights_jan_19',flights_jan_19)\n",
    "\n",
    "flights_dec_19 = query_db(flights_dec_19_query, conn)\n",
    "write_to_file('flights_dec_19',flights_dec_19)"
   ]
  },
  {
   "cell_type": "code",
   "execution_count": null,
   "id": "b1c14171-8311-4f36-bf07-ffe4950ef72e",
   "metadata": {},
   "outputs": [],
   "source": [
    "flights_jan18 = pd.read_csv('flights_jan_18.csv', sep = ',')\n",
    "flights_dec18 = pd.read_csv('flights_dec_18.csv', sep = ',')\n",
    "flights_jan19 = pd.read_csv('flights_jan_19.csv', sep = ',')\n",
    "flights_dec19 = pd.read_csv('flights_dec_19.csv', sep = ',')"
   ]
  },
  {
   "cell_type": "code",
   "execution_count": null,
   "id": "5276af98-9ddf-42f0-a5e4-58fc342ef424",
   "metadata": {},
   "outputs": [],
   "source": [
    "flights = [flights_jan18, flights_dec18, flights_jan19, flights_dec19]\n",
    "flights = pd.concat(flights)"
   ]
  },
  {
   "cell_type": "code",
   "execution_count": null,
   "id": "0e453b98-1fcf-4e5a-921d-6754e9511780",
   "metadata": {},
   "outputs": [],
   "source": [
    "flights = flights.reset_index()"
   ]
  },
  {
   "cell_type": "code",
   "execution_count": null,
   "id": "27a0f8c5-0a34-4ea0-8a5f-0219bfb4888f",
   "metadata": {},
   "outputs": [],
   "source": [
    "flights.head()"
   ]
  },
  {
   "cell_type": "code",
   "execution_count": null,
   "id": "a98d16ef-d3b2-414f-8a51-70a91d1cafa2",
   "metadata": {},
   "outputs": [],
   "source": [
    "flights.to_csv('dec-jan_flights.csv')"
   ]
  },
  {
   "cell_type": "code",
   "execution_count": null,
   "id": "2e28a7f2-9f0d-4ff4-9427-34289ad8b1e7",
   "metadata": {},
   "outputs": [],
   "source": []
  },
  {
   "cell_type": "code",
   "execution_count": null,
   "id": "18e0ddd9-b2a3-4e1e-b0d4-d688070375a8",
   "metadata": {},
   "outputs": [],
   "source": []
  },
  {
   "cell_type": "code",
   "execution_count": null,
   "id": "0b72dcef-964a-44ac-8ffc-6d82d0d1255b",
   "metadata": {},
   "outputs": [],
   "source": []
  },
  {
   "cell_type": "code",
   "execution_count": null,
   "id": "13d999c0-3e87-4dac-a48a-b1249ae0b41a",
   "metadata": {},
   "outputs": [],
   "source": []
  },
  {
   "cell_type": "code",
   "execution_count": null,
   "id": "4e7d99a5-aed0-40cf-8641-da4f8d6a4e26",
   "metadata": {},
   "outputs": [],
   "source": []
  },
  {
   "cell_type": "code",
   "execution_count": null,
   "id": "4653cb45-0d03-46f9-9583-7fea402b9980",
   "metadata": {},
   "outputs": [],
   "source": []
  },
  {
   "cell_type": "code",
   "execution_count": null,
   "id": "46b99939-4b42-4d97-bcb0-51fec92d1118",
   "metadata": {},
   "outputs": [],
   "source": []
  },
  {
   "cell_type": "code",
   "execution_count": null,
   "id": "b1b33287-21a8-4f17-8e9f-5111d2b85d8a",
   "metadata": {},
   "outputs": [],
   "source": []
  },
  {
   "cell_type": "code",
   "execution_count": null,
   "id": "3afb3bf9-2a8a-4eff-9241-c270b22bcddb",
   "metadata": {},
   "outputs": [],
   "source": [
    "# flights_jan_dec_19_18_query=\"select * from flights where fl_date > '2017-12-31' and fl_date < '2018-01-08' union select * from flights  where fl_date > '2018-11-30' and fl_date < '2019-02-01' union select * from flights where  fl_date > '2019-11-30' and fl_date < '2020-01-01' LIMIT 300000;\"\n",
    "# flights_jan_dec_19_18 = query_db(flights_jan_dec_19_18_query,conn)"
   ]
  },
  {
   "cell_type": "code",
   "execution_count": null,
   "id": "b56df67d-0e66-4040-af61-a7c77d6660d3",
   "metadata": {},
   "outputs": [],
   "source": [
    "# write_to_file('flights_jan_dec_19_18',flights_jan_dec_19_18)"
   ]
  },
  {
   "cell_type": "code",
   "execution_count": null,
   "id": "46a2738c-9214-44ff-8976-bc23c7e7dd82",
   "metadata": {},
   "outputs": [],
   "source": []
  },
  {
   "cell_type": "code",
   "execution_count": null,
   "id": "1c1c8676-dbd8-4eff-bbf8-ab306db40116",
   "metadata": {},
   "outputs": [],
   "source": [
    "# passengers_jan_dec_19_18_query = \"select * from passengers where \\\"month\\\" in (1, 12) and year in (2018, 2019) LIMIT 300000;\"\n",
    "# passengers_jan_dec_19_18 = query_db(passengers_jan_dec_19_18_query,conn)"
   ]
  },
  {
   "cell_type": "code",
   "execution_count": null,
   "id": "2a784b89-1edf-406f-96fc-88750efee096",
   "metadata": {},
   "outputs": [],
   "source": [
    "# write_to_file('passengers_jan_dec_19_18',passengers_jan_dec_19_18)"
   ]
  },
  {
   "cell_type": "code",
   "execution_count": null,
   "id": "369073be-c0c3-4e43-a9a9-227f5a5e25e4",
   "metadata": {},
   "outputs": [],
   "source": [
    "# flights = pd.read_csv('flights_jan_dec_19_18.csv', sep = ',')"
   ]
  },
  {
   "cell_type": "code",
   "execution_count": null,
   "id": "06665568-a3e8-40b8-8fc4-4ae9a68f37b5",
   "metadata": {},
   "outputs": [],
   "source": [
    "# flights"
   ]
  },
  {
   "cell_type": "code",
   "execution_count": null,
   "id": "5d73fe38-ae0e-4924-b490-157c339acd8d",
   "metadata": {},
   "outputs": [],
   "source": []
  }
 ],
 "metadata": {
  "kernelspec": {
   "display_name": "Python 3",
   "language": "python",
   "name": "python3"
  },
  "language_info": {
   "codemirror_mode": {
    "name": "ipython",
    "version": 3
   },
   "file_extension": ".py",
   "mimetype": "text/x-python",
   "name": "python",
   "nbconvert_exporter": "python",
   "pygments_lexer": "ipython3",
   "version": "3.8.8"
  }
 },
 "nbformat": 4,
 "nbformat_minor": 5
}
