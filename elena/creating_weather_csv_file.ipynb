{
 "cells": [
  {
   "cell_type": "code",
   "execution_count": 2,
   "id": "bcb694da-54c0-4c0e-94a9-bdd184b78b8f",
   "metadata": {},
   "outputs": [],
   "source": [
    "import pandas as pd"
   ]
  },
  {
   "cell_type": "code",
   "execution_count": 3,
   "id": "25a6bd33-acb9-4450-8f9c-1ecd6255d440",
   "metadata": {},
   "outputs": [],
   "source": [
    "df1 = pd.read_csv('group_a_dec_18.csv')"
   ]
  },
  {
   "cell_type": "code",
   "execution_count": 4,
   "id": "26c8fcb2-dcc1-4a72-abf3-a38564d72d24",
   "metadata": {},
   "outputs": [],
   "source": [
    "df2 = pd.read_csv('group_a_dec_19.csv')"
   ]
  },
  {
   "cell_type": "code",
   "execution_count": 5,
   "id": "0d171913-c128-45be-9d70-3aec0b3bc850",
   "metadata": {},
   "outputs": [],
   "source": [
    "df3 = pd.read_csv('group_a_jan_18.csv')"
   ]
  },
  {
   "cell_type": "code",
   "execution_count": 6,
   "id": "08f0b72d-fbfb-4257-bd8f-bc5efa589d47",
   "metadata": {},
   "outputs": [],
   "source": [
    "df4 = pd.read_csv('group_a_jan_19.csv')"
   ]
  },
  {
   "cell_type": "code",
   "execution_count": 7,
   "id": "2318dedf-461c-4121-ae8e-9f83acc2c0ac",
   "metadata": {},
   "outputs": [],
   "source": [
    "df5 = pd.read_csv('group_b_dec_18.csv')"
   ]
  },
  {
   "cell_type": "code",
   "execution_count": 8,
   "id": "0289190f-b519-439f-bfbb-02df119cc6b4",
   "metadata": {},
   "outputs": [],
   "source": [
    "df6 = pd.read_csv('group_b_dec_19.csv')"
   ]
  },
  {
   "cell_type": "code",
   "execution_count": 9,
   "id": "aaf75e52-e69d-46fb-8e75-c3eeef6efd6e",
   "metadata": {},
   "outputs": [],
   "source": [
    "df7 = pd.read_csv('group_b_jan_18.csv')"
   ]
  },
  {
   "cell_type": "code",
   "execution_count": 10,
   "id": "d3f5be68-ab04-456d-857b-19b9dcea5c07",
   "metadata": {},
   "outputs": [],
   "source": [
    "df8 = pd.read_csv('group_b_jan_19.csv')"
   ]
  },
  {
   "cell_type": "code",
   "execution_count": 11,
   "id": "70699460-b029-45fd-a0fa-5ba0ab51a0d9",
   "metadata": {},
   "outputs": [],
   "source": [
    "df = pd.concat([df1, df2, df3, df4, df5, df6, df7, df8], ignore_index=True)"
   ]
  },
  {
   "cell_type": "markdown",
   "id": "614ae35b-3dfb-4717-a82b-442fffd8d79c",
   "metadata": {},
   "source": [
    "### Changing date and city format so it will correspond to a sample format"
   ]
  },
  {
   "cell_type": "code",
   "execution_count": 13,
   "id": "c113ab18-208e-4dbe-80ce-4011d94fb308",
   "metadata": {},
   "outputs": [],
   "source": [
    "df['Date time'] = pd.to_datetime(df['Date time'])"
   ]
  },
  {
   "cell_type": "code",
   "execution_count": 14,
   "id": "06cb68ec-7ce2-44e9-abe0-f7c9cc1d8806",
   "metadata": {},
   "outputs": [],
   "source": [
    "df['Date time'] = df['Date time'].dt.strftime('%Y-%m-%d')"
   ]
  },
  {
   "cell_type": "code",
   "execution_count": 17,
   "id": "81ee3ee6-c5b9-4a30-926c-c54978582acf",
   "metadata": {},
   "outputs": [],
   "source": [
    "my_lambda = lambda x: ''.join(x.split(',')[0]).lower()"
   ]
  },
  {
   "cell_type": "code",
   "execution_count": 18,
   "id": "0cf0ced6-13ce-4963-9a7d-98e0f5d33f2e",
   "metadata": {},
   "outputs": [],
   "source": [
    "df['Name'] = df['Name'].apply(my_lambda)"
   ]
  },
  {
   "cell_type": "code",
   "execution_count": 19,
   "id": "1acd2658-c92b-4af4-b6c6-15d181300f6b",
   "metadata": {},
   "outputs": [
    {
     "data": {
      "text/html": [
       "<div>\n",
       "<style scoped>\n",
       "    .dataframe tbody tr th:only-of-type {\n",
       "        vertical-align: middle;\n",
       "    }\n",
       "\n",
       "    .dataframe tbody tr th {\n",
       "        vertical-align: top;\n",
       "    }\n",
       "\n",
       "    .dataframe thead th {\n",
       "        text-align: right;\n",
       "    }\n",
       "</style>\n",
       "<table border=\"1\" class=\"dataframe\">\n",
       "  <thead>\n",
       "    <tr style=\"text-align: right;\">\n",
       "      <th></th>\n",
       "      <th>Name</th>\n",
       "      <th>Date time</th>\n",
       "      <th>Maximum Temperature</th>\n",
       "      <th>Minimum Temperature</th>\n",
       "      <th>Temperature</th>\n",
       "      <th>Wind Chill</th>\n",
       "      <th>Heat Index</th>\n",
       "      <th>Precipitation</th>\n",
       "      <th>Snow</th>\n",
       "      <th>Snow Depth</th>\n",
       "      <th>Wind Speed</th>\n",
       "      <th>Wind Direction</th>\n",
       "      <th>Wind Gust</th>\n",
       "      <th>Visibility</th>\n",
       "      <th>Cloud Cover</th>\n",
       "      <th>Relative Humidity</th>\n",
       "      <th>Conditions</th>\n",
       "    </tr>\n",
       "  </thead>\n",
       "  <tbody>\n",
       "    <tr>\n",
       "      <th>0</th>\n",
       "      <td>atlanta</td>\n",
       "      <td>2018-12-01</td>\n",
       "      <td>60.4</td>\n",
       "      <td>51.5</td>\n",
       "      <td>55.7</td>\n",
       "      <td>NaN</td>\n",
       "      <td>NaN</td>\n",
       "      <td>1.41</td>\n",
       "      <td>0.0</td>\n",
       "      <td>0.0</td>\n",
       "      <td>10.0</td>\n",
       "      <td>94.75</td>\n",
       "      <td>19.7</td>\n",
       "      <td>5.3</td>\n",
       "      <td>92.6</td>\n",
       "      <td>89.19</td>\n",
       "      <td>Rain, Overcast</td>\n",
       "    </tr>\n",
       "    <tr>\n",
       "      <th>1</th>\n",
       "      <td>atlanta</td>\n",
       "      <td>2018-12-02</td>\n",
       "      <td>72.2</td>\n",
       "      <td>50.9</td>\n",
       "      <td>64.0</td>\n",
       "      <td>NaN</td>\n",
       "      <td>NaN</td>\n",
       "      <td>0.04</td>\n",
       "      <td>0.0</td>\n",
       "      <td>0.0</td>\n",
       "      <td>10.7</td>\n",
       "      <td>233.17</td>\n",
       "      <td>NaN</td>\n",
       "      <td>7.5</td>\n",
       "      <td>55.5</td>\n",
       "      <td>74.89</td>\n",
       "      <td>Rain, Partially cloudy</td>\n",
       "    </tr>\n",
       "    <tr>\n",
       "      <th>2</th>\n",
       "      <td>atlanta</td>\n",
       "      <td>2018-12-03</td>\n",
       "      <td>64.0</td>\n",
       "      <td>45.7</td>\n",
       "      <td>53.2</td>\n",
       "      <td>40.6</td>\n",
       "      <td>NaN</td>\n",
       "      <td>0.00</td>\n",
       "      <td>0.0</td>\n",
       "      <td>0.0</td>\n",
       "      <td>13.1</td>\n",
       "      <td>281.46</td>\n",
       "      <td>29.8</td>\n",
       "      <td>9.8</td>\n",
       "      <td>41.0</td>\n",
       "      <td>60.49</td>\n",
       "      <td>Partially cloudy</td>\n",
       "    </tr>\n",
       "    <tr>\n",
       "      <th>3</th>\n",
       "      <td>atlanta</td>\n",
       "      <td>2018-12-04</td>\n",
       "      <td>48.1</td>\n",
       "      <td>35.8</td>\n",
       "      <td>41.9</td>\n",
       "      <td>31.6</td>\n",
       "      <td>NaN</td>\n",
       "      <td>0.00</td>\n",
       "      <td>0.0</td>\n",
       "      <td>0.0</td>\n",
       "      <td>14.5</td>\n",
       "      <td>320.00</td>\n",
       "      <td>33.3</td>\n",
       "      <td>9.9</td>\n",
       "      <td>19.9</td>\n",
       "      <td>60.03</td>\n",
       "      <td>Clear</td>\n",
       "    </tr>\n",
       "    <tr>\n",
       "      <th>4</th>\n",
       "      <td>atlanta</td>\n",
       "      <td>2018-12-05</td>\n",
       "      <td>42.9</td>\n",
       "      <td>30.3</td>\n",
       "      <td>35.6</td>\n",
       "      <td>24.3</td>\n",
       "      <td>NaN</td>\n",
       "      <td>0.00</td>\n",
       "      <td>0.0</td>\n",
       "      <td>0.0</td>\n",
       "      <td>15.0</td>\n",
       "      <td>312.75</td>\n",
       "      <td>24.4</td>\n",
       "      <td>9.9</td>\n",
       "      <td>9.8</td>\n",
       "      <td>61.49</td>\n",
       "      <td>Clear</td>\n",
       "    </tr>\n",
       "  </tbody>\n",
       "</table>\n",
       "</div>"
      ],
      "text/plain": [
       "      Name   Date time  Maximum Temperature  Minimum Temperature  Temperature  \\\n",
       "0  atlanta  2018-12-01                 60.4                 51.5         55.7   \n",
       "1  atlanta  2018-12-02                 72.2                 50.9         64.0   \n",
       "2  atlanta  2018-12-03                 64.0                 45.7         53.2   \n",
       "3  atlanta  2018-12-04                 48.1                 35.8         41.9   \n",
       "4  atlanta  2018-12-05                 42.9                 30.3         35.6   \n",
       "\n",
       "   Wind Chill  Heat Index  Precipitation  Snow  Snow Depth  Wind Speed  \\\n",
       "0         NaN         NaN           1.41   0.0         0.0        10.0   \n",
       "1         NaN         NaN           0.04   0.0         0.0        10.7   \n",
       "2        40.6         NaN           0.00   0.0         0.0        13.1   \n",
       "3        31.6         NaN           0.00   0.0         0.0        14.5   \n",
       "4        24.3         NaN           0.00   0.0         0.0        15.0   \n",
       "\n",
       "   Wind Direction  Wind Gust  Visibility  Cloud Cover  Relative Humidity  \\\n",
       "0           94.75       19.7         5.3         92.6              89.19   \n",
       "1          233.17        NaN         7.5         55.5              74.89   \n",
       "2          281.46       29.8         9.8         41.0              60.49   \n",
       "3          320.00       33.3         9.9         19.9              60.03   \n",
       "4          312.75       24.4         9.9          9.8              61.49   \n",
       "\n",
       "               Conditions  \n",
       "0          Rain, Overcast  \n",
       "1  Rain, Partially cloudy  \n",
       "2        Partially cloudy  \n",
       "3                   Clear  \n",
       "4                   Clear  "
      ]
     },
     "execution_count": 19,
     "metadata": {},
     "output_type": "execute_result"
    }
   ],
   "source": [
    "df.head()"
   ]
  },
  {
   "cell_type": "code",
   "execution_count": 20,
   "id": "a5a183aa-12fa-47b0-b4f1-1a45748e665b",
   "metadata": {},
   "outputs": [],
   "source": [
    "df.to_csv('weather.csv', sep=\",\", index = False)"
   ]
  },
  {
   "cell_type": "code",
   "execution_count": null,
   "id": "cfb18302-2007-486d-a376-cebc0bdd4cc5",
   "metadata": {},
   "outputs": [],
   "source": []
  },
  {
   "cell_type": "code",
   "execution_count": null,
   "id": "1eac46bc-6597-4870-8882-55dd2f20b143",
   "metadata": {},
   "outputs": [],
   "source": []
  }
 ],
 "metadata": {
  "kernelspec": {
   "display_name": "Python 3",
   "language": "python",
   "name": "python3"
  },
  "language_info": {
   "codemirror_mode": {
    "name": "ipython",
    "version": 3
   },
   "file_extension": ".py",
   "mimetype": "text/x-python",
   "name": "python",
   "nbconvert_exporter": "python",
   "pygments_lexer": "ipython3",
   "version": "3.8.8"
  }
 },
 "nbformat": 4,
 "nbformat_minor": 5
}
