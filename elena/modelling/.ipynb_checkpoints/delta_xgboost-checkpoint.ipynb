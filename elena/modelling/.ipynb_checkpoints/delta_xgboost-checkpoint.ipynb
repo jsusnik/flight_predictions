{
 "cells": [
  {
   "cell_type": "code",
   "execution_count": 26,
   "id": "ca5054bc-5a08-468e-887b-023f7649d99c",
   "metadata": {},
   "outputs": [],
   "source": [
    "import xgboost as xgb\n",
    "import pandas as pd\n",
    "import warnings\n",
    "warnings.filterwarnings('ignore')"
   ]
  },
  {
   "cell_type": "code",
   "execution_count": 27,
   "id": "7e8572d6-e8b6-4dd2-ae07-a34eda5b5471",
   "metadata": {},
   "outputs": [],
   "source": [
    "df = pd.read_csv('delta_encoded.csv')"
   ]
  },
  {
   "cell_type": "code",
   "execution_count": 28,
   "id": "3a1eaea8-6608-4a5b-b3c1-09240ca4f6c5",
   "metadata": {},
   "outputs": [],
   "source": [
    "#df = df.drop(['origin_city_name', 'dest_city_name'], axis = 1)"
   ]
  },
  {
   "cell_type": "code",
   "execution_count": 29,
   "id": "32a1807c-934a-4802-a229-4fedd4f7976a",
   "metadata": {},
   "outputs": [
    {
     "data": {
      "text/html": [
       "<div>\n",
       "<style scoped>\n",
       "    .dataframe tbody tr th:only-of-type {\n",
       "        vertical-align: middle;\n",
       "    }\n",
       "\n",
       "    .dataframe tbody tr th {\n",
       "        vertical-align: top;\n",
       "    }\n",
       "\n",
       "    .dataframe thead th {\n",
       "        text-align: right;\n",
       "    }\n",
       "</style>\n",
       "<table border=\"1\" class=\"dataframe\">\n",
       "  <thead>\n",
       "    <tr style=\"text-align: right;\">\n",
       "      <th></th>\n",
       "      <th>origin_city_name</th>\n",
       "      <th>dest_city_name</th>\n",
       "      <th>distance</th>\n",
       "      <th>day_of_the_week</th>\n",
       "      <th>origin_wind_speed</th>\n",
       "      <th>origin_visibility</th>\n",
       "      <th>origin_conditions</th>\n",
       "      <th>dest_wind_speed</th>\n",
       "      <th>dest_visibility</th>\n",
       "      <th>dest_conditions</th>\n",
       "      <th>holiday</th>\n",
       "      <th>arr_delay</th>\n",
       "    </tr>\n",
       "  </thead>\n",
       "  <tbody>\n",
       "    <tr>\n",
       "      <th>0</th>\n",
       "      <td>7</td>\n",
       "      <td>2</td>\n",
       "      <td>733.0</td>\n",
       "      <td>5</td>\n",
       "      <td>14.4</td>\n",
       "      <td>9.6</td>\n",
       "      <td>4</td>\n",
       "      <td>25.3</td>\n",
       "      <td>7.9</td>\n",
       "      <td>7</td>\n",
       "      <td>1</td>\n",
       "      <td>-29.0</td>\n",
       "    </tr>\n",
       "    <tr>\n",
       "      <th>1</th>\n",
       "      <td>6</td>\n",
       "      <td>7</td>\n",
       "      <td>2475.0</td>\n",
       "      <td>5</td>\n",
       "      <td>4.2</td>\n",
       "      <td>9.9</td>\n",
       "      <td>0</td>\n",
       "      <td>14.4</td>\n",
       "      <td>9.6</td>\n",
       "      <td>4</td>\n",
       "      <td>1</td>\n",
       "      <td>-3.0</td>\n",
       "    </tr>\n",
       "    <tr>\n",
       "      <th>2</th>\n",
       "      <td>0</td>\n",
       "      <td>7</td>\n",
       "      <td>762.0</td>\n",
       "      <td>5</td>\n",
       "      <td>18.6</td>\n",
       "      <td>9.9</td>\n",
       "      <td>0</td>\n",
       "      <td>14.4</td>\n",
       "      <td>9.6</td>\n",
       "      <td>4</td>\n",
       "      <td>1</td>\n",
       "      <td>-17.0</td>\n",
       "    </tr>\n",
       "    <tr>\n",
       "      <th>3</th>\n",
       "      <td>2</td>\n",
       "      <td>0</td>\n",
       "      <td>606.0</td>\n",
       "      <td>5</td>\n",
       "      <td>25.3</td>\n",
       "      <td>7.9</td>\n",
       "      <td>7</td>\n",
       "      <td>18.6</td>\n",
       "      <td>9.9</td>\n",
       "      <td>0</td>\n",
       "      <td>1</td>\n",
       "      <td>-18.0</td>\n",
       "    </tr>\n",
       "    <tr>\n",
       "      <th>4</th>\n",
       "      <td>9</td>\n",
       "      <td>0</td>\n",
       "      <td>547.0</td>\n",
       "      <td>5</td>\n",
       "      <td>15.3</td>\n",
       "      <td>8.7</td>\n",
       "      <td>1</td>\n",
       "      <td>18.6</td>\n",
       "      <td>9.9</td>\n",
       "      <td>0</td>\n",
       "      <td>1</td>\n",
       "      <td>-19.0</td>\n",
       "    </tr>\n",
       "  </tbody>\n",
       "</table>\n",
       "</div>"
      ],
      "text/plain": [
       "   origin_city_name  dest_city_name  distance  day_of_the_week  \\\n",
       "0                 7               2     733.0                5   \n",
       "1                 6               7    2475.0                5   \n",
       "2                 0               7     762.0                5   \n",
       "3                 2               0     606.0                5   \n",
       "4                 9               0     547.0                5   \n",
       "\n",
       "   origin_wind_speed  origin_visibility  origin_conditions  dest_wind_speed  \\\n",
       "0               14.4                9.6                  4             25.3   \n",
       "1                4.2                9.9                  0             14.4   \n",
       "2               18.6                9.9                  0             14.4   \n",
       "3               25.3                7.9                  7             18.6   \n",
       "4               15.3                8.7                  1             18.6   \n",
       "\n",
       "   dest_visibility  dest_conditions  holiday  arr_delay  \n",
       "0              7.9                7        1      -29.0  \n",
       "1              9.6                4        1       -3.0  \n",
       "2              9.6                4        1      -17.0  \n",
       "3              9.9                0        1      -18.0  \n",
       "4              9.9                0        1      -19.0  "
      ]
     },
     "execution_count": 29,
     "metadata": {},
     "output_type": "execute_result"
    }
   ],
   "source": [
    "df.head()"
   ]
  },
  {
   "cell_type": "code",
   "execution_count": 30,
   "id": "4528ec7f-a7d2-428e-b8f4-b2846712da68",
   "metadata": {},
   "outputs": [],
   "source": [
    "X = df.drop(['arr_delay'], axis = 1)\n",
    "y = df['arr_delay']"
   ]
  },
  {
   "cell_type": "code",
   "execution_count": 31,
   "id": "1253e9b6-951f-4a41-ad2f-cbc2bf373e5a",
   "metadata": {},
   "outputs": [],
   "source": [
    "data_dmatrix = xgb.DMatrix(data=X,label=y)"
   ]
  },
  {
   "cell_type": "code",
   "execution_count": 32,
   "id": "bb70ff61-e6a2-4e9f-8475-13952522ca77",
   "metadata": {},
   "outputs": [],
   "source": [
    "from sklearn.model_selection import train_test_split\n",
    "X_train, X_test, y_train, y_test = train_test_split(X, y, test_size = 0.7, random_state = 5)"
   ]
  },
  {
   "cell_type": "code",
   "execution_count": 33,
   "id": "5569f2ec-c0aa-4e21-b8f6-c63d051f275f",
   "metadata": {},
   "outputs": [],
   "source": [
    "from sklearn.model_selection import GridSearchCV"
   ]
  },
  {
   "cell_type": "code",
   "execution_count": 34,
   "id": "9c771933-d5ee-4390-b4cc-ce2d6e7e84ba",
   "metadata": {},
   "outputs": [],
   "source": [
    "xg = xgb.XGBRegressor(n_estimators = 100)"
   ]
  },
  {
   "cell_type": "code",
   "execution_count": 35,
   "id": "1dc4473d-43f1-4755-bc58-b810251d5bbd",
   "metadata": {},
   "outputs": [
    {
     "name": "stdout",
     "output_type": "stream",
     "text": [
      "XGBRegressor(base_score=0.5, booster='gbtree', colsample_bylevel=1,\n",
      "             colsample_bynode=1, colsample_bytree=0.4, gamma=0.2, gpu_id=-1,\n",
      "             importance_type='gain', interaction_constraints='',\n",
      "             learning_rate=0.1, max_delta_step=0, max_depth=8,\n",
      "             min_child_weight=7, missing=nan, monotone_constraints='()',\n",
      "             n_estimators=100, n_jobs=8, num_parallel_tree=1, random_state=0,\n",
      "             reg_alpha=0, reg_lambda=1, scale_pos_weight=1, subsample=1,\n",
      "             tree_method='exact', validate_parameters=1, verbosity=None)\n"
     ]
    }
   ],
   "source": [
    "param_grid={\"learning_rate\": (0.05, 0.10, 0.15),\n",
    "                        \"max_depth\": [ 3, 4, 5, 6, 8],\n",
    "                        \"min_child_weight\": [ 1, 3, 5, 7],\n",
    "                        \"gamma\":[ 0.0, 0.1, 0.2],\n",
    "                        \"colsample_bytree\":[ 0.3, 0.4]}\n",
    "\n",
    "# define the grid search\n",
    "XG_reg= GridSearchCV(xg, param_grid,cv=5)\n",
    "\n",
    "#fit the grid search\n",
    "XG_reg.fit(X_train,y_train)\n",
    "\n",
    "# best estimator\n",
    "print(XG_reg.best_estimator_)"
   ]
  },
  {
   "cell_type": "code",
   "execution_count": 36,
   "id": "93abfdf3-73d0-4d06-b59d-e2fb974a5e2a",
   "metadata": {},
   "outputs": [
    {
     "data": {
      "text/plain": [
       "XGBRegressor(base_score=0.5, booster='gbtree', colsample_bylevel=1,\n",
       "             colsample_bynode=1, colsample_bytree=0.4, gamma=0.2, gpu_id=-1,\n",
       "             importance_type='gain', interaction_constraints='',\n",
       "             learning_rate=0.1, max_delta_step=0, max_depth=8,\n",
       "             min_child_weight=7, missing=nan, monotone_constraints='()',\n",
       "             n_estimators=100, n_jobs=8, num_parallel_tree=1, random_state=0,\n",
       "             reg_alpha=0, reg_lambda=1, scale_pos_weight=1, subsample=1,\n",
       "             tree_method='exact', validate_parameters=1, verbosity=None)"
      ]
     },
     "execution_count": 36,
     "metadata": {},
     "output_type": "execute_result"
    }
   ],
   "source": [
    "# best model\n",
    "best_model = XG_reg.best_estimator_\n",
    "best_model.fit(X_train,y_train)"
   ]
  },
  {
   "cell_type": "code",
   "execution_count": 37,
   "id": "c3d5d9b5-c50d-4947-b3f4-22a5edab43da",
   "metadata": {},
   "outputs": [],
   "source": [
    "y_pred = best_model.predict(X_test)"
   ]
  },
  {
   "cell_type": "code",
   "execution_count": 38,
   "id": "e02932c5-6735-4ab8-99b2-87c3122da13e",
   "metadata": {},
   "outputs": [],
   "source": [
    "from sklearn.metrics import r2_score\n",
    "r_2_score = r2_score(y_test, y_pred)"
   ]
  },
  {
   "cell_type": "code",
   "execution_count": 39,
   "id": "ece25e2a-e2ea-4f64-aca6-b5b21e5b9af9",
   "metadata": {},
   "outputs": [
    {
     "name": "stdout",
     "output_type": "stream",
     "text": [
      "0.11895446782785812\n"
     ]
    }
   ],
   "source": [
    "print(r_2_score)"
   ]
  },
  {
   "cell_type": "code",
   "execution_count": null,
   "id": "77e06c84-5b59-4cf1-9a65-a722671bbe08",
   "metadata": {},
   "outputs": [],
   "source": []
  }
 ],
 "metadata": {
  "kernelspec": {
   "display_name": "Python 3",
   "language": "python",
   "name": "python3"
  },
  "language_info": {
   "codemirror_mode": {
    "name": "ipython",
    "version": 3
   },
   "file_extension": ".py",
   "mimetype": "text/x-python",
   "name": "python",
   "nbconvert_exporter": "python",
   "pygments_lexer": "ipython3",
   "version": "3.8.8"
  }
 },
 "nbformat": 4,
 "nbformat_minor": 5
}
