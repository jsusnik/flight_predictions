{
 "cells": [
  {
   "cell_type": "code",
   "execution_count": 22,
   "id": "79317227-e2fb-45ac-a8dd-f5337e600a57",
   "metadata": {},
   "outputs": [],
   "source": [
    "import pandas as pd\n",
    "from sklearn.svm import SVR\n",
    "from sklearn.preprocessing import OneHotEncoder"
   ]
  },
  {
   "cell_type": "code",
   "execution_count": 23,
   "id": "d99b6a0a-e0ce-49a9-a414-1b4c566678c1",
   "metadata": {},
   "outputs": [],
   "source": [
    "df = pd.read_csv('flights_encoded.csv')"
   ]
  },
  {
   "cell_type": "code",
   "execution_count": 24,
   "id": "3098951a-3abd-40fa-95ca-1dea5d52dbb5",
   "metadata": {},
   "outputs": [],
   "source": [
    "df = df.drop(['origin_city_name', 'dest_city_name', 'year'], axis = 1)"
   ]
  },
  {
   "cell_type": "code",
   "execution_count": 25,
   "id": "c23830f4-5d68-4abb-a4e7-51c4f5845469",
   "metadata": {},
   "outputs": [],
   "source": [
    "def categorize(df, column):\n",
    "    df[column] = df[column].astype('category')\n",
    "    return df[column]"
   ]
  },
  {
   "cell_type": "code",
   "execution_count": 26,
   "id": "3a6b1e16-11f2-4906-afae-d51362dd8024",
   "metadata": {},
   "outputs": [],
   "source": [
    "df['scheduled_flight_hour_of_day'] = categorize(df, 'scheduled_flight_hour_of_day')\n",
    "df['day_of_the_week'] = categorize(df, 'day_of_the_week')\n",
    "df['origin_conditions'] = categorize(df, 'origin_conditions')\n",
    "df['dest_conditions'] = categorize(df, 'dest_conditions')\n",
    "df['holiday'] = categorize(df, 'holiday')\n",
    "df['month'] = categorize(df, 'month')"
   ]
  },
  {
   "cell_type": "code",
   "execution_count": 27,
   "id": "22a0561f-aee9-4ea9-b353-4f9898247428",
   "metadata": {},
   "outputs": [],
   "source": [
    "y =df['arr_delay']\n",
    "col_names = ['scheduled_flight_hour_of_day', 'day_of_the_week','origin_conditions','dest_conditions','holiday', 'month']\n",
    "cat_vars_final = df.select_dtypes(['object','category'])\n",
    "cat_vars_final = cat_vars_final.loc[:, col_names]\n",
    "\n",
    "#One Hot Encoder\n",
    "\n",
    "enc = OneHotEncoder().fit(cat_vars_final)\n",
    "\n",
    "cat_vars_ohe_final = enc.transform(cat_vars_final).toarray()\n",
    "cat_vars_ohe_final = pd.DataFrame(cat_vars_ohe_final, index= cat_vars_final.index, \n",
    "                      columns=enc.get_feature_names(cat_vars_final.columns.tolist()))"
   ]
  },
  {
   "cell_type": "code",
   "execution_count": 28,
   "id": "af2ac372-61d0-4d19-ab45-dfc246cd5536",
   "metadata": {},
   "outputs": [],
   "source": [
    "df = df.drop(col_names, axis = 1)"
   ]
  },
  {
   "cell_type": "code",
   "execution_count": 29,
   "id": "17865d94-43c2-4f7c-a3f5-9dda0ad2feb1",
   "metadata": {},
   "outputs": [
    {
     "data": {
      "text/html": [
       "<div>\n",
       "<style scoped>\n",
       "    .dataframe tbody tr th:only-of-type {\n",
       "        vertical-align: middle;\n",
       "    }\n",
       "\n",
       "    .dataframe tbody tr th {\n",
       "        vertical-align: top;\n",
       "    }\n",
       "\n",
       "    .dataframe thead th {\n",
       "        text-align: right;\n",
       "    }\n",
       "</style>\n",
       "<table border=\"1\" class=\"dataframe\">\n",
       "  <thead>\n",
       "    <tr style=\"text-align: right;\">\n",
       "      <th></th>\n",
       "      <th>distance</th>\n",
       "      <th>origin_wind_speed</th>\n",
       "      <th>origin_visibility</th>\n",
       "      <th>dest_wind_speed</th>\n",
       "      <th>dest_visibility</th>\n",
       "      <th>arr_delay</th>\n",
       "    </tr>\n",
       "  </thead>\n",
       "  <tbody>\n",
       "    <tr>\n",
       "      <th>0</th>\n",
       "      <td>1620.0</td>\n",
       "      <td>14.8</td>\n",
       "      <td>9.9</td>\n",
       "      <td>12.3</td>\n",
       "      <td>9.1</td>\n",
       "      <td>-36.0</td>\n",
       "    </tr>\n",
       "    <tr>\n",
       "      <th>1</th>\n",
       "      <td>641.0</td>\n",
       "      <td>15.0</td>\n",
       "      <td>9.9</td>\n",
       "      <td>12.3</td>\n",
       "      <td>9.1</td>\n",
       "      <td>-21.0</td>\n",
       "    </tr>\n",
       "    <tr>\n",
       "      <th>2</th>\n",
       "      <td>1235.0</td>\n",
       "      <td>15.0</td>\n",
       "      <td>9.9</td>\n",
       "      <td>5.6</td>\n",
       "      <td>4.2</td>\n",
       "      <td>-14.0</td>\n",
       "    </tr>\n",
       "    <tr>\n",
       "      <th>3</th>\n",
       "      <td>1199.0</td>\n",
       "      <td>12.3</td>\n",
       "      <td>9.1</td>\n",
       "      <td>14.6</td>\n",
       "      <td>9.9</td>\n",
       "      <td>-23.0</td>\n",
       "    </tr>\n",
       "    <tr>\n",
       "      <th>4</th>\n",
       "      <td>1750.0</td>\n",
       "      <td>5.6</td>\n",
       "      <td>4.2</td>\n",
       "      <td>12.7</td>\n",
       "      <td>9.9</td>\n",
       "      <td>-18.0</td>\n",
       "    </tr>\n",
       "    <tr>\n",
       "      <th>...</th>\n",
       "      <td>...</td>\n",
       "      <td>...</td>\n",
       "      <td>...</td>\n",
       "      <td>...</td>\n",
       "      <td>...</td>\n",
       "      <td>...</td>\n",
       "    </tr>\n",
       "    <tr>\n",
       "      <th>204671</th>\n",
       "      <td>641.0</td>\n",
       "      <td>11.8</td>\n",
       "      <td>9.9</td>\n",
       "      <td>6.1</td>\n",
       "      <td>9.9</td>\n",
       "      <td>-15.0</td>\n",
       "    </tr>\n",
       "    <tr>\n",
       "      <th>204672</th>\n",
       "      <td>601.0</td>\n",
       "      <td>25.3</td>\n",
       "      <td>7.9</td>\n",
       "      <td>15.3</td>\n",
       "      <td>8.7</td>\n",
       "      <td>37.0</td>\n",
       "    </tr>\n",
       "    <tr>\n",
       "      <th>204673</th>\n",
       "      <td>544.0</td>\n",
       "      <td>19.3</td>\n",
       "      <td>9.6</td>\n",
       "      <td>13.2</td>\n",
       "      <td>9.9</td>\n",
       "      <td>-28.0</td>\n",
       "    </tr>\n",
       "    <tr>\n",
       "      <th>204674</th>\n",
       "      <td>612.0</td>\n",
       "      <td>15.3</td>\n",
       "      <td>8.7</td>\n",
       "      <td>25.3</td>\n",
       "      <td>7.9</td>\n",
       "      <td>-8.0</td>\n",
       "    </tr>\n",
       "    <tr>\n",
       "      <th>204675</th>\n",
       "      <td>925.0</td>\n",
       "      <td>8.9</td>\n",
       "      <td>9.3</td>\n",
       "      <td>25.3</td>\n",
       "      <td>7.9</td>\n",
       "      <td>-12.0</td>\n",
       "    </tr>\n",
       "  </tbody>\n",
       "</table>\n",
       "<p>204676 rows × 6 columns</p>\n",
       "</div>"
      ],
      "text/plain": [
       "        distance  origin_wind_speed  origin_visibility  dest_wind_speed  \\\n",
       "0         1620.0               14.8                9.9             12.3   \n",
       "1          641.0               15.0                9.9             12.3   \n",
       "2         1235.0               15.0                9.9              5.6   \n",
       "3         1199.0               12.3                9.1             14.6   \n",
       "4         1750.0                5.6                4.2             12.7   \n",
       "...          ...                ...                ...              ...   \n",
       "204671     641.0               11.8                9.9              6.1   \n",
       "204672     601.0               25.3                7.9             15.3   \n",
       "204673     544.0               19.3                9.6             13.2   \n",
       "204674     612.0               15.3                8.7             25.3   \n",
       "204675     925.0                8.9                9.3             25.3   \n",
       "\n",
       "        dest_visibility  arr_delay  \n",
       "0                   9.1      -36.0  \n",
       "1                   9.1      -21.0  \n",
       "2                   4.2      -14.0  \n",
       "3                   9.9      -23.0  \n",
       "4                   9.9      -18.0  \n",
       "...                 ...        ...  \n",
       "204671              9.9      -15.0  \n",
       "204672              8.7       37.0  \n",
       "204673              9.9      -28.0  \n",
       "204674              7.9       -8.0  \n",
       "204675              7.9      -12.0  \n",
       "\n",
       "[204676 rows x 6 columns]"
      ]
     },
     "execution_count": 29,
     "metadata": {},
     "output_type": "execute_result"
    }
   ],
   "source": [
    "df"
   ]
  },
  {
   "cell_type": "code",
   "execution_count": 30,
   "id": "48a15589-534f-4153-811f-f746b4f4008f",
   "metadata": {},
   "outputs": [],
   "source": [
    "cat_vars_ohe_final[['distance','origin_wind_speed','origin_visibility','dest_wind_speed','dest_visibility','arr_delay']] = df"
   ]
  },
  {
   "cell_type": "code",
   "execution_count": 31,
   "id": "de0a3d7d-6190-483f-834c-99450900ef65",
   "metadata": {},
   "outputs": [],
   "source": [
    "X = cat_vars_ohe_final.drop(['arr_delay'], axis = 1)\n",
    "y = cat_vars_ohe_final['arr_delay']"
   ]
  },
  {
   "cell_type": "code",
   "execution_count": 33,
   "id": "10834ea6-b270-470d-94bc-2c16a17f141e",
   "metadata": {},
   "outputs": [],
   "source": [
    "from sklearn.model_selection import train_test_split\n",
    "X_train, X_test, y_train, y_test = train_test_split(X, y, test_size = 0.7, random_state = 5)"
   ]
  },
  {
   "cell_type": "code",
   "execution_count": 34,
   "id": "e6db4f57-fd83-48e9-8af1-d168271c2627",
   "metadata": {},
   "outputs": [],
   "source": [
    "from sklearn.preprocessing import MinMaxScaler\n",
    "scaling = MinMaxScaler(feature_range=(-1,1)).fit(X_train)\n",
    "X_train = scaling.transform(X_train)\n",
    "X_test = scaling.transform(X_test)"
   ]
  },
  {
   "cell_type": "code",
   "execution_count": 36,
   "id": "0525262e-51e0-4986-a4bd-9ad9a9ae4750",
   "metadata": {},
   "outputs": [],
   "source": [
    "from sklearn.model_selection import GridSearchCV\n",
    "param_grid = {'C': [0.1,1, 10, 100], 'gamma': [1,0.1,0.01,0.001],'kernel': ['linear', 'poly', 'rbf', 'sigmoid'], 'degree' : [3,8]}\n",
    "svr = SVR()"
   ]
  },
  {
   "cell_type": "code",
   "execution_count": null,
   "id": "5880ee94-ecac-4e15-a7fe-69a5617191b0",
   "metadata": {},
   "outputs": [],
   "source": [
    "# define the grid search\n",
    "svr_reg= GridSearchCV(svr, param_grid ,cv=5)\n",
    "\n",
    "#fit the grid search\n",
    "svr_reg.fit(X_train,y_train)\n",
    "\n",
    "# best estimator\n",
    "print(svr_reg.best_estimator_)"
   ]
  },
  {
   "cell_type": "code",
   "execution_count": null,
   "id": "d99a4ed4-9d52-4efd-a5b6-26a086db1420",
   "metadata": {},
   "outputs": [],
   "source": [
    "# best model\n",
    "best_model = svr_reg.best_estimator_\n",
    "best_model.fit(X_train,y_train)"
   ]
  },
  {
   "cell_type": "code",
   "execution_count": null,
   "id": "acd8b455-0e5b-4ece-9b12-1df6f5587306",
   "metadata": {},
   "outputs": [],
   "source": [
    "y_pred = best_model.predict(X_test)"
   ]
  },
  {
   "cell_type": "code",
   "execution_count": null,
   "id": "0335f062-2272-4db6-82f6-d3276cc5e70e",
   "metadata": {},
   "outputs": [],
   "source": [
    "from sklearn.metrics import r2_score\n",
    "r_2_score = r2_score(y_test, y_pred)\n",
    "print(r_2_score)"
   ]
  }
 ],
 "metadata": {
  "kernelspec": {
   "display_name": "Python 3",
   "language": "python",
   "name": "python3"
  },
  "language_info": {
   "codemirror_mode": {
    "name": "ipython",
    "version": 3
   },
   "file_extension": ".py",
   "mimetype": "text/x-python",
   "name": "python",
   "nbconvert_exporter": "python",
   "pygments_lexer": "ipython3",
   "version": "3.8.8"
  }
 },
 "nbformat": 4,
 "nbformat_minor": 5
}
