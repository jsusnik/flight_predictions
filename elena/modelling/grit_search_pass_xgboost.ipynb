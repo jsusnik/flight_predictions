{
 "cells": [
  {
   "cell_type": "code",
   "execution_count": 9,
   "id": "ca5054bc-5a08-468e-887b-023f7649d99c",
   "metadata": {},
   "outputs": [],
   "source": [
    "import xgboost as xgb\n",
    "import pandas as pd\n",
    "import warnings\n",
    "warnings.filterwarnings('ignore')"
   ]
  },
  {
   "cell_type": "code",
   "execution_count": 10,
   "id": "7e8572d6-e8b6-4dd2-ae07-a34eda5b5471",
   "metadata": {},
   "outputs": [],
   "source": [
    "df = pd.read_csv('pass_encoded.csv')"
   ]
  },
  {
   "cell_type": "code",
   "execution_count": 11,
   "id": "dcc206d2-c6b9-492e-9eaa-28d8fbe3f15a",
   "metadata": {},
   "outputs": [
    {
     "data": {
      "text/plain": [
       "Index(['origin_airport_id', 'dest_airport_id', 'origin_city_name',\n",
       "       'dest_city_name', 'distance', 'day_of_the_week', 'origin_wind_speed',\n",
       "       'origin_visibility', 'origin_conditions', 'dest_wind_speed',\n",
       "       'dest_visibility', 'dest_conditions', 'holiday', 'arr_delay',\n",
       "       'passengers', 'month'],\n",
       "      dtype='object')"
      ]
     },
     "execution_count": 11,
     "metadata": {},
     "output_type": "execute_result"
    }
   ],
   "source": [
    "df.columns"
   ]
  },
  {
   "cell_type": "code",
   "execution_count": 12,
   "id": "3a1eaea8-6608-4a5b-b3c1-09240ca4f6c5",
   "metadata": {},
   "outputs": [],
   "source": [
    "df = df.drop(['origin_city_name', 'dest_city_name','dest_airport_id'], axis = 1)"
   ]
  },
  {
   "cell_type": "code",
   "execution_count": 13,
   "id": "32a1807c-934a-4802-a229-4fedd4f7976a",
   "metadata": {},
   "outputs": [
    {
     "data": {
      "text/html": [
       "<div>\n",
       "<style scoped>\n",
       "    .dataframe tbody tr th:only-of-type {\n",
       "        vertical-align: middle;\n",
       "    }\n",
       "\n",
       "    .dataframe tbody tr th {\n",
       "        vertical-align: top;\n",
       "    }\n",
       "\n",
       "    .dataframe thead th {\n",
       "        text-align: right;\n",
       "    }\n",
       "</style>\n",
       "<table border=\"1\" class=\"dataframe\">\n",
       "  <thead>\n",
       "    <tr style=\"text-align: right;\">\n",
       "      <th></th>\n",
       "      <th>origin_airport_id</th>\n",
       "      <th>distance</th>\n",
       "      <th>day_of_the_week</th>\n",
       "      <th>origin_wind_speed</th>\n",
       "      <th>origin_visibility</th>\n",
       "      <th>origin_conditions</th>\n",
       "      <th>dest_wind_speed</th>\n",
       "      <th>dest_visibility</th>\n",
       "      <th>dest_conditions</th>\n",
       "      <th>holiday</th>\n",
       "      <th>arr_delay</th>\n",
       "      <th>passengers</th>\n",
       "      <th>month</th>\n",
       "    </tr>\n",
       "  </thead>\n",
       "  <tbody>\n",
       "    <tr>\n",
       "      <th>0</th>\n",
       "      <td>12892</td>\n",
       "      <td>2288.0</td>\n",
       "      <td>6</td>\n",
       "      <td>11.9</td>\n",
       "      <td>4.9</td>\n",
       "      <td>4</td>\n",
       "      <td>18.1</td>\n",
       "      <td>9.4</td>\n",
       "      <td>2</td>\n",
       "      <td>0</td>\n",
       "      <td>2.0</td>\n",
       "      <td>798478</td>\n",
       "      <td>1</td>\n",
       "    </tr>\n",
       "    <tr>\n",
       "      <th>1</th>\n",
       "      <td>12266</td>\n",
       "      <td>224.0</td>\n",
       "      <td>2</td>\n",
       "      <td>8.2</td>\n",
       "      <td>9.8</td>\n",
       "      <td>0</td>\n",
       "      <td>11.3</td>\n",
       "      <td>9.9</td>\n",
       "      <td>0</td>\n",
       "      <td>0</td>\n",
       "      <td>-26.0</td>\n",
       "      <td>363850</td>\n",
       "      <td>1</td>\n",
       "    </tr>\n",
       "    <tr>\n",
       "      <th>2</th>\n",
       "      <td>11278</td>\n",
       "      <td>331.0</td>\n",
       "      <td>3</td>\n",
       "      <td>11.1</td>\n",
       "      <td>9.9</td>\n",
       "      <td>2</td>\n",
       "      <td>9.1</td>\n",
       "      <td>9.9</td>\n",
       "      <td>2</td>\n",
       "      <td>0</td>\n",
       "      <td>-11.0</td>\n",
       "      <td>324205</td>\n",
       "      <td>12</td>\n",
       "    </tr>\n",
       "    <tr>\n",
       "      <th>3</th>\n",
       "      <td>12478</td>\n",
       "      <td>2475.0</td>\n",
       "      <td>5</td>\n",
       "      <td>19.3</td>\n",
       "      <td>9.6</td>\n",
       "      <td>5</td>\n",
       "      <td>4.2</td>\n",
       "      <td>9.9</td>\n",
       "      <td>0</td>\n",
       "      <td>0</td>\n",
       "      <td>-50.0</td>\n",
       "      <td>337042</td>\n",
       "      <td>12</td>\n",
       "    </tr>\n",
       "    <tr>\n",
       "      <th>4</th>\n",
       "      <td>13232</td>\n",
       "      <td>937.0</td>\n",
       "      <td>5</td>\n",
       "      <td>16.8</td>\n",
       "      <td>9.7</td>\n",
       "      <td>2</td>\n",
       "      <td>7.3</td>\n",
       "      <td>9.9</td>\n",
       "      <td>0</td>\n",
       "      <td>0</td>\n",
       "      <td>11.0</td>\n",
       "      <td>177681</td>\n",
       "      <td>12</td>\n",
       "    </tr>\n",
       "  </tbody>\n",
       "</table>\n",
       "</div>"
      ],
      "text/plain": [
       "   origin_airport_id  distance  day_of_the_week  origin_wind_speed  \\\n",
       "0              12892    2288.0                6               11.9   \n",
       "1              12266     224.0                2                8.2   \n",
       "2              11278     331.0                3               11.1   \n",
       "3              12478    2475.0                5               19.3   \n",
       "4              13232     937.0                5               16.8   \n",
       "\n",
       "   origin_visibility  origin_conditions  dest_wind_speed  dest_visibility  \\\n",
       "0                4.9                  4             18.1              9.4   \n",
       "1                9.8                  0             11.3              9.9   \n",
       "2                9.9                  2              9.1              9.9   \n",
       "3                9.6                  5              4.2              9.9   \n",
       "4                9.7                  2              7.3              9.9   \n",
       "\n",
       "   dest_conditions  holiday  arr_delay  passengers  month  \n",
       "0                2        0        2.0      798478      1  \n",
       "1                0        0      -26.0      363850      1  \n",
       "2                2        0      -11.0      324205     12  \n",
       "3                0        0      -50.0      337042     12  \n",
       "4                0        0       11.0      177681     12  "
      ]
     },
     "execution_count": 13,
     "metadata": {},
     "output_type": "execute_result"
    }
   ],
   "source": [
    "df.head()"
   ]
  },
  {
   "cell_type": "code",
   "execution_count": 15,
   "id": "980cdb01-1b32-46a3-809c-0faa3b42fe59",
   "metadata": {},
   "outputs": [],
   "source": [
    "df = df[(df['arr_delay'] > -56) & (df['arr_delay'] < 213)]"
   ]
  },
  {
   "cell_type": "code",
   "execution_count": 16,
   "id": "4528ec7f-a7d2-428e-b8f4-b2846712da68",
   "metadata": {},
   "outputs": [],
   "source": [
    "X = df.drop(['arr_delay'], axis = 1)\n",
    "y = df['arr_delay']"
   ]
  },
  {
   "cell_type": "code",
   "execution_count": 17,
   "id": "1253e9b6-951f-4a41-ad2f-cbc2bf373e5a",
   "metadata": {},
   "outputs": [],
   "source": [
    "data_dmatrix = xgb.DMatrix(data=X,label=y)"
   ]
  },
  {
   "cell_type": "code",
   "execution_count": 18,
   "id": "bb70ff61-e6a2-4e9f-8475-13952522ca77",
   "metadata": {},
   "outputs": [],
   "source": [
    "from sklearn.model_selection import train_test_split\n",
    "X_train, X_test, y_train, y_test = train_test_split(X, y, test_size = 0.7, random_state = 5)"
   ]
  },
  {
   "cell_type": "code",
   "execution_count": 19,
   "id": "5569f2ec-c0aa-4e21-b8f6-c63d051f275f",
   "metadata": {},
   "outputs": [],
   "source": [
    "from sklearn.model_selection import GridSearchCV"
   ]
  },
  {
   "cell_type": "code",
   "execution_count": 23,
   "id": "9c771933-d5ee-4390-b4cc-ce2d6e7e84ba",
   "metadata": {},
   "outputs": [],
   "source": [
    "xg = xgb.XGBRegressor(n_estimators = 100)"
   ]
  },
  {
   "cell_type": "code",
   "execution_count": 24,
   "id": "1dc4473d-43f1-4755-bc58-b810251d5bbd",
   "metadata": {},
   "outputs": [
    {
     "name": "stdout",
     "output_type": "stream",
     "text": [
      "XGBRegressor(base_score=0.5, booster='gbtree', colsample_bylevel=1,\n",
      "             colsample_bynode=1, colsample_bytree=0.3, gamma=0.2, gpu_id=-1,\n",
      "             importance_type='gain', interaction_constraints='',\n",
      "             learning_rate=0.1, max_delta_step=0, max_depth=8,\n",
      "             min_child_weight=7, missing=nan, monotone_constraints='()',\n",
      "             n_estimators=100, n_jobs=8, num_parallel_tree=1, random_state=0,\n",
      "             reg_alpha=0, reg_lambda=1, scale_pos_weight=1, subsample=1,\n",
      "             tree_method='exact', validate_parameters=1, verbosity=None)\n"
     ]
    }
   ],
   "source": [
    "param_grid={\"learning_rate\": (0.05, 0.10, 0.15),\n",
    "                        \"max_depth\": [ 3, 4, 5, 6, 8],\n",
    "                        \"min_child_weight\": [ 1, 3, 5, 7],\n",
    "                        \"gamma\":[ 0.0, 0.1, 0.2],\n",
    "                        \"colsample_bytree\":[ 0.3, 0.4]}\n",
    "\n",
    "# define the grid search\n",
    "XG_reg= GridSearchCV(xg, param_grid,cv=5)\n",
    "\n",
    "#fit the grid search\n",
    "XG_reg.fit(X_train,y_train)\n",
    "\n",
    "# best estimator\n",
    "print(XG_reg.best_estimator_)"
   ]
  },
  {
   "cell_type": "code",
   "execution_count": 25,
   "id": "93abfdf3-73d0-4d06-b59d-e2fb974a5e2a",
   "metadata": {},
   "outputs": [
    {
     "data": {
      "text/plain": [
       "XGBRegressor(base_score=0.5, booster='gbtree', colsample_bylevel=1,\n",
       "             colsample_bynode=1, colsample_bytree=0.3, gamma=0.2, gpu_id=-1,\n",
       "             importance_type='gain', interaction_constraints='',\n",
       "             learning_rate=0.1, max_delta_step=0, max_depth=8,\n",
       "             min_child_weight=7, missing=nan, monotone_constraints='()',\n",
       "             n_estimators=100, n_jobs=8, num_parallel_tree=1, random_state=0,\n",
       "             reg_alpha=0, reg_lambda=1, scale_pos_weight=1, subsample=1,\n",
       "             tree_method='exact', validate_parameters=1, verbosity=None)"
      ]
     },
     "execution_count": 25,
     "metadata": {},
     "output_type": "execute_result"
    }
   ],
   "source": [
    "# best model\n",
    "best_model = XG_reg.best_estimator_\n",
    "best_model.fit(X_train,y_train)"
   ]
  },
  {
   "cell_type": "code",
   "execution_count": 26,
   "id": "c3d5d9b5-c50d-4947-b3f4-22a5edab43da",
   "metadata": {},
   "outputs": [],
   "source": [
    "y_pred = best_model.predict(X_test)"
   ]
  },
  {
   "cell_type": "code",
   "execution_count": 27,
   "id": "e02932c5-6735-4ab8-99b2-87c3122da13e",
   "metadata": {},
   "outputs": [],
   "source": [
    "from sklearn.metrics import r2_score\n",
    "r_2_score = r2_score(y_test, y_pred)"
   ]
  },
  {
   "cell_type": "code",
   "execution_count": 28,
   "id": "ece25e2a-e2ea-4f64-aca6-b5b21e5b9af9",
   "metadata": {},
   "outputs": [
    {
     "name": "stdout",
     "output_type": "stream",
     "text": [
      "0.17016691765218317\n"
     ]
    }
   ],
   "source": [
    "print(r_2_score)"
   ]
  },
  {
   "cell_type": "code",
   "execution_count": null,
   "id": "77e06c84-5b59-4cf1-9a65-a722671bbe08",
   "metadata": {},
   "outputs": [],
   "source": []
  }
 ],
 "metadata": {
  "kernelspec": {
   "display_name": "Python 3",
   "language": "python",
   "name": "python3"
  },
  "language_info": {
   "codemirror_mode": {
    "name": "ipython",
    "version": 3
   },
   "file_extension": ".py",
   "mimetype": "text/x-python",
   "name": "python",
   "nbconvert_exporter": "python",
   "pygments_lexer": "ipython3",
   "version": "3.8.8"
  }
 },
 "nbformat": 4,
 "nbformat_minor": 5
}
