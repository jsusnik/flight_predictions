{
 "cells": [
  {
   "cell_type": "code",
   "execution_count": 2,
   "id": "79317227-e2fb-45ac-a8dd-f5337e600a57",
   "metadata": {},
   "outputs": [],
   "source": [
    "import pandas as pd\n",
    "from sklearn.svm import SVR\n",
    "from sklearn.preprocessing import OneHotEncoder"
   ]
  },
  {
   "cell_type": "code",
   "execution_count": 3,
   "id": "d99b6a0a-e0ce-49a9-a414-1b4c566678c1",
   "metadata": {},
   "outputs": [],
   "source": [
    "df = pd.read_csv('flights_encoded.csv')"
   ]
  },
  {
   "cell_type": "code",
   "execution_count": 4,
   "id": "4623e163-1f86-4b33-95eb-3015c9d765b3",
   "metadata": {},
   "outputs": [],
   "source": [
    "df = df[(df['arr_delay'] > -56) & (df['arr_delay'] < 213)]"
   ]
  },
  {
   "cell_type": "code",
   "execution_count": 5,
   "id": "3098951a-3abd-40fa-95ca-1dea5d52dbb5",
   "metadata": {},
   "outputs": [],
   "source": [
    "df = df.drop(['origin_city_name', 'dest_city_name', 'year'], axis = 1)"
   ]
  },
  {
   "cell_type": "code",
   "execution_count": 6,
   "id": "c23830f4-5d68-4abb-a4e7-51c4f5845469",
   "metadata": {},
   "outputs": [],
   "source": [
    "def categorize(df, column):\n",
    "    df[column] = df[column].astype('category')\n",
    "    return df[column]"
   ]
  },
  {
   "cell_type": "code",
   "execution_count": 7,
   "id": "3a6b1e16-11f2-4906-afae-d51362dd8024",
   "metadata": {},
   "outputs": [],
   "source": [
    "df['scheduled_flight_hour_of_day'] = categorize(df, 'scheduled_flight_hour_of_day')\n",
    "df['day_of_the_week'] = categorize(df, 'day_of_the_week')\n",
    "df['origin_conditions'] = categorize(df, 'origin_conditions')\n",
    "df['dest_conditions'] = categorize(df, 'dest_conditions')\n",
    "df['holiday'] = categorize(df, 'holiday')\n",
    "df['month'] = categorize(df, 'month')"
   ]
  },
  {
   "cell_type": "code",
   "execution_count": 8,
   "id": "22a0561f-aee9-4ea9-b353-4f9898247428",
   "metadata": {},
   "outputs": [],
   "source": [
    "y =df['arr_delay']\n",
    "col_names = ['scheduled_flight_hour_of_day', 'day_of_the_week','origin_conditions','dest_conditions','holiday', 'month']\n",
    "cat_vars_final = df.select_dtypes(['object','category'])\n",
    "cat_vars_final = cat_vars_final.loc[:, col_names]\n",
    "\n",
    "#One Hot Encoder\n",
    "\n",
    "enc = OneHotEncoder().fit(cat_vars_final)\n",
    "\n",
    "cat_vars_ohe_final = enc.transform(cat_vars_final).toarray()\n",
    "cat_vars_ohe_final = pd.DataFrame(cat_vars_ohe_final, index= cat_vars_final.index, \n",
    "                      columns=enc.get_feature_names(cat_vars_final.columns.tolist()))"
   ]
  },
  {
   "cell_type": "code",
   "execution_count": 9,
   "id": "af2ac372-61d0-4d19-ab45-dfc246cd5536",
   "metadata": {},
   "outputs": [],
   "source": [
    "df = df.drop(col_names, axis = 1)"
   ]
  },
  {
   "cell_type": "code",
   "execution_count": 10,
   "id": "48a15589-534f-4153-811f-f746b4f4008f",
   "metadata": {},
   "outputs": [],
   "source": [
    "cat_vars_ohe_final[['distance','origin_wind_speed','origin_visibility','dest_wind_speed','dest_visibility','arr_delay']] = df"
   ]
  },
  {
   "cell_type": "code",
   "execution_count": 11,
   "id": "de0a3d7d-6190-483f-834c-99450900ef65",
   "metadata": {},
   "outputs": [],
   "source": [
    "X = cat_vars_ohe_final.drop(['arr_delay'], axis = 1)\n",
    "y = cat_vars_ohe_final['arr_delay']"
   ]
  },
  {
   "cell_type": "code",
   "execution_count": 12,
   "id": "24239ea1-e004-40fa-b8b0-29b625159e56",
   "metadata": {},
   "outputs": [
    {
     "data": {
      "text/plain": [
       "(203016, 57)"
      ]
     },
     "execution_count": 12,
     "metadata": {},
     "output_type": "execute_result"
    }
   ],
   "source": [
    "X.shape"
   ]
  },
  {
   "cell_type": "code",
   "execution_count": 13,
   "id": "c92a7e65-30b7-43f4-bcb9-fe5f2f5b8514",
   "metadata": {},
   "outputs": [
    {
     "data": {
      "text/plain": [
       "(203016,)"
      ]
     },
     "execution_count": 13,
     "metadata": {},
     "output_type": "execute_result"
    }
   ],
   "source": [
    "y.shape"
   ]
  },
  {
   "cell_type": "code",
   "execution_count": 14,
   "id": "10834ea6-b270-470d-94bc-2c16a17f141e",
   "metadata": {},
   "outputs": [],
   "source": [
    "from sklearn.model_selection import train_test_split\n",
    "X_train, X_test, y_train, y_test = train_test_split(X, y, test_size = 0.7, random_state = 5)"
   ]
  },
  {
   "cell_type": "code",
   "execution_count": 15,
   "id": "e6db4f57-fd83-48e9-8af1-d168271c2627",
   "metadata": {},
   "outputs": [],
   "source": [
    "from sklearn.preprocessing import MinMaxScaler\n",
    "scaling = MinMaxScaler(feature_range=(-1,1)).fit(X_train)\n",
    "X_train = scaling.transform(X_train)\n",
    "X_test = scaling.transform(X_test)"
   ]
  },
  {
   "cell_type": "code",
   "execution_count": 16,
   "id": "9d3ef1bc-ade3-4586-8380-a0ec64ae3ec0",
   "metadata": {},
   "outputs": [
    {
     "data": {
      "text/plain": [
       "True"
      ]
     },
     "execution_count": 16,
     "metadata": {},
     "output_type": "execute_result"
    }
   ],
   "source": [
    "X_train.shape[0] != y.shape[0]"
   ]
  },
  {
   "cell_type": "code",
   "execution_count": 17,
   "id": "0525262e-51e0-4986-a4bd-9ad9a9ae4750",
   "metadata": {},
   "outputs": [],
   "source": [
    "from sklearn.linear_model import Lasso\n",
    "lassoreg = Lasso()"
   ]
  },
  {
   "cell_type": "code",
   "execution_count": 18,
   "id": "5880ee94-ecac-4e15-a7fe-69a5617191b0",
   "metadata": {},
   "outputs": [
    {
     "data": {
      "text/plain": [
       "Lasso()"
      ]
     },
     "execution_count": 18,
     "metadata": {},
     "output_type": "execute_result"
    }
   ],
   "source": [
    "lassoreg.fit(X_train,y_train)"
   ]
  },
  {
   "cell_type": "code",
   "execution_count": 19,
   "id": "d99a4ed4-9d52-4efd-a5b6-26a086db1420",
   "metadata": {},
   "outputs": [],
   "source": [
    "y_pred = lassoreg.predict(X_test)"
   ]
  },
  {
   "cell_type": "code",
   "execution_count": 20,
   "id": "0335f062-2272-4db6-82f6-d3276cc5e70e",
   "metadata": {},
   "outputs": [
    {
     "name": "stdout",
     "output_type": "stream",
     "text": [
      "0.014969907477738409\n"
     ]
    }
   ],
   "source": [
    "from sklearn.metrics import r2_score\n",
    "r_2_score = r2_score(y_test, y_pred)\n",
    "print(r_2_score)"
   ]
  },
  {
   "cell_type": "code",
   "execution_count": 27,
   "id": "aba96069-5ab0-45f3-856b-9d3e5fa91df1",
   "metadata": {},
   "outputs": [],
   "source": [
    "from sklearn.linear_model import Ridge"
   ]
  },
  {
   "cell_type": "code",
   "execution_count": 28,
   "id": "e0c130fc-b6c0-4081-9dff-ed743a7eeffe",
   "metadata": {},
   "outputs": [],
   "source": [
    "ridgereg = Ridge()"
   ]
  },
  {
   "cell_type": "code",
   "execution_count": 30,
   "id": "efb410b7-9193-4674-ae55-df74b57c45eb",
   "metadata": {},
   "outputs": [
    {
     "data": {
      "text/plain": [
       "Ridge()"
      ]
     },
     "execution_count": 30,
     "metadata": {},
     "output_type": "execute_result"
    }
   ],
   "source": [
    "ridgereg.fit(X_train,y_train)"
   ]
  },
  {
   "cell_type": "code",
   "execution_count": 31,
   "id": "59c880b8-8edb-4001-8f8a-e3551e1fd01f",
   "metadata": {},
   "outputs": [],
   "source": [
    "y_pred = ridgereg.predict(X_test)"
   ]
  },
  {
   "cell_type": "code",
   "execution_count": 32,
   "id": "abc17984-f92a-4914-8a1c-62cd8b7fdec2",
   "metadata": {},
   "outputs": [
    {
     "name": "stdout",
     "output_type": "stream",
     "text": [
      "0.0675358455069367\n"
     ]
    }
   ],
   "source": [
    "from sklearn.metrics import r2_score\n",
    "r_2_score = r2_score(y_test, y_pred)\n",
    "print(r_2_score)"
   ]
  },
  {
   "cell_type": "code",
   "execution_count": 34,
   "id": "badc244c-8e7b-475b-a80b-e9c0c832e81e",
   "metadata": {},
   "outputs": [
    {
     "data": {
      "text/plain": [
       "{'alpha': 1, 'fit_intercept': True, 'solver': 'lsqr'}"
      ]
     },
     "execution_count": 34,
     "metadata": {},
     "output_type": "execute_result"
    }
   ],
   "source": [
    "ridge_reg = Ridge()\n",
    "from sklearn.model_selection import GridSearchCV\n",
    "params_Ridge = {'alpha': [1,0.1,0.01,0.001,0.0001,0] , \"fit_intercept\": [True, False], \"solver\": ['svd', 'cholesky', 'lsqr', 'sparse_cg', 'sag', 'saga']}\n",
    "Ridge_GS = GridSearchCV(ridge_reg, param_grid=params_Ridge)\n",
    "Ridge_GS.fit(X_train,y_train)\n",
    "Ridge_GS.best_params_"
   ]
  },
  {
   "cell_type": "code",
   "execution_count": null,
   "id": "6871f171-1573-4e23-9a15-392922447173",
   "metadata": {},
   "outputs": [],
   "source": [
    "best_model = Ridge_GS.best_estimator_\n",
    "Ridge_GS.fit(X_train,y_train)"
   ]
  },
  {
   "cell_type": "code",
   "execution_count": null,
   "id": "d05d21bc-9480-47c8-872d-6670aa7aef2e",
   "metadata": {},
   "outputs": [],
   "source": [
    "y_pred = best_model.predict(X_test)"
   ]
  },
  {
   "cell_type": "code",
   "execution_count": null,
   "id": "793279fc-7839-468b-8748-047bc3df5a6e",
   "metadata": {},
   "outputs": [],
   "source": [
    "from sklearn.metrics import r2_score\n",
    "r_2_score = r2_score(y_test, y_pred)\n",
    "print(r_2_score)"
   ]
  }
 ],
 "metadata": {
  "kernelspec": {
   "display_name": "Python 3",
   "language": "python",
   "name": "python3"
  },
  "language_info": {
   "codemirror_mode": {
    "name": "ipython",
    "version": 3
   },
   "file_extension": ".py",
   "mimetype": "text/x-python",
   "name": "python",
   "nbconvert_exporter": "python",
   "pygments_lexer": "ipython3",
   "version": "3.8.8"
  }
 },
 "nbformat": 4,
 "nbformat_minor": 5
}
