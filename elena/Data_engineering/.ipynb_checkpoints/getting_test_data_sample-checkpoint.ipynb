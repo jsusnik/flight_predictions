{
 "cells": [
  {
   "cell_type": "code",
   "execution_count": 6,
   "id": "c18ccf32-244c-4067-b0b1-3ece3f1a353c",
   "metadata": {},
   "outputs": [],
   "source": [
    "import os\n",
    "import psycopg2\n",
    "import pandas as pd\n",
    "import json"
   ]
  },
  {
   "cell_type": "code",
   "execution_count": 7,
   "id": "5780b75c-1ed8-46d1-a6d5-fad44da4b8a2",
   "metadata": {},
   "outputs": [],
   "source": [
    "def connect_db():\n",
    "    '''\n",
    "    Creating connection to DB\n",
    "    '''\n",
    "    try:\n",
    "        conn = psycopg2.connect(\n",
    "                host=os.environ['MID_PROJ_DB_HOST'],\n",
    "                database=os.environ['MID_PROJ_DB'],\n",
    "                user=os.environ['MID_PROJ_DB_USERNAME'],\n",
    "                password=os.environ['MID_PROJ_DB_PASSWORD'],\n",
    "                port='5432')\n",
    "        print('Db Connected succsefuly')\n",
    "        return conn\n",
    "    except (Exception, Error) as error:\n",
    "        print(\"Error while connecting\")"
   ]
  },
  {
   "cell_type": "code",
   "execution_count": 8,
   "id": "46e03a6d-ada4-4e06-a300-c24be5c7b973",
   "metadata": {},
   "outputs": [],
   "source": [
    "def query_db(query,conn):\n",
    "    cursor = conn.cursor()\n",
    "    cursor.execute(query)\n",
    "    return {'data': cursor.fetchall(), 'columns': [desc[0].strip() for desc in cursor.description]} "
   ]
  },
  {
   "cell_type": "code",
   "execution_count": 9,
   "id": "a6a2599f-6ffd-4e15-9138-bd27b5bb4e0d",
   "metadata": {},
   "outputs": [],
   "source": [
    "def write_to_file(csv_name,query_output):\n",
    "    df = pd.DataFrame(query_output['data'])\n",
    "    df.columns = query_output['columns']\n",
    "    df.to_csv(csv_name + '.csv', sep=\",\", index = False)"
   ]
  },
  {
   "cell_type": "code",
   "execution_count": 10,
   "id": "e1f6835e-da4e-412d-9789-fca020f22f95",
   "metadata": {},
   "outputs": [
    {
     "name": "stdout",
     "output_type": "stream",
     "text": [
      "Db Connected succsefuly\n"
     ]
    }
   ],
   "source": [
    "conn = connect_db()"
   ]
  },
  {
   "cell_type": "code",
   "execution_count": 11,
   "id": "054889ce-52be-4932-82aa-672f6b591ca3",
   "metadata": {},
   "outputs": [],
   "source": [
    "test_flights=\"\"\"select * from flights_test\n",
    "where origin_city_name in (select origin_city_name\n",
    "from flights_test\n",
    "group by origin_city_name\n",
    "order by COUNT(mkt_unique_carrier) desc \n",
    "limit 10)\n",
    "and dest_city_name in (select dest_city_name\n",
    "from flights_test\n",
    "group by dest_city_name\n",
    "order by COUNT(mkt_unique_carrier) desc \n",
    "limit 10);\n",
    "\"\"\"\n",
    "test_flights = query_db(test_flights,conn)"
   ]
  },
  {
   "cell_type": "code",
   "execution_count": 12,
   "id": "f9957748-58c9-4940-ac96-025b375f2c20",
   "metadata": {},
   "outputs": [],
   "source": [
    "write_to_file('test_flights',test_flights)"
   ]
  },
  {
   "cell_type": "code",
   "execution_count": 13,
   "id": "7a617244-b2e1-4a43-ba37-31ee5e089630",
   "metadata": {},
   "outputs": [],
   "source": [
    "test_flights = pd.read_csv('test_flights.csv')"
   ]
  }
 ],
 "metadata": {
  "kernelspec": {
   "display_name": "Python 3",
   "language": "python",
   "name": "python3"
  },
  "language_info": {
   "codemirror_mode": {
    "name": "ipython",
    "version": 3
   },
   "file_extension": ".py",
   "mimetype": "text/x-python",
   "name": "python",
   "nbconvert_exporter": "python",
   "pygments_lexer": "ipython3",
   "version": "3.8.8"
  }
 },
 "nbformat": 4,
 "nbformat_minor": 5
}
