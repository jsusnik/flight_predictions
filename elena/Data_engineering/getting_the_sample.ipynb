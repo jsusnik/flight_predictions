{
 "cells": [
  {
   "cell_type": "code",
   "execution_count": 1,
   "id": "7ca875de-ecef-4e9b-97b8-53d614a56da9",
   "metadata": {},
   "outputs": [],
   "source": [
    "import os\n",
    "import psycopg2\n",
    "import pandas as pd\n",
    "import json"
   ]
  },
  {
   "cell_type": "code",
   "execution_count": 2,
   "id": "13e42414-cb2d-4c26-913c-a091e6836369",
   "metadata": {},
   "outputs": [],
   "source": [
    "def connect_db():\n",
    "    '''\n",
    "    Creating connection to DB\n",
    "    '''\n",
    "    try:\n",
    "        conn = psycopg2.connect(\n",
    "                host=os.environ['MID_PROJ_DB_HOST'],\n",
    "                database=os.environ['MID_PROJ_DB'],\n",
    "                user=os.environ['MID_PROJ_DB_USERNAME'],\n",
    "                password=os.environ['MID_PROJ_DB_PASSWORD'],\n",
    "                port='5432')\n",
    "        print('Db Connected succsefuly')\n",
    "        return conn\n",
    "    except (Exception, Error) as error:\n",
    "        print(\"Error while connecting\")"
   ]
  },
  {
   "cell_type": "code",
   "execution_count": 3,
   "id": "f5729564-e09e-41dc-b5e1-39c12faea025",
   "metadata": {},
   "outputs": [],
   "source": [
    "def query_db(query,conn):\n",
    "    cursor = conn.cursor()\n",
    "    cursor.execute(query)\n",
    "    return {'data': cursor.fetchall(), 'columns': [desc[0].strip() for desc in cursor.description]} "
   ]
  },
  {
   "cell_type": "code",
   "execution_count": 4,
   "id": "4f23c5fa-35ba-48f8-b83f-2f97174c1094",
   "metadata": {
    "tags": []
   },
   "outputs": [],
   "source": [
    "def write_to_file(csv_name,query_output):\n",
    "    df = pd.DataFrame(query_output['data'])\n",
    "    df.columns = query_output['columns']\n",
    "    df.to_csv(csv_name + '.csv', sep=\",\", index = False)"
   ]
  },
  {
   "cell_type": "code",
   "execution_count": 5,
   "id": "98856140-84a9-4b5a-86cb-337466cd1fbe",
   "metadata": {},
   "outputs": [
    {
     "name": "stdout",
     "output_type": "stream",
     "text": [
      "Db Connected succsefuly\n"
     ]
    }
   ],
   "source": [
    "conn = connect_db()"
   ]
  },
  {
   "cell_type": "code",
   "execution_count": 19,
   "id": "3afb3bf9-2a8a-4eff-9241-c270b22bcddb",
   "metadata": {},
   "outputs": [],
   "source": [
    "flights_jan_dec_19_query=\"\"\"select * from flights\n",
    "where fl_date > '2018-12-31' \n",
    "and fl_date < '2019-02-01' \n",
    "and origin_city_name in (select origin_city_name\n",
    "from flights\n",
    "group by origin_city_name\n",
    "order by COUNT(origin_city_name) desc \n",
    "limit 10)\n",
    "and dest_city_name in (select dest_city_name\n",
    "from flights\n",
    "group by dest_city_name\n",
    "order by COUNT(dest_city_name) desc \n",
    "limit 10)\n",
    "union \n",
    "select * from flights \n",
    "where  fl_date > '2019-11-30' \n",
    "and fl_date < '2020-01-01'\n",
    "and origin_city_name in (select origin_city_name\n",
    "from flights\n",
    "group by origin_city_name\n",
    "order by COUNT(origin_city_name) desc \n",
    "limit 10)\n",
    "and dest_city_name in (select dest_city_name\n",
    "from flights\n",
    "group by dest_city_name\n",
    "order by COUNT(dest_city_name) desc \n",
    "limit 10);\n",
    "\"\"\"\n",
    "flights_jan_dec_19 = query_db(flights_jan_dec_19_query,conn)"
   ]
  },
  {
   "cell_type": "code",
   "execution_count": 20,
   "id": "b0e50ab0-6256-47c6-b4d7-f25bbe4c81a3",
   "metadata": {},
   "outputs": [],
   "source": [
    "flights_jan_dec_18_query=\"\"\"select * from flights\n",
    "where fl_date > '2017-12-31' \n",
    "and fl_date < '2018-02-01' \n",
    "and origin_city_name in (select origin_city_name\n",
    "from flights\n",
    "group by origin_city_name\n",
    "order by COUNT(origin_city_name) desc \n",
    "limit 10)\n",
    "and dest_city_name in (select dest_city_name\n",
    "from flights\n",
    "group by dest_city_name\n",
    "order by COUNT(dest_city_name) desc \n",
    "limit 10)\n",
    "union \n",
    "select * from flights \n",
    "where  fl_date > '2018-11-30' \n",
    "and fl_date < '2019-01-01'\n",
    "and origin_city_name in (select origin_city_name\n",
    "from flights\n",
    "group by origin_city_name\n",
    "order by COUNT(origin_city_name) desc \n",
    "limit 10)\n",
    "and dest_city_name in (select dest_city_name\n",
    "from flights\n",
    "group by dest_city_name\n",
    "order by COUNT(dest_city_name) desc \n",
    "limit 10);\n",
    "\"\"\"\n",
    "flights_jan_dec_18 = query_db(flights_jan_dec_18_query,conn)"
   ]
  },
  {
   "cell_type": "code",
   "execution_count": 21,
   "id": "b56df67d-0e66-4040-af61-a7c77d6660d3",
   "metadata": {},
   "outputs": [],
   "source": [
    "write_to_file('flights_jan_dec_19',flights_jan_dec_19)"
   ]
  },
  {
   "cell_type": "code",
   "execution_count": 2,
   "id": "c16f8057-25de-4a25-b66e-3ac3571cdfe5",
   "metadata": {},
   "outputs": [],
   "source": [
    "write_to_file('flights_jan_dec_18',flights_jan_dec_18)"
   ]
  }
 ],
 "metadata": {
  "kernelspec": {
   "display_name": "Python 3",
   "language": "python",
   "name": "python3"
  },
  "language_info": {
   "codemirror_mode": {
    "name": "ipython",
    "version": 3
   },
   "file_extension": ".py",
   "mimetype": "text/x-python",
   "name": "python",
   "nbconvert_exporter": "python",
   "pygments_lexer": "ipython3",
   "version": "3.8.8"
  }
 },
 "nbformat": 4,
 "nbformat_minor": 5
}
