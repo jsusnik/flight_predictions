{
 "cells": [
  {
   "cell_type": "code",
   "execution_count": 171,
   "id": "fed104a7-5ede-40e0-af60-09e120a7562b",
   "metadata": {},
   "outputs": [],
   "source": [
    "import pandas as pd"
   ]
  },
  {
   "cell_type": "code",
   "execution_count": 172,
   "id": "5d54e5b9-7abd-4c04-bb62-fa7936fc2de9",
   "metadata": {},
   "outputs": [],
   "source": [
    "passengers = pd.read_csv('passengers_jan-dec_18-19.csv')"
   ]
  },
  {
   "cell_type": "code",
   "execution_count": 173,
   "id": "3f763c96-587c-4244-93d6-24959cf5cb75",
   "metadata": {},
   "outputs": [],
   "source": [
    "flights_with_weather = pd.read_csv('flights_weather_holiday.csv')"
   ]
  },
  {
   "cell_type": "code",
   "execution_count": 174,
   "id": "0c88b993-102b-4de8-b75e-346baa3e54cf",
   "metadata": {},
   "outputs": [
    {
     "data": {
      "text/html": [
       "<div>\n",
       "<style scoped>\n",
       "    .dataframe tbody tr th:only-of-type {\n",
       "        vertical-align: middle;\n",
       "    }\n",
       "\n",
       "    .dataframe tbody tr th {\n",
       "        vertical-align: top;\n",
       "    }\n",
       "\n",
       "    .dataframe thead th {\n",
       "        text-align: right;\n",
       "    }\n",
       "</style>\n",
       "<table border=\"1\" class=\"dataframe\">\n",
       "  <thead>\n",
       "    <tr style=\"text-align: right;\">\n",
       "      <th></th>\n",
       "      <th>departures_scheduled</th>\n",
       "      <th>departures_performed</th>\n",
       "      <th>seats</th>\n",
       "      <th>passengers</th>\n",
       "      <th>freight</th>\n",
       "      <th>mail</th>\n",
       "      <th>distance</th>\n",
       "      <th>ramp_to_ramp</th>\n",
       "      <th>air_time</th>\n",
       "      <th>unique_carrier</th>\n",
       "      <th>unique_carrier_name</th>\n",
       "      <th>aircraft_type</th>\n",
       "      <th>origin_airport_id</th>\n",
       "      <th>origin_city_market_id</th>\n",
       "      <th>origin_city_name</th>\n",
       "      <th>dest_airport_id</th>\n",
       "      <th>dest_city_market_id</th>\n",
       "      <th>dest_city_name</th>\n",
       "      <th>year</th>\n",
       "      <th>month</th>\n",
       "    </tr>\n",
       "  </thead>\n",
       "  <tbody>\n",
       "    <tr>\n",
       "      <th>0</th>\n",
       "      <td>54</td>\n",
       "      <td>53</td>\n",
       "      <td>9437</td>\n",
       "      <td>7536</td>\n",
       "      <td>49137</td>\n",
       "      <td>3689</td>\n",
       "      <td>1660</td>\n",
       "      <td>11961</td>\n",
       "      <td>10273</td>\n",
       "      <td>AS</td>\n",
       "      <td>Alaska Airlines Inc.</td>\n",
       "      <td>888</td>\n",
       "      <td>14747</td>\n",
       "      <td>30559</td>\n",
       "      <td>Seattle, WA</td>\n",
       "      <td>11298</td>\n",
       "      <td>30194</td>\n",
       "      <td>Dallas/Fort Worth, TX</td>\n",
       "      <td>2018</td>\n",
       "      <td>1</td>\n",
       "    </tr>\n",
       "    <tr>\n",
       "      <th>1</th>\n",
       "      <td>54</td>\n",
       "      <td>54</td>\n",
       "      <td>4104</td>\n",
       "      <td>3583</td>\n",
       "      <td>0</td>\n",
       "      <td>0</td>\n",
       "      <td>1235</td>\n",
       "      <td>12055</td>\n",
       "      <td>9782</td>\n",
       "      <td>OO</td>\n",
       "      <td>SkyWest Airlines Inc.</td>\n",
       "      <td>673</td>\n",
       "      <td>11298</td>\n",
       "      <td>30194</td>\n",
       "      <td>Dallas/Fort Worth, TX</td>\n",
       "      <td>12892</td>\n",
       "      <td>32575</td>\n",
       "      <td>Los Angeles, CA</td>\n",
       "      <td>2018</td>\n",
       "      <td>1</td>\n",
       "    </tr>\n",
       "    <tr>\n",
       "      <th>2</th>\n",
       "      <td>54</td>\n",
       "      <td>54</td>\n",
       "      <td>4104</td>\n",
       "      <td>3841</td>\n",
       "      <td>0</td>\n",
       "      <td>0</td>\n",
       "      <td>954</td>\n",
       "      <td>9305</td>\n",
       "      <td>7223</td>\n",
       "      <td>OO</td>\n",
       "      <td>SkyWest Airlines Inc.</td>\n",
       "      <td>673</td>\n",
       "      <td>14747</td>\n",
       "      <td>30559</td>\n",
       "      <td>Seattle, WA</td>\n",
       "      <td>12892</td>\n",
       "      <td>32575</td>\n",
       "      <td>Los Angeles, CA</td>\n",
       "      <td>2018</td>\n",
       "      <td>1</td>\n",
       "    </tr>\n",
       "    <tr>\n",
       "      <th>3</th>\n",
       "      <td>54</td>\n",
       "      <td>53</td>\n",
       "      <td>9275</td>\n",
       "      <td>7655</td>\n",
       "      <td>12897</td>\n",
       "      <td>0</td>\n",
       "      <td>1452</td>\n",
       "      <td>9941</td>\n",
       "      <td>8887</td>\n",
       "      <td>WN</td>\n",
       "      <td>Southwest Airlines Co.</td>\n",
       "      <td>614</td>\n",
       "      <td>11292</td>\n",
       "      <td>30325</td>\n",
       "      <td>Denver, CO</td>\n",
       "      <td>12264</td>\n",
       "      <td>30852</td>\n",
       "      <td>Washington, DC</td>\n",
       "      <td>2018</td>\n",
       "      <td>1</td>\n",
       "    </tr>\n",
       "    <tr>\n",
       "      <th>4</th>\n",
       "      <td>54</td>\n",
       "      <td>49</td>\n",
       "      <td>7721</td>\n",
       "      <td>6146</td>\n",
       "      <td>13844</td>\n",
       "      <td>1904</td>\n",
       "      <td>760</td>\n",
       "      <td>6457</td>\n",
       "      <td>4907</td>\n",
       "      <td>DL</td>\n",
       "      <td>Delta Air Lines Inc.</td>\n",
       "      <td>694</td>\n",
       "      <td>10397</td>\n",
       "      <td>30397</td>\n",
       "      <td>Atlanta, GA</td>\n",
       "      <td>12478</td>\n",
       "      <td>31703</td>\n",
       "      <td>New York, NY</td>\n",
       "      <td>2018</td>\n",
       "      <td>1</td>\n",
       "    </tr>\n",
       "  </tbody>\n",
       "</table>\n",
       "</div>"
      ],
      "text/plain": [
       "   departures_scheduled  departures_performed  seats  passengers  freight  \\\n",
       "0                    54                    53   9437        7536    49137   \n",
       "1                    54                    54   4104        3583        0   \n",
       "2                    54                    54   4104        3841        0   \n",
       "3                    54                    53   9275        7655    12897   \n",
       "4                    54                    49   7721        6146    13844   \n",
       "\n",
       "   mail  distance  ramp_to_ramp  air_time unique_carrier  \\\n",
       "0  3689      1660         11961     10273             AS   \n",
       "1     0      1235         12055      9782             OO   \n",
       "2     0       954          9305      7223             OO   \n",
       "3     0      1452          9941      8887             WN   \n",
       "4  1904       760          6457      4907             DL   \n",
       "\n",
       "      unique_carrier_name  aircraft_type  origin_airport_id  \\\n",
       "0    Alaska Airlines Inc.            888              14747   \n",
       "1   SkyWest Airlines Inc.            673              11298   \n",
       "2   SkyWest Airlines Inc.            673              14747   \n",
       "3  Southwest Airlines Co.            614              11292   \n",
       "4    Delta Air Lines Inc.            694              10397   \n",
       "\n",
       "   origin_city_market_id       origin_city_name  dest_airport_id  \\\n",
       "0                  30559            Seattle, WA            11298   \n",
       "1                  30194  Dallas/Fort Worth, TX            12892   \n",
       "2                  30559            Seattle, WA            12892   \n",
       "3                  30325             Denver, CO            12264   \n",
       "4                  30397            Atlanta, GA            12478   \n",
       "\n",
       "   dest_city_market_id         dest_city_name  year  month  \n",
       "0                30194  Dallas/Fort Worth, TX  2018      1  \n",
       "1                32575        Los Angeles, CA  2018      1  \n",
       "2                32575        Los Angeles, CA  2018      1  \n",
       "3                30852         Washington, DC  2018      1  \n",
       "4                31703           New York, NY  2018      1  "
      ]
     },
     "execution_count": 174,
     "metadata": {},
     "output_type": "execute_result"
    }
   ],
   "source": [
    "passengers.head(5)"
   ]
  },
  {
   "cell_type": "code",
   "execution_count": 175,
   "id": "f28fcfcd-1fae-43ec-84eb-57ffbb3b1ae0",
   "metadata": {},
   "outputs": [
    {
     "data": {
      "text/plain": [
       "array(['Seattle, WA', 'Dallas/Fort Worth, TX', 'Denver, CO',\n",
       "       'Atlanta, GA', 'Los Angeles, CA', 'Washington, DC', 'Chicago, IL',\n",
       "       'New York, NY', 'Charlotte, NC', 'Houston, TX'], dtype=object)"
      ]
     },
     "execution_count": 175,
     "metadata": {},
     "output_type": "execute_result"
    }
   ],
   "source": [
    "passengers['origin_city_name'].unique()"
   ]
  },
  {
   "cell_type": "code",
   "execution_count": 176,
   "id": "208e00cc-2580-4b50-806a-3d440966b97c",
   "metadata": {},
   "outputs": [
    {
     "data": {
      "text/plain": [
       "array(['atlanta', 'los angeles', 'new york', 'washington', 'seattle',\n",
       "       'chicago', 'dallas/fort worth', 'houston', 'denver', 'charlotte'],\n",
       "      dtype=object)"
      ]
     },
     "execution_count": 176,
     "metadata": {},
     "output_type": "execute_result"
    }
   ],
   "source": [
    "flights_with_weather['origin_city_name'].unique()"
   ]
  },
  {
   "cell_type": "code",
   "execution_count": 177,
   "id": "3473f0b2-3467-450c-916b-bb937a0b40b0",
   "metadata": {},
   "outputs": [],
   "source": [
    "my_lambda = lambda x: ''.join(x.split(',')[0]).lower()"
   ]
  },
  {
   "cell_type": "code",
   "execution_count": 178,
   "id": "7b0fa7f5-0c48-4791-b43f-2736a1ba3e32",
   "metadata": {},
   "outputs": [],
   "source": [
    "passengers['origin_city_name'] = passengers['origin_city_name'].apply(my_lambda)"
   ]
  },
  {
   "cell_type": "code",
   "execution_count": 179,
   "id": "7d3b2888-93bc-412d-a228-3c8aec79aeeb",
   "metadata": {},
   "outputs": [],
   "source": [
    "passengers['dest_city_name'] = passengers['dest_city_name'].apply(my_lambda)"
   ]
  },
  {
   "cell_type": "code",
   "execution_count": 180,
   "id": "3547435a-2093-48a5-b44e-47f57bb0ca69",
   "metadata": {},
   "outputs": [
    {
     "data": {
      "text/html": [
       "<div>\n",
       "<style scoped>\n",
       "    .dataframe tbody tr th:only-of-type {\n",
       "        vertical-align: middle;\n",
       "    }\n",
       "\n",
       "    .dataframe tbody tr th {\n",
       "        vertical-align: top;\n",
       "    }\n",
       "\n",
       "    .dataframe thead th {\n",
       "        text-align: right;\n",
       "    }\n",
       "</style>\n",
       "<table border=\"1\" class=\"dataframe\">\n",
       "  <thead>\n",
       "    <tr style=\"text-align: right;\">\n",
       "      <th></th>\n",
       "      <th>fl_date</th>\n",
       "      <th>mkt_unique_carrier</th>\n",
       "      <th>branded_code_share</th>\n",
       "      <th>mkt_carrier</th>\n",
       "      <th>mkt_carrier_fl_num</th>\n",
       "      <th>op_unique_carrier</th>\n",
       "      <th>tail_num</th>\n",
       "      <th>op_carrier_fl_num</th>\n",
       "      <th>origin_airport_id</th>\n",
       "      <th>origin</th>\n",
       "      <th>...</th>\n",
       "      <th>total_add_gtime</th>\n",
       "      <th>longest_add_gtime</th>\n",
       "      <th>day_of_the_week</th>\n",
       "      <th>origin_wind_speed</th>\n",
       "      <th>origin_visibility</th>\n",
       "      <th>origin_conditions</th>\n",
       "      <th>dest_wind_speed</th>\n",
       "      <th>dest_visibility</th>\n",
       "      <th>dest_conditions</th>\n",
       "      <th>holiday</th>\n",
       "    </tr>\n",
       "  </thead>\n",
       "  <tbody>\n",
       "    <tr>\n",
       "      <th>0</th>\n",
       "      <td>2018-01-20</td>\n",
       "      <td>WN</td>\n",
       "      <td>WN</td>\n",
       "      <td>WN</td>\n",
       "      <td>2310</td>\n",
       "      <td>WN</td>\n",
       "      <td>N470WN</td>\n",
       "      <td>2310</td>\n",
       "      <td>10397</td>\n",
       "      <td>ATL</td>\n",
       "      <td>...</td>\n",
       "      <td>NaN</td>\n",
       "      <td>NaN</td>\n",
       "      <td>Saturday</td>\n",
       "      <td>10.3</td>\n",
       "      <td>9.9</td>\n",
       "      <td>Partially cloudy</td>\n",
       "      <td>14.5</td>\n",
       "      <td>9.9</td>\n",
       "      <td>Partially cloudy</td>\n",
       "      <td>False</td>\n",
       "    </tr>\n",
       "    <tr>\n",
       "      <th>1</th>\n",
       "      <td>2018-12-16</td>\n",
       "      <td>DL</td>\n",
       "      <td>DL</td>\n",
       "      <td>DL</td>\n",
       "      <td>766</td>\n",
       "      <td>DL</td>\n",
       "      <td>N539US</td>\n",
       "      <td>766</td>\n",
       "      <td>12892</td>\n",
       "      <td>LAX</td>\n",
       "      <td>...</td>\n",
       "      <td>NaN</td>\n",
       "      <td>NaN</td>\n",
       "      <td>Sunday</td>\n",
       "      <td>5.7</td>\n",
       "      <td>9.5</td>\n",
       "      <td>Clear</td>\n",
       "      <td>14.2</td>\n",
       "      <td>9.3</td>\n",
       "      <td>Overcast</td>\n",
       "      <td>False</td>\n",
       "    </tr>\n",
       "    <tr>\n",
       "      <th>2</th>\n",
       "      <td>2018-12-12</td>\n",
       "      <td>AA</td>\n",
       "      <td>AA</td>\n",
       "      <td>AA</td>\n",
       "      <td>1187</td>\n",
       "      <td>AA</td>\n",
       "      <td>N145AN</td>\n",
       "      <td>1187</td>\n",
       "      <td>12953</td>\n",
       "      <td>LGA</td>\n",
       "      <td>...</td>\n",
       "      <td>NaN</td>\n",
       "      <td>NaN</td>\n",
       "      <td>Wednesday</td>\n",
       "      <td>11.4</td>\n",
       "      <td>9.9</td>\n",
       "      <td>Rain, Partially cloudy</td>\n",
       "      <td>15.2</td>\n",
       "      <td>9.9</td>\n",
       "      <td>Partially cloudy</td>\n",
       "      <td>False</td>\n",
       "    </tr>\n",
       "    <tr>\n",
       "      <th>3</th>\n",
       "      <td>2018-12-26</td>\n",
       "      <td>AA</td>\n",
       "      <td>AA_CODESHARE</td>\n",
       "      <td>AA</td>\n",
       "      <td>5458</td>\n",
       "      <td>OH</td>\n",
       "      <td>N520DC</td>\n",
       "      <td>5458</td>\n",
       "      <td>11278</td>\n",
       "      <td>DCA</td>\n",
       "      <td>...</td>\n",
       "      <td>NaN</td>\n",
       "      <td>NaN</td>\n",
       "      <td>Wednesday</td>\n",
       "      <td>8.8</td>\n",
       "      <td>9.9</td>\n",
       "      <td>Clear</td>\n",
       "      <td>15.0</td>\n",
       "      <td>9.9</td>\n",
       "      <td>Clear</td>\n",
       "      <td>False</td>\n",
       "    </tr>\n",
       "    <tr>\n",
       "      <th>4</th>\n",
       "      <td>2018-12-28</td>\n",
       "      <td>B6</td>\n",
       "      <td>B6</td>\n",
       "      <td>B6</td>\n",
       "      <td>464</td>\n",
       "      <td>B6</td>\n",
       "      <td>N935JB</td>\n",
       "      <td>464</td>\n",
       "      <td>14747</td>\n",
       "      <td>SEA</td>\n",
       "      <td>...</td>\n",
       "      <td>NaN</td>\n",
       "      <td>NaN</td>\n",
       "      <td>Friday</td>\n",
       "      <td>14.9</td>\n",
       "      <td>8.3</td>\n",
       "      <td>Rain, Overcast</td>\n",
       "      <td>10.3</td>\n",
       "      <td>6.4</td>\n",
       "      <td>Rain, Partially cloudy</td>\n",
       "      <td>False</td>\n",
       "    </tr>\n",
       "  </tbody>\n",
       "</table>\n",
       "<p>5 rows × 49 columns</p>\n",
       "</div>"
      ],
      "text/plain": [
       "      fl_date mkt_unique_carrier branded_code_share mkt_carrier  \\\n",
       "0  2018-01-20                 WN                 WN          WN   \n",
       "1  2018-12-16                 DL                 DL          DL   \n",
       "2  2018-12-12                 AA                 AA          AA   \n",
       "3  2018-12-26                 AA       AA_CODESHARE          AA   \n",
       "4  2018-12-28                 B6                 B6          B6   \n",
       "\n",
       "   mkt_carrier_fl_num op_unique_carrier tail_num  op_carrier_fl_num  \\\n",
       "0                2310                WN   N470WN               2310   \n",
       "1                 766                DL   N539US                766   \n",
       "2                1187                AA   N145AN               1187   \n",
       "3                5458                OH   N520DC               5458   \n",
       "4                 464                B6   N935JB                464   \n",
       "\n",
       "   origin_airport_id origin  ... total_add_gtime  longest_add_gtime  \\\n",
       "0              10397    ATL  ...             NaN                NaN   \n",
       "1              12892    LAX  ...             NaN                NaN   \n",
       "2              12953    LGA  ...             NaN                NaN   \n",
       "3              11278    DCA  ...             NaN                NaN   \n",
       "4              14747    SEA  ...             NaN                NaN   \n",
       "\n",
       "  day_of_the_week origin_wind_speed  origin_visibility  \\\n",
       "0        Saturday              10.3                9.9   \n",
       "1          Sunday               5.7                9.5   \n",
       "2       Wednesday              11.4                9.9   \n",
       "3       Wednesday               8.8                9.9   \n",
       "4          Friday              14.9                8.3   \n",
       "\n",
       "        origin_conditions  dest_wind_speed  dest_visibility  \\\n",
       "0        Partially cloudy             14.5              9.9   \n",
       "1                   Clear             14.2              9.3   \n",
       "2  Rain, Partially cloudy             15.2              9.9   \n",
       "3                   Clear             15.0              9.9   \n",
       "4          Rain, Overcast             10.3              6.4   \n",
       "\n",
       "          dest_conditions  holiday  \n",
       "0        Partially cloudy    False  \n",
       "1                Overcast    False  \n",
       "2        Partially cloudy    False  \n",
       "3                   Clear    False  \n",
       "4  Rain, Partially cloudy    False  \n",
       "\n",
       "[5 rows x 49 columns]"
      ]
     },
     "execution_count": 180,
     "metadata": {},
     "output_type": "execute_result"
    }
   ],
   "source": [
    "flights_with_weather.head()"
   ]
  },
  {
   "cell_type": "markdown",
   "id": "c178ea1c-f897-4265-88f8-e0ee3e5e1a13",
   "metadata": {},
   "source": [
    "### Creatig a table with the total number of the passengers for each month, to soo how busy the airopots was each month"
   ]
  },
  {
   "cell_type": "code",
   "execution_count": 181,
   "id": "ba34bbe7-36aa-492b-9484-ee0f47aa2f5d",
   "metadata": {},
   "outputs": [],
   "source": [
    "passengers_amount = passengers.groupby(['origin_airport_id', 'year', 'month']).passengers.sum().reset_index()"
   ]
  },
  {
   "cell_type": "code",
   "execution_count": 182,
   "id": "29b58780-ec23-4f58-a44e-81190d2aad0f",
   "metadata": {},
   "outputs": [
    {
     "data": {
      "text/html": [
       "<div>\n",
       "<style scoped>\n",
       "    .dataframe tbody tr th:only-of-type {\n",
       "        vertical-align: middle;\n",
       "    }\n",
       "\n",
       "    .dataframe tbody tr th {\n",
       "        vertical-align: top;\n",
       "    }\n",
       "\n",
       "    .dataframe thead th {\n",
       "        text-align: right;\n",
       "    }\n",
       "</style>\n",
       "<table border=\"1\" class=\"dataframe\">\n",
       "  <thead>\n",
       "    <tr style=\"text-align: right;\">\n",
       "      <th></th>\n",
       "      <th>origin_airport_id</th>\n",
       "      <th>year</th>\n",
       "      <th>month</th>\n",
       "      <th>passengers</th>\n",
       "    </tr>\n",
       "  </thead>\n",
       "  <tbody>\n",
       "    <tr>\n",
       "      <th>0</th>\n",
       "      <td>10194</td>\n",
       "      <td>2018</td>\n",
       "      <td>1</td>\n",
       "      <td>202</td>\n",
       "    </tr>\n",
       "    <tr>\n",
       "      <th>1</th>\n",
       "      <td>10194</td>\n",
       "      <td>2018</td>\n",
       "      <td>12</td>\n",
       "      <td>111</td>\n",
       "    </tr>\n",
       "    <tr>\n",
       "      <th>2</th>\n",
       "      <td>10194</td>\n",
       "      <td>2019</td>\n",
       "      <td>1</td>\n",
       "      <td>0</td>\n",
       "    </tr>\n",
       "    <tr>\n",
       "      <th>3</th>\n",
       "      <td>10194</td>\n",
       "      <td>2019</td>\n",
       "      <td>12</td>\n",
       "      <td>0</td>\n",
       "    </tr>\n",
       "    <tr>\n",
       "      <th>4</th>\n",
       "      <td>10325</td>\n",
       "      <td>2018</td>\n",
       "      <td>12</td>\n",
       "      <td>2</td>\n",
       "    </tr>\n",
       "  </tbody>\n",
       "</table>\n",
       "</div>"
      ],
      "text/plain": [
       "   origin_airport_id  year  month  passengers\n",
       "0              10194  2018      1         202\n",
       "1              10194  2018     12         111\n",
       "2              10194  2019      1           0\n",
       "3              10194  2019     12           0\n",
       "4              10325  2018     12           2"
      ]
     },
     "execution_count": 182,
     "metadata": {},
     "output_type": "execute_result"
    }
   ],
   "source": [
    "passengers_amount.head()"
   ]
  },
  {
   "cell_type": "code",
   "execution_count": 207,
   "id": "2c7ca806-b9be-41d4-a66e-ab9d7843085b",
   "metadata": {},
   "outputs": [
    {
     "data": {
      "text/plain": [
       "array([10194, 10325, 10397, 10559, 11057, 11278, 11292, 11298, 11453,\n",
       "       12191, 12264, 12266, 12478, 12892, 12953, 13002, 13232, 13930,\n",
       "       14050, 14747])"
      ]
     },
     "execution_count": 207,
     "metadata": {},
     "output_type": "execute_result"
    }
   ],
   "source": [
    "pas_2018['origin_airport_id'].unique()"
   ]
  },
  {
   "cell_type": "code",
   "execution_count": 183,
   "id": "b599f00c-78a2-48c8-b211-4e244f9b1e5e",
   "metadata": {},
   "outputs": [],
   "source": [
    "pas_2018 = passengers_amount[passengers_amount['year'] == 2018]"
   ]
  },
  {
   "cell_type": "markdown",
   "id": "68f0af04-634d-4b35-9ff9-1d0139f771c7",
   "metadata": {},
   "source": [
    "## Creating a flights_with_weather_passengers"
   ]
  },
  {
   "cell_type": "code",
   "execution_count": 184,
   "id": "847f81e1-3aa7-420a-a07d-8b4dbf8d9d21",
   "metadata": {},
   "outputs": [
    {
     "data": {
      "text/plain": [
       "(207272, 49)"
      ]
     },
     "execution_count": 184,
     "metadata": {},
     "output_type": "execute_result"
    }
   ],
   "source": [
    "flights_with_weather.shape"
   ]
  },
  {
   "cell_type": "code",
   "execution_count": 185,
   "id": "76aa77a5-9db8-49dc-bb1c-3842232580e3",
   "metadata": {},
   "outputs": [],
   "source": [
    "flights_with_weather['year'] = flights_with_weather['fl_date'].apply(lambda x: x.split('-')[0])"
   ]
  },
  {
   "cell_type": "code",
   "execution_count": 186,
   "id": "085fa339-0a2a-4f7b-a28e-b05f95c2363f",
   "metadata": {},
   "outputs": [],
   "source": [
    "flights_with_weather['month'] = flights_with_weather['fl_date'].apply(lambda x: x.split('-')[1])"
   ]
  },
  {
   "cell_type": "code",
   "execution_count": 187,
   "id": "9bf78a0b-95fb-4cfe-9b8b-5a26db590a2c",
   "metadata": {},
   "outputs": [],
   "source": [
    "flights_with_weather['year'] = flights_with_weather['year'].astype(int)"
   ]
  },
  {
   "cell_type": "code",
   "execution_count": 188,
   "id": "c760a7d7-2b4f-41e9-a047-baca140aeb05",
   "metadata": {},
   "outputs": [],
   "source": [
    "flights_with_weather['month'] = flights_with_weather['month'].astype(int)"
   ]
  },
  {
   "cell_type": "code",
   "execution_count": 189,
   "id": "1a0fe6a1-d74e-4742-b6a5-34b251fe3101",
   "metadata": {},
   "outputs": [
    {
     "data": {
      "text/html": [
       "<div>\n",
       "<style scoped>\n",
       "    .dataframe tbody tr th:only-of-type {\n",
       "        vertical-align: middle;\n",
       "    }\n",
       "\n",
       "    .dataframe tbody tr th {\n",
       "        vertical-align: top;\n",
       "    }\n",
       "\n",
       "    .dataframe thead th {\n",
       "        text-align: right;\n",
       "    }\n",
       "</style>\n",
       "<table border=\"1\" class=\"dataframe\">\n",
       "  <thead>\n",
       "    <tr style=\"text-align: right;\">\n",
       "      <th></th>\n",
       "      <th>fl_date</th>\n",
       "      <th>mkt_unique_carrier</th>\n",
       "      <th>branded_code_share</th>\n",
       "      <th>mkt_carrier</th>\n",
       "      <th>mkt_carrier_fl_num</th>\n",
       "      <th>op_unique_carrier</th>\n",
       "      <th>tail_num</th>\n",
       "      <th>op_carrier_fl_num</th>\n",
       "      <th>origin_airport_id</th>\n",
       "      <th>origin</th>\n",
       "      <th>...</th>\n",
       "      <th>day_of_the_week</th>\n",
       "      <th>origin_wind_speed</th>\n",
       "      <th>origin_visibility</th>\n",
       "      <th>origin_conditions</th>\n",
       "      <th>dest_wind_speed</th>\n",
       "      <th>dest_visibility</th>\n",
       "      <th>dest_conditions</th>\n",
       "      <th>holiday</th>\n",
       "      <th>year</th>\n",
       "      <th>month</th>\n",
       "    </tr>\n",
       "  </thead>\n",
       "  <tbody>\n",
       "    <tr>\n",
       "      <th>0</th>\n",
       "      <td>2018-01-20</td>\n",
       "      <td>WN</td>\n",
       "      <td>WN</td>\n",
       "      <td>WN</td>\n",
       "      <td>2310</td>\n",
       "      <td>WN</td>\n",
       "      <td>N470WN</td>\n",
       "      <td>2310</td>\n",
       "      <td>10397</td>\n",
       "      <td>ATL</td>\n",
       "      <td>...</td>\n",
       "      <td>Saturday</td>\n",
       "      <td>10.3</td>\n",
       "      <td>9.9</td>\n",
       "      <td>Partially cloudy</td>\n",
       "      <td>14.5</td>\n",
       "      <td>9.9</td>\n",
       "      <td>Partially cloudy</td>\n",
       "      <td>False</td>\n",
       "      <td>2018</td>\n",
       "      <td>1</td>\n",
       "    </tr>\n",
       "    <tr>\n",
       "      <th>1</th>\n",
       "      <td>2018-12-16</td>\n",
       "      <td>DL</td>\n",
       "      <td>DL</td>\n",
       "      <td>DL</td>\n",
       "      <td>766</td>\n",
       "      <td>DL</td>\n",
       "      <td>N539US</td>\n",
       "      <td>766</td>\n",
       "      <td>12892</td>\n",
       "      <td>LAX</td>\n",
       "      <td>...</td>\n",
       "      <td>Sunday</td>\n",
       "      <td>5.7</td>\n",
       "      <td>9.5</td>\n",
       "      <td>Clear</td>\n",
       "      <td>14.2</td>\n",
       "      <td>9.3</td>\n",
       "      <td>Overcast</td>\n",
       "      <td>False</td>\n",
       "      <td>2018</td>\n",
       "      <td>12</td>\n",
       "    </tr>\n",
       "    <tr>\n",
       "      <th>2</th>\n",
       "      <td>2018-12-12</td>\n",
       "      <td>AA</td>\n",
       "      <td>AA</td>\n",
       "      <td>AA</td>\n",
       "      <td>1187</td>\n",
       "      <td>AA</td>\n",
       "      <td>N145AN</td>\n",
       "      <td>1187</td>\n",
       "      <td>12953</td>\n",
       "      <td>LGA</td>\n",
       "      <td>...</td>\n",
       "      <td>Wednesday</td>\n",
       "      <td>11.4</td>\n",
       "      <td>9.9</td>\n",
       "      <td>Rain, Partially cloudy</td>\n",
       "      <td>15.2</td>\n",
       "      <td>9.9</td>\n",
       "      <td>Partially cloudy</td>\n",
       "      <td>False</td>\n",
       "      <td>2018</td>\n",
       "      <td>12</td>\n",
       "    </tr>\n",
       "    <tr>\n",
       "      <th>3</th>\n",
       "      <td>2018-12-26</td>\n",
       "      <td>AA</td>\n",
       "      <td>AA_CODESHARE</td>\n",
       "      <td>AA</td>\n",
       "      <td>5458</td>\n",
       "      <td>OH</td>\n",
       "      <td>N520DC</td>\n",
       "      <td>5458</td>\n",
       "      <td>11278</td>\n",
       "      <td>DCA</td>\n",
       "      <td>...</td>\n",
       "      <td>Wednesday</td>\n",
       "      <td>8.8</td>\n",
       "      <td>9.9</td>\n",
       "      <td>Clear</td>\n",
       "      <td>15.0</td>\n",
       "      <td>9.9</td>\n",
       "      <td>Clear</td>\n",
       "      <td>False</td>\n",
       "      <td>2018</td>\n",
       "      <td>12</td>\n",
       "    </tr>\n",
       "    <tr>\n",
       "      <th>4</th>\n",
       "      <td>2018-12-28</td>\n",
       "      <td>B6</td>\n",
       "      <td>B6</td>\n",
       "      <td>B6</td>\n",
       "      <td>464</td>\n",
       "      <td>B6</td>\n",
       "      <td>N935JB</td>\n",
       "      <td>464</td>\n",
       "      <td>14747</td>\n",
       "      <td>SEA</td>\n",
       "      <td>...</td>\n",
       "      <td>Friday</td>\n",
       "      <td>14.9</td>\n",
       "      <td>8.3</td>\n",
       "      <td>Rain, Overcast</td>\n",
       "      <td>10.3</td>\n",
       "      <td>6.4</td>\n",
       "      <td>Rain, Partially cloudy</td>\n",
       "      <td>False</td>\n",
       "      <td>2018</td>\n",
       "      <td>12</td>\n",
       "    </tr>\n",
       "  </tbody>\n",
       "</table>\n",
       "<p>5 rows × 51 columns</p>\n",
       "</div>"
      ],
      "text/plain": [
       "      fl_date mkt_unique_carrier branded_code_share mkt_carrier  \\\n",
       "0  2018-01-20                 WN                 WN          WN   \n",
       "1  2018-12-16                 DL                 DL          DL   \n",
       "2  2018-12-12                 AA                 AA          AA   \n",
       "3  2018-12-26                 AA       AA_CODESHARE          AA   \n",
       "4  2018-12-28                 B6                 B6          B6   \n",
       "\n",
       "   mkt_carrier_fl_num op_unique_carrier tail_num  op_carrier_fl_num  \\\n",
       "0                2310                WN   N470WN               2310   \n",
       "1                 766                DL   N539US                766   \n",
       "2                1187                AA   N145AN               1187   \n",
       "3                5458                OH   N520DC               5458   \n",
       "4                 464                B6   N935JB                464   \n",
       "\n",
       "   origin_airport_id origin  ... day_of_the_week  origin_wind_speed  \\\n",
       "0              10397    ATL  ...        Saturday               10.3   \n",
       "1              12892    LAX  ...          Sunday                5.7   \n",
       "2              12953    LGA  ...       Wednesday               11.4   \n",
       "3              11278    DCA  ...       Wednesday                8.8   \n",
       "4              14747    SEA  ...          Friday               14.9   \n",
       "\n",
       "  origin_visibility       origin_conditions  dest_wind_speed  dest_visibility  \\\n",
       "0               9.9        Partially cloudy             14.5              9.9   \n",
       "1               9.5                   Clear             14.2              9.3   \n",
       "2               9.9  Rain, Partially cloudy             15.2              9.9   \n",
       "3               9.9                   Clear             15.0              9.9   \n",
       "4               8.3          Rain, Overcast             10.3              6.4   \n",
       "\n",
       "          dest_conditions  holiday  year  month  \n",
       "0        Partially cloudy    False  2018      1  \n",
       "1                Overcast    False  2018     12  \n",
       "2        Partially cloudy    False  2018     12  \n",
       "3                   Clear    False  2018     12  \n",
       "4  Rain, Partially cloudy    False  2018     12  \n",
       "\n",
       "[5 rows x 51 columns]"
      ]
     },
     "execution_count": 189,
     "metadata": {},
     "output_type": "execute_result"
    }
   ],
   "source": [
    "flights_with_weather.head()"
   ]
  },
  {
   "cell_type": "code",
   "execution_count": 190,
   "id": "b8c72243-0147-484d-b6ca-4f6b4a462a72",
   "metadata": {},
   "outputs": [],
   "source": [
    "#my_lambda = lambda x: '{:02}'.format(x)"
   ]
  },
  {
   "cell_type": "code",
   "execution_count": 191,
   "id": "ac733295-83a7-42c3-8ebc-c5e77a895fc0",
   "metadata": {},
   "outputs": [],
   "source": [
    "#passengers_amount['month'] = passengers_amount['month'].apply(my_lambda)"
   ]
  },
  {
   "cell_type": "code",
   "execution_count": 192,
   "id": "1fb933ab-12e8-4ef1-9642-3b24ac312f08",
   "metadata": {},
   "outputs": [],
   "source": [
    "#passengers_amount['month'] = passengers_amount['month'].astype(int)"
   ]
  },
  {
   "cell_type": "code",
   "execution_count": 193,
   "id": "a6f19584-8f3b-47f4-b865-50316d93d0e1",
   "metadata": {},
   "outputs": [
    {
     "data": {
      "text/plain": [
       "0      1\n",
       "1     12\n",
       "2      1\n",
       "3     12\n",
       "4     12\n",
       "      ..\n",
       "68    12\n",
       "69     1\n",
       "70    12\n",
       "71     1\n",
       "72    12\n",
       "Name: month, Length: 73, dtype: int64"
      ]
     },
     "execution_count": 193,
     "metadata": {},
     "output_type": "execute_result"
    }
   ],
   "source": [
    "#passengers_amount['month']"
   ]
  },
  {
   "cell_type": "code",
   "execution_count": 195,
   "id": "f0b9c368-6905-43dc-bc4c-5d11a53251fe",
   "metadata": {},
   "outputs": [
    {
     "data": {
      "text/plain": [
       "dtype('int64')"
      ]
     },
     "execution_count": 195,
     "metadata": {},
     "output_type": "execute_result"
    }
   ],
   "source": [
    "pas_2018['year'].dtypes"
   ]
  },
  {
   "cell_type": "code",
   "execution_count": 196,
   "id": "3d75c887-46ea-41e3-986c-a8f09e2d949f",
   "metadata": {},
   "outputs": [],
   "source": [
    "pas_2018 = passengers_amount[passengers_amount['year'] == 2018]"
   ]
  },
  {
   "cell_type": "code",
   "execution_count": 197,
   "id": "489229eb-35c5-4c7c-b084-b176ac7d94b9",
   "metadata": {},
   "outputs": [
    {
     "data": {
      "text/html": [
       "<div>\n",
       "<style scoped>\n",
       "    .dataframe tbody tr th:only-of-type {\n",
       "        vertical-align: middle;\n",
       "    }\n",
       "\n",
       "    .dataframe tbody tr th {\n",
       "        vertical-align: top;\n",
       "    }\n",
       "\n",
       "    .dataframe thead th {\n",
       "        text-align: right;\n",
       "    }\n",
       "</style>\n",
       "<table border=\"1\" class=\"dataframe\">\n",
       "  <thead>\n",
       "    <tr style=\"text-align: right;\">\n",
       "      <th></th>\n",
       "      <th>origin_airport_id</th>\n",
       "      <th>year</th>\n",
       "      <th>month</th>\n",
       "      <th>passengers</th>\n",
       "    </tr>\n",
       "  </thead>\n",
       "  <tbody>\n",
       "    <tr>\n",
       "      <th>0</th>\n",
       "      <td>10194</td>\n",
       "      <td>2018</td>\n",
       "      <td>1</td>\n",
       "      <td>202</td>\n",
       "    </tr>\n",
       "    <tr>\n",
       "      <th>1</th>\n",
       "      <td>10194</td>\n",
       "      <td>2018</td>\n",
       "      <td>12</td>\n",
       "      <td>111</td>\n",
       "    </tr>\n",
       "    <tr>\n",
       "      <th>4</th>\n",
       "      <td>10325</td>\n",
       "      <td>2018</td>\n",
       "      <td>12</td>\n",
       "      <td>2</td>\n",
       "    </tr>\n",
       "    <tr>\n",
       "      <th>6</th>\n",
       "      <td>10397</td>\n",
       "      <td>2018</td>\n",
       "      <td>1</td>\n",
       "      <td>670338</td>\n",
       "    </tr>\n",
       "    <tr>\n",
       "      <th>7</th>\n",
       "      <td>10397</td>\n",
       "      <td>2018</td>\n",
       "      <td>12</td>\n",
       "      <td>743260</td>\n",
       "    </tr>\n",
       "  </tbody>\n",
       "</table>\n",
       "</div>"
      ],
      "text/plain": [
       "   origin_airport_id  year  month  passengers\n",
       "0              10194  2018      1         202\n",
       "1              10194  2018     12         111\n",
       "4              10325  2018     12           2\n",
       "6              10397  2018      1      670338\n",
       "7              10397  2018     12      743260"
      ]
     },
     "execution_count": 197,
     "metadata": {},
     "output_type": "execute_result"
    }
   ],
   "source": [
    "pas_2018.head()"
   ]
  },
  {
   "cell_type": "code",
   "execution_count": 198,
   "id": "054f186d-fc46-4639-bb2a-0d7b3ee30956",
   "metadata": {},
   "outputs": [],
   "source": [
    "flights_2019 = flights_with_weather[flights_with_weather['year'] == 2019]"
   ]
  },
  {
   "cell_type": "code",
   "execution_count": 199,
   "id": "fb454f54-f26e-43db-a8f6-b4c52291314a",
   "metadata": {},
   "outputs": [
    {
     "data": {
      "text/plain": [
       "(104131, 51)"
      ]
     },
     "execution_count": 199,
     "metadata": {},
     "output_type": "execute_result"
    }
   ],
   "source": [
    "flights_2019.shape"
   ]
  },
  {
   "cell_type": "code",
   "execution_count": 210,
   "id": "c8ae6851-a8d2-4986-9982-0892d225d405",
   "metadata": {},
   "outputs": [],
   "source": [
    "### Adding columns based on origin city name\n",
    "flights_2019_pass = pd.merge(flights_2019, pas_2018, how = 'left', left_on=['origin_airport_id', 'month'], right_on=['origin_airport_id','month'])"
   ]
  },
  {
   "cell_type": "code",
   "execution_count": 213,
   "id": "09fee862-85c3-4151-804a-d6f6c5b3f4bd",
   "metadata": {},
   "outputs": [],
   "source": [
    "flights_2019_pass = flights_2019_pass.drop(['year_x', 'year_y'], axis = 1)"
   ]
  },
  {
   "cell_type": "code",
   "execution_count": null,
   "id": "8a38043d-5d87-433c-bb99-f7f723c11fb4",
   "metadata": {},
   "outputs": [],
   "source": [
    "flights_2019_pass.to_csv('flights_2019_pass.csv', sep=\",\", index = False)"
   ]
  },
  {
   "cell_type": "code",
   "execution_count": null,
   "id": "dd9e3fb9-a53f-4954-87e1-39c0be7bf90a",
   "metadata": {},
   "outputs": [],
   "source": []
  }
 ],
 "metadata": {
  "kernelspec": {
   "display_name": "Python 3",
   "language": "python",
   "name": "python3"
  },
  "language_info": {
   "codemirror_mode": {
    "name": "ipython",
    "version": 3
   },
   "file_extension": ".py",
   "mimetype": "text/x-python",
   "name": "python",
   "nbconvert_exporter": "python",
   "pygments_lexer": "ipython3",
   "version": "3.8.8"
  }
 },
 "nbformat": 4,
 "nbformat_minor": 5
}
