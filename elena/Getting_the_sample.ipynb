{
 "cells": [
  {
   "cell_type": "code",
   "execution_count": 1,
   "id": "7ca875de-ecef-4e9b-97b8-53d614a56da9",
   "metadata": {},
   "outputs": [],
   "source": [
    "import os\n",
    "import psycopg2\n",
    "import pandas as pd\n",
    "import json"
   ]
  },
  {
   "cell_type": "code",
   "execution_count": 2,
   "id": "13e42414-cb2d-4c26-913c-a091e6836369",
   "metadata": {},
   "outputs": [],
   "source": [
    "def connect_db():\n",
    "    try:\n",
    "        conn = psycopg2.connect(\n",
    "                host=os.environ['MID_PROJ_DB_HOST'],\n",
    "                database=os.environ['MID_PROJ_DB'],\n",
    "                user=os.environ['MID_PROJ_DB_USERNAME'],\n",
    "                password=os.environ['MID_PROJ_DB_PASSWORD'],\n",
    "                port='5432')\n",
    "        print('Db Connected succsefuly')\n",
    "        return conn\n",
    "    except (Exception, Error) as error:\n",
    "        print(\"Error while connecting\")"
   ]
  },
  {
   "cell_type": "code",
   "execution_count": 3,
   "id": "f5729564-e09e-41dc-b5e1-39c12faea025",
   "metadata": {},
   "outputs": [],
   "source": [
    "def query_db(query,conn):\n",
    "    cursor = conn.cursor()\n",
    "    cursor.execute(query)\n",
    "    return cursor.fetchall()"
   ]
  },
  {
   "cell_type": "code",
   "execution_count": 23,
   "id": "4f23c5fa-35ba-48f8-b83f-2f97174c1094",
   "metadata": {},
   "outputs": [],
   "source": [
    "def write_to_file(csv_name,filename):\n",
    "    df = pd.DataFrame(filename)\n",
    "    df.to_csv(csv_name + '.csv', sep=',')"
   ]
  },
  {
   "cell_type": "code",
   "execution_count": 5,
   "id": "98856140-84a9-4b5a-86cb-337466cd1fbe",
   "metadata": {},
   "outputs": [
    {
     "name": "stdout",
     "output_type": "stream",
     "text": [
      "Db Connected succsefuly\n"
     ]
    }
   ],
   "source": [
    "conn = connect_db()"
   ]
  },
  {
   "cell_type": "code",
   "execution_count": 6,
   "id": "3afb3bf9-2a8a-4eff-9241-c270b22bcddb",
   "metadata": {},
   "outputs": [],
   "source": [
    "flights_jan_dec_19_18_query= \"select * from flights where fl_date > '2018-01-01' and fl_date < '2018-02-01' union select * from flights  where fl_date > '2018-11-30' and fl_date < '2019-02-01' union select * from flights where  fl_date > '2019-11-30' and fl_date < '2020-01-01' LIMIT 300000;\"\n",
    "flights_jan_dec_19_18 = query_db(flights_jan_dec_19_18_query,conn)"
   ]
  },
  {
   "cell_type": "code",
   "execution_count": 22,
   "id": "2a784b89-1edf-406f-96fc-88750efee096",
   "metadata": {},
   "outputs": [],
   "source": [
    "write_to_file('flights_jan_dec_19_18',flights_jan_dec_19_18)"
   ]
  },
  {
   "cell_type": "code",
   "execution_count": null,
   "id": "369073be-c0c3-4e43-a9a9-227f5a5e25e4",
   "metadata": {},
   "outputs": [],
   "source": []
  }
 ],
 "metadata": {
  "kernelspec": {
   "display_name": "Python 3",
   "language": "python",
   "name": "python3"
  },
  "language_info": {
   "codemirror_mode": {
    "name": "ipython",
    "version": 3
   },
   "file_extension": ".py",
   "mimetype": "text/x-python",
   "name": "python",
   "nbconvert_exporter": "python",
   "pygments_lexer": "ipython3",
   "version": "3.8.8"
  }
 },
 "nbformat": 4,
 "nbformat_minor": 5
}
