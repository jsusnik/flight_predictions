{
 "cells": [
  {
   "cell_type": "code",
   "execution_count": 1,
   "id": "7ca875de-ecef-4e9b-97b8-53d614a56da9",
   "metadata": {},
   "outputs": [],
   "source": [
    "import os\n",
    "import psycopg2\n",
    "import pandas as pd\n",
    "import json"
   ]
  },
  {
   "cell_type": "code",
   "execution_count": 2,
   "id": "13e42414-cb2d-4c26-913c-a091e6836369",
   "metadata": {},
   "outputs": [],
   "source": [
    "def connect_db():\n",
    "    try:\n",
    "        conn = psycopg2.connect(\n",
    "                host=os.environ['MID_PROJ_DB_HOST'],\n",
    "                database=os.environ['MID_PROJ_DB'],\n",
    "                user=os.environ['MID_PROJ_DB_USERNAME'],\n",
    "                password=os.environ['MID_PROJ_DB_PASSWORD'],\n",
    "                port='5432')\n",
    "        print('Db Connected succsefuly')\n",
    "        return conn\n",
    "    except (Exception, Error) as error:\n",
    "        print(\"Error while connecting\")"
   ]
  },
  {
   "cell_type": "code",
   "execution_count": 130,
   "id": "f5729564-e09e-41dc-b5e1-39c12faea025",
   "metadata": {},
   "outputs": [],
   "source": [
    "def query_db(query,conn):\n",
    "    cursor = conn.cursor()\n",
    "    cursor.execute(query)\n",
    "    return {'data': cursor.fetchall(), 'columns': [desc[0].strip() for desc in cursor.description]} "
   ]
  },
  {
   "cell_type": "code",
   "execution_count": 131,
   "id": "4f23c5fa-35ba-48f8-b83f-2f97174c1094",
   "metadata": {},
   "outputs": [],
   "source": [
    "def write_to_file(csv_name,query_output):\n",
    "    df = pd.DataFrame(query_output['data'])\n",
    "    df.columns = query_output['columns']\n",
    "    df.to_csv(csv_name + '.csv', sep=\",\", index = False)"
   ]
  },
  {
   "cell_type": "code",
   "execution_count": 39,
   "id": "98856140-84a9-4b5a-86cb-337466cd1fbe",
   "metadata": {},
   "outputs": [
    {
     "name": "stdout",
     "output_type": "stream",
     "text": [
      "Db Connected succsefuly\n"
     ]
    }
   ],
   "source": [
    "conn = connect_db()"
   ]
  },
  {
   "cell_type": "code",
   "execution_count": 133,
   "id": "3afb3bf9-2a8a-4eff-9241-c270b22bcddb",
   "metadata": {},
   "outputs": [],
   "source": [
    "flights_jan_dec_19_18_query= \"select * from flights where fl_date > '2018-01-01' and fl_date < '2018-02-01' union select * from flights  where fl_date > '2018-11-30' and fl_date < '2019-02-01' union select * from flights where  fl_date > '2019-11-30' and fl_date < '2020-01-01' LIMIT 300000;\"\n",
    "flights_jan_dec_19_18 = query_db(flights_jan_dec_19_18_query,conn)"
   ]
  },
  {
   "cell_type": "code",
   "execution_count": 134,
   "id": "b56df67d-0e66-4040-af61-a7c77d6660d3",
   "metadata": {},
   "outputs": [],
   "source": [
    "write_to_file('flights_jan_dec_19_18',flights_jan_dec_19_18)"
   ]
  },
  {
   "cell_type": "code",
   "execution_count": 25,
   "id": "1c1c8676-dbd8-4eff-bbf8-ab306db40116",
   "metadata": {},
   "outputs": [],
   "source": [
    "passengers_jan_dec_19_18_query = \"select * from passengers where \\\"month\\\" in (1, 12) and year in (2018, 2019) LIMIT 300000;\"\n",
    "passengers_jan_dec_19_18 = query_db(passengers_jan_dec_19_18_query,conn)"
   ]
  },
  {
   "cell_type": "code",
   "execution_count": 26,
   "id": "2a784b89-1edf-406f-96fc-88750efee096",
   "metadata": {},
   "outputs": [],
   "source": [
    "write_to_file('passengers_jan_dec_19_18',passengers_jan_dec_19_18)"
   ]
  },
  {
   "cell_type": "code",
   "execution_count": 136,
   "id": "369073be-c0c3-4e43-a9a9-227f5a5e25e4",
   "metadata": {},
   "outputs": [
    {
     "name": "stderr",
     "output_type": "stream",
     "text": [
      "/home/elena/anaconda3/lib/python3.8/site-packages/IPython/core/interactiveshell.py:3165: DtypeWarning: Columns (25) have mixed types.Specify dtype option on import or set low_memory=False.\n",
      "  has_raised = await self.run_ast_nodes(code_ast.body, cell_name,\n"
     ]
    }
   ],
   "source": [
    "flights = pd.read_csv('flights_jan_dec_19_18.csv', sep = ',')"
   ]
  },
  {
   "cell_type": "code",
   "execution_count": null,
   "id": "06665568-a3e8-40b8-8fc4-4ae9a68f37b5",
   "metadata": {},
   "outputs": [],
   "source": []
  },
  {
   "cell_type": "code",
   "execution_count": null,
   "id": "5d73fe38-ae0e-4924-b490-157c339acd8d",
   "metadata": {},
   "outputs": [],
   "source": []
  }
 ],
 "metadata": {
  "kernelspec": {
   "display_name": "Python 3",
   "language": "python",
   "name": "python3"
  },
  "language_info": {
   "codemirror_mode": {
    "name": "ipython",
    "version": 3
   },
   "file_extension": ".py",
   "mimetype": "text/x-python",
   "name": "python",
   "nbconvert_exporter": "python",
   "pygments_lexer": "ipython3",
   "version": "3.8.8"
  }
 },
 "nbformat": 4,
 "nbformat_minor": 5
}
